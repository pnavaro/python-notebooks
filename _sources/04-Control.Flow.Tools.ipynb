{
 "cells": [
  {
   "cell_type": "markdown",
   "metadata": {
    "slideshow": {
     "slide_type": "slide"
    }
   },
   "source": [
    "# Control Flow Tools"
   ]
  },
  {
   "cell_type": "markdown",
   "metadata": {
    "slideshow": {
     "slide_type": "slide"
    }
   },
   "source": [
    "## While loop\n",
    "\n",
    "- Don't forget the ':' character.\n",
    "- The body of the loop is indented"
   ]
  },
  {
   "cell_type": "code",
   "execution_count": 1,
   "metadata": {
    "execution": {
     "iopub.execute_input": "2020-09-12T13:29:14.468588Z",
     "iopub.status.busy": "2020-09-12T13:29:14.467648Z",
     "iopub.status.idle": "2020-09-12T13:29:14.471122Z",
     "shell.execute_reply": "2020-09-12T13:29:14.471838Z"
    },
    "slideshow": {
     "slide_type": "fragment"
    }
   },
   "outputs": [
    {
     "name": "stdout",
     "output_type": "stream",
     "text": [
      "1.0,2.0,1.5,1.66667,1.6,1.625,1.61538,1.61905,1.61765,1.61818,1.61798,1.61806,1.61803,1.61804,"
     ]
    }
   ],
   "source": [
    "# Fibonacci series:\n",
    "# the sum of two elements defines the next\n",
    "a, b = 0, 1\n",
    "while b < 500:\n",
    "    a, b = b, a+b\n",
    "    print(round(b/a,5), end=\",\")"
   ]
  },
  {
   "cell_type": "markdown",
   "metadata": {
    "slideshow": {
     "slide_type": "slide"
    }
   },
   "source": [
    "## `if` Statements\n",
    "\n",
    "```python\n",
    "True, False, and, or, not, ==, is, !=, is not, >, >=, <, <=\n",
    "```\n",
    "\n"
   ]
  },
  {
   "cell_type": "code",
   "execution_count": 2,
   "metadata": {
    "execution": {
     "iopub.execute_input": "2020-09-12T13:29:14.477934Z",
     "iopub.status.busy": "2020-09-12T13:29:14.477066Z",
     "iopub.status.idle": "2020-09-12T13:29:14.480455Z",
     "shell.execute_reply": "2020-09-12T13:29:14.481074Z"
    },
    "slideshow": {
     "slide_type": "fragment"
    }
   },
   "outputs": [
    {
     "name": "stdout",
     "output_type": "stream",
     "text": [
      "More\n"
     ]
    }
   ],
   "source": [
    "x = 42\n",
    "if x < 0:\n",
    "    x = 0\n",
    "    print('Negative changed to zero')\n",
    "elif x == 0:\n",
    "    print('Zero')\n",
    "elif x == 1:\n",
    "    print('Single')\n",
    "else:\n",
    "    print('More')"
   ]
  },
  {
   "cell_type": "markdown",
   "metadata": {
    "slideshow": {
     "slide_type": "fragment"
    }
   },
   "source": [
    "switch or case statements don't exist in Python."
   ]
  },
  {
   "cell_type": "markdown",
   "metadata": {
    "slideshow": {
     "slide_type": "slide"
    }
   },
   "source": [
    "### Exercise [Collatz conjecture](https://en.wikipedia.org/wiki/Collatz_conjecture)\n",
    "\n",
    "Consider the following operation on an arbitrary positive integer:\n",
    " - If the number is even, divide it by two.\n",
    " - If the number is odd, triple it and add one.\n",
    "\n",
    "The conjecture is that no matter what initial value of this integer, the sequence will always reach 1.\n",
    " - Test the Collatz conjecture for n = 100000.\n",
    " - How many steps do you need to reach 1 ?\n",
    " "
   ]
  },
  {
   "cell_type": "markdown",
   "metadata": {
    "slideshow": {
     "slide_type": "slide"
    }
   },
   "source": [
    "## Loop over an iterable object\n",
    "\n",
    "We use for statement for looping over an iterable object. If we use it with a string, it loops over its characters.\n"
   ]
  },
  {
   "cell_type": "code",
   "execution_count": 3,
   "metadata": {
    "execution": {
     "iopub.execute_input": "2020-09-12T13:29:14.485939Z",
     "iopub.status.busy": "2020-09-12T13:29:14.485077Z",
     "iopub.status.idle": "2020-09-12T13:29:14.489057Z",
     "shell.execute_reply": "2020-09-12T13:29:14.488446Z"
    },
    "slideshow": {
     "slide_type": "fragment"
    }
   },
   "outputs": [
    {
     "name": "stdout",
     "output_type": "stream",
     "text": [
      "p\n",
      "y\n",
      "t\n",
      "h\n",
      "o\n",
      "n\n"
     ]
    }
   ],
   "source": [
    "for c in \"python\":\n",
    "    print(c)"
   ]
  },
  {
   "cell_type": "code",
   "execution_count": 4,
   "metadata": {
    "execution": {
     "iopub.execute_input": "2020-09-12T13:29:14.494295Z",
     "iopub.status.busy": "2020-09-12T13:29:14.493411Z",
     "iopub.status.idle": "2020-09-12T13:29:14.497306Z",
     "shell.execute_reply": "2020-09-12T13:29:14.496704Z"
    },
    "slideshow": {
     "slide_type": "slide"
    }
   },
   "outputs": [
    {
     "name": "stdout",
     "output_type": "stream",
     "text": [
      "Python 6\n",
      "ENSAI 5\n",
      "september 9\n",
      "7th 3\n",
      "2020 4\n"
     ]
    }
   ],
   "source": [
    "for word in \"Python ENSAI september 7th 2020\".split(\" \"):\n",
    "    print(word, len(word))   "
   ]
  },
  {
   "cell_type": "markdown",
   "metadata": {
    "slideshow": {
     "slide_type": "slide"
    }
   },
   "source": [
    "### Exercise: Anagram\n",
    "\n",
    "An anagram is word or phrase formed by rearranging the letters of a different word or phrase, typically using all the original letters exactly once.\n",
    "\n",
    "Write a code that print True if s1 is an anagram of s2. \n",
    "To do it, remove every character present in both strings. Check \n",
    "you obtain two empty strings.\n",
    "\n",
    "Hint: `s = s.replace(c,\"\",1)` removes the character `c` in string `s` one time.\n",
    "\n",
    "```python\n",
    "s1 = \"pascal obispo\"\n",
    "s2 = \"pablo picasso\"\n",
    "..\n",
    "True\n",
    "```"
   ]
  },
  {
   "cell_type": "markdown",
   "metadata": {
    "slideshow": {
     "slide_type": "slide"
    }
   },
   "source": [
    "## Loop with range function\n",
    "\n",
    "- It generates arithmetic progressions\n",
    "- It is possible to let the range start at another number, or to specify a different increment.\n",
    "- Since Python 3, the object returned by `range()` doesn’t return a list to save memory space. `xrange` no longer exists.\n",
    "- Use function list() to creates it."
   ]
  },
  {
   "cell_type": "code",
   "execution_count": 5,
   "metadata": {
    "execution": {
     "iopub.execute_input": "2020-09-12T13:29:14.510931Z",
     "iopub.status.busy": "2020-09-12T13:29:14.509656Z",
     "iopub.status.idle": "2020-09-12T13:29:14.513497Z",
     "shell.execute_reply": "2020-09-12T13:29:14.514125Z"
    },
    "slideshow": {
     "slide_type": "fragment"
    }
   },
   "outputs": [
    {
     "data": {
      "text/plain": [
       "[0, 1, 2, 3, 4]"
      ]
     },
     "execution_count": 5,
     "metadata": {},
     "output_type": "execute_result"
    }
   ],
   "source": [
    "list(range(5))"
   ]
  },
  {
   "cell_type": "code",
   "execution_count": 6,
   "metadata": {
    "execution": {
     "iopub.execute_input": "2020-09-12T13:29:14.519873Z",
     "iopub.status.busy": "2020-09-12T13:29:14.518878Z",
     "iopub.status.idle": "2020-09-12T13:29:14.522334Z",
     "shell.execute_reply": "2020-09-12T13:29:14.523025Z"
    },
    "slideshow": {
     "slide_type": "fragment"
    }
   },
   "outputs": [
    {
     "data": {
      "text/plain": [
       "[2, 3, 4]"
      ]
     },
     "execution_count": 6,
     "metadata": {},
     "output_type": "execute_result"
    }
   ],
   "source": [
    "list(range(2, 5))"
   ]
  },
  {
   "cell_type": "code",
   "execution_count": 7,
   "metadata": {
    "execution": {
     "iopub.execute_input": "2020-09-12T13:29:14.528555Z",
     "iopub.status.busy": "2020-09-12T13:29:14.527604Z",
     "iopub.status.idle": "2020-09-12T13:29:14.531825Z",
     "shell.execute_reply": "2020-09-12T13:29:14.531192Z"
    },
    "slideshow": {
     "slide_type": "fragment"
    }
   },
   "outputs": [
    {
     "data": {
      "text/plain": [
       "[-1, -2, -3, -4]"
      ]
     },
     "execution_count": 7,
     "metadata": {},
     "output_type": "execute_result"
    }
   ],
   "source": [
    "list(range(-1, -5, -1))"
   ]
  },
  {
   "cell_type": "code",
   "execution_count": 8,
   "metadata": {
    "execution": {
     "iopub.execute_input": "2020-09-12T13:29:14.536885Z",
     "iopub.status.busy": "2020-09-12T13:29:14.535974Z",
     "iopub.status.idle": "2020-09-12T13:29:14.539202Z",
     "shell.execute_reply": "2020-09-12T13:29:14.539818Z"
    },
    "slideshow": {
     "slide_type": "fragment"
    }
   },
   "outputs": [
    {
     "name": "stdout",
     "output_type": "stream",
     "text": [
      "0 1 2 3 4 "
     ]
    }
   ],
   "source": [
    "for i in range(5):\n",
    "    print(i, end=' ')"
   ]
  },
  {
   "cell_type": "markdown",
   "metadata": {
    "slideshow": {
     "slide_type": "slide"
    }
   },
   "source": [
    "### Exercise Exponential\n",
    "\n",
    "- Write some code to compute the exponential mathematical constant $e \\simeq 2.718281828459045$ using the taylor series developed at 0 and without any import of external modules:\n",
    "\n",
    "$$ e \\simeq \\sum_{n=0}^{50} \\frac{1}{n!} $$"
   ]
  },
  {
   "cell_type": "markdown",
   "metadata": {
    "slideshow": {
     "slide_type": "slide"
    }
   },
   "source": [
    "## `break` Statement."
   ]
  },
  {
   "cell_type": "code",
   "execution_count": 9,
   "metadata": {
    "execution": {
     "iopub.execute_input": "2020-09-12T13:29:14.546406Z",
     "iopub.status.busy": "2020-09-12T13:29:14.545429Z",
     "iopub.status.idle": "2020-09-12T13:29:14.548856Z",
     "shell.execute_reply": "2020-09-12T13:29:14.549479Z"
    },
    "slideshow": {
     "slide_type": "fragment"
    }
   },
   "outputs": [
    {
     "name": "stdout",
     "output_type": "stream",
     "text": [
      "3 is a prime number\n",
      "4  =  2 * 2\n",
      "5 is a prime number\n",
      "6  =  2 * 3\n",
      "7 is a prime number\n",
      "8  =  2 * 4\n",
      "9 is a prime number\n"
     ]
    }
   ],
   "source": [
    "for n in range(2, 10):     # n = 2,3,4,5,6,7,8,9\n",
    "    for x in range(2, n):  # x = 2, ..., n-1\n",
    "        if n % x == 0:     # Return the division remain (mod)\n",
    "            print(n, \" = \", x, \"*\", n//x)\n",
    "            break\n",
    "        else:\n",
    "            print(\"%d is a prime number\" % n)\n",
    "            break"
   ]
  },
  {
   "cell_type": "markdown",
   "metadata": {
    "slideshow": {
     "slide_type": "slide"
    }
   },
   "source": [
    "###  `iter` Function"
   ]
  },
  {
   "cell_type": "code",
   "execution_count": 10,
   "metadata": {
    "execution": {
     "iopub.execute_input": "2020-09-12T13:29:14.555184Z",
     "iopub.status.busy": "2020-09-12T13:29:14.554190Z",
     "iopub.status.idle": "2020-09-12T13:29:14.557597Z",
     "shell.execute_reply": "2020-09-12T13:29:14.558257Z"
    },
    "slideshow": {
     "slide_type": "fragment"
    }
   },
   "outputs": [
    {
     "name": "stdout",
     "output_type": "stream",
     "text": [
      "['Python', 'september', '7,', '14', '2020', 'ENSAI', 'Rennes']\n"
     ]
    }
   ],
   "source": [
    "course = \"\"\" Python september 7, 14 2020 ENSAI Rennes \"\"\".split()\n",
    "print(course)"
   ]
  },
  {
   "cell_type": "code",
   "execution_count": 11,
   "metadata": {
    "execution": {
     "iopub.execute_input": "2020-09-12T13:29:14.563108Z",
     "iopub.status.busy": "2020-09-12T13:29:14.562257Z",
     "iopub.status.idle": "2020-09-12T13:29:14.565344Z",
     "shell.execute_reply": "2020-09-12T13:29:14.565966Z"
    },
    "slideshow": {
     "slide_type": "fragment"
    }
   },
   "outputs": [
    {
     "name": "stdout",
     "output_type": "stream",
     "text": [
      "Python\n"
     ]
    }
   ],
   "source": [
    "iterator = iter(course)\n",
    "print(iterator.__next__())"
   ]
  },
  {
   "cell_type": "code",
   "execution_count": 12,
   "metadata": {
    "execution": {
     "iopub.execute_input": "2020-09-12T13:29:14.570761Z",
     "iopub.status.busy": "2020-09-12T13:29:14.569788Z",
     "iopub.status.idle": "2020-09-12T13:29:14.573163Z",
     "shell.execute_reply": "2020-09-12T13:29:14.573749Z"
    },
    "slideshow": {
     "slide_type": "fragment"
    }
   },
   "outputs": [
    {
     "name": "stdout",
     "output_type": "stream",
     "text": [
      "september\n"
     ]
    }
   ],
   "source": [
    "print(iterator.__next__())"
   ]
  },
  {
   "cell_type": "markdown",
   "metadata": {
    "slideshow": {
     "slide_type": "slide"
    }
   },
   "source": [
    "## Defining Function: `def` statement"
   ]
  },
  {
   "cell_type": "code",
   "execution_count": 13,
   "metadata": {
    "execution": {
     "iopub.execute_input": "2020-09-12T13:29:14.579774Z",
     "iopub.status.busy": "2020-09-12T13:29:14.578850Z",
     "iopub.status.idle": "2020-09-12T13:29:14.582210Z",
     "shell.execute_reply": "2020-09-12T13:29:14.582794Z"
    },
    "slideshow": {
     "slide_type": "fragment"
    }
   },
   "outputs": [
    {
     "data": {
      "text/plain": [
       "True"
      ]
     },
     "execution_count": 13,
     "metadata": {},
     "output_type": "execute_result"
    }
   ],
   "source": [
    "def is_palindromic(s):\n",
    "    \"Return True if the input sequence is a palindrome\"\n",
    "    return s == s[::-1]\n",
    "\n",
    "\n",
    "is_palindromic(\"kayak\")"
   ]
  },
  {
   "cell_type": "markdown",
   "metadata": {
    "slideshow": {
     "slide_type": "fragment"
    }
   },
   "source": [
    "- Body of the function start must be indented\n",
    "- Functions without a return statement do return a value called `None`.\n"
   ]
  },
  {
   "cell_type": "code",
   "execution_count": 14,
   "metadata": {
    "execution": {
     "iopub.execute_input": "2020-09-12T13:29:14.589109Z",
     "iopub.status.busy": "2020-09-12T13:29:14.588088Z",
     "iopub.status.idle": "2020-09-12T13:29:14.591652Z",
     "shell.execute_reply": "2020-09-12T13:29:14.592388Z"
    },
    "slideshow": {
     "slide_type": "fragment"
    }
   },
   "outputs": [
    {
     "name": "stdout",
     "output_type": "stream",
     "text": [
      "0 1 1 2 3 5 8 13 21 34 55 89 144 233 377 610 987 1597 \n",
      "\n",
      "None\n"
     ]
    }
   ],
   "source": [
    "def fib(n):\n",
    "    \"\"\"Print a Fibonacci series up to n.\"\"\"\n",
    "    a, b = 0, 1\n",
    "    while a < n:\n",
    "         print(a, end=' ')  # the end optional argument is \\n by default\n",
    "         a, b = b, a+b\n",
    "    print(\"\\n\") # new line\n",
    "     \n",
    "result = fib(2000)\n",
    "print(result) # is None"
   ]
  },
  {
   "cell_type": "markdown",
   "metadata": {
    "slideshow": {
     "slide_type": "slide"
    }
   },
   "source": [
    "## Documentation string\n",
    "- It’s good practice to include docstrings in code that you write, so make a habit of it."
   ]
  },
  {
   "cell_type": "code",
   "execution_count": 15,
   "metadata": {
    "execution": {
     "iopub.execute_input": "2020-09-12T13:29:14.597757Z",
     "iopub.status.busy": "2020-09-12T13:29:14.596784Z",
     "iopub.status.idle": "2020-09-12T13:29:14.599998Z",
     "shell.execute_reply": "2020-09-12T13:29:14.600637Z"
    },
    "slideshow": {
     "slide_type": "fragment"
    }
   },
   "outputs": [
    {
     "name": "stdout",
     "output_type": "stream",
     "text": [
      "Do nothing, but document it.\n",
      "\n",
      "     No, really, it doesn't do anything.\n",
      "     \n"
     ]
    }
   ],
   "source": [
    "def my_function( foo):\n",
    "     \"\"\"Do nothing, but document it.\n",
    "\n",
    "     No, really, it doesn't do anything.\n",
    "     \"\"\"\n",
    "     pass\n",
    "\n",
    "print(my_function.__doc__)"
   ]
  },
  {
   "cell_type": "code",
   "execution_count": 16,
   "metadata": {
    "execution": {
     "iopub.execute_input": "2020-09-12T13:29:14.606173Z",
     "iopub.status.busy": "2020-09-12T13:29:14.605214Z",
     "iopub.status.idle": "2020-09-12T13:29:14.608580Z",
     "shell.execute_reply": "2020-09-12T13:29:14.609204Z"
    },
    "slideshow": {
     "slide_type": "fragment"
    }
   },
   "outputs": [
    {
     "name": "stdout",
     "output_type": "stream",
     "text": [
      "Help on function my_function in module __main__:\n",
      "\n",
      "my_function(foo)\n",
      "    Do nothing, but document it.\n",
      "    \n",
      "    No, really, it doesn't do anything.\n",
      "\n"
     ]
    }
   ],
   "source": [
    "help(my_function)"
   ]
  },
  {
   "cell_type": "markdown",
   "metadata": {
    "slideshow": {
     "slide_type": "slide"
    }
   },
   "source": [
    "## Default Argument Values"
   ]
  },
  {
   "cell_type": "code",
   "execution_count": 17,
   "metadata": {
    "execution": {
     "iopub.execute_input": "2020-09-12T13:29:14.614923Z",
     "iopub.status.busy": "2020-09-12T13:29:14.613940Z",
     "iopub.status.idle": "2020-09-12T13:29:14.617292Z",
     "shell.execute_reply": "2020-09-12T13:29:14.617924Z"
    },
    "slideshow": {
     "slide_type": "fragment"
    }
   },
   "outputs": [
    {
     "name": "stdout",
     "output_type": "stream",
     "text": [
      "6\n",
      "bca\n"
     ]
    }
   ],
   "source": [
    "def f(a,b=5):\n",
    "    return a+b\n",
    "\n",
    "print(f(1))\n",
    "print(f(b=\"a\",a=\"bc\"))"
   ]
  },
  {
   "cell_type": "markdown",
   "metadata": {
    "slideshow": {
     "slide_type": "slide"
    }
   },
   "source": [
    "**Important warning**: The default value is evaluated only once. "
   ]
  },
  {
   "cell_type": "code",
   "execution_count": 18,
   "metadata": {
    "execution": {
     "iopub.execute_input": "2020-09-12T13:29:14.623182Z",
     "iopub.status.busy": "2020-09-12T13:29:14.622234Z",
     "iopub.status.idle": "2020-09-12T13:29:14.625560Z",
     "shell.execute_reply": "2020-09-12T13:29:14.626220Z"
    },
    "slideshow": {
     "slide_type": "fragment"
    }
   },
   "outputs": [
    {
     "name": "stdout",
     "output_type": "stream",
     "text": [
      "[1]\n"
     ]
    }
   ],
   "source": [
    "def f(a, L=[]):\n",
    "    L.append(a)\n",
    "    return L\n",
    "\n",
    "print(f(1))"
   ]
  },
  {
   "cell_type": "code",
   "execution_count": 19,
   "metadata": {
    "execution": {
     "iopub.execute_input": "2020-09-12T13:29:14.631229Z",
     "iopub.status.busy": "2020-09-12T13:29:14.630218Z",
     "iopub.status.idle": "2020-09-12T13:29:14.633463Z",
     "shell.execute_reply": "2020-09-12T13:29:14.634043Z"
    },
    "slideshow": {
     "slide_type": "fragment"
    }
   },
   "outputs": [
    {
     "name": "stdout",
     "output_type": "stream",
     "text": [
      "[1, 2]\n"
     ]
    }
   ],
   "source": [
    "print(f(2)) # L = [1]"
   ]
  },
  {
   "cell_type": "code",
   "execution_count": 20,
   "metadata": {
    "execution": {
     "iopub.execute_input": "2020-09-12T13:29:14.638655Z",
     "iopub.status.busy": "2020-09-12T13:29:14.637811Z",
     "iopub.status.idle": "2020-09-12T13:29:14.640777Z",
     "shell.execute_reply": "2020-09-12T13:29:14.641393Z"
    },
    "slideshow": {
     "slide_type": "fragment"
    }
   },
   "outputs": [
    {
     "name": "stdout",
     "output_type": "stream",
     "text": [
      "[1, 2, 3]\n"
     ]
    }
   ],
   "source": [
    "print(f(3)) # L = [1,2]"
   ]
  },
  {
   "cell_type": "markdown",
   "metadata": {
    "slideshow": {
     "slide_type": "slide"
    }
   },
   "source": [
    "## Function Annotations\n",
    "\n",
    "Completely optional metadata information about the types used by user-defined functions.\n",
    "These type annotations conforming to [PEP 484](https://www.python.org/dev/peps/pep-0484/) could be statically used by [MyPy](http://mypy-lang.org)."
   ]
  },
  {
   "cell_type": "code",
   "execution_count": 21,
   "metadata": {
    "execution": {
     "iopub.execute_input": "2020-09-12T13:29:14.647791Z",
     "iopub.status.busy": "2020-09-12T13:29:14.646839Z",
     "iopub.status.idle": "2020-09-12T13:29:14.650180Z",
     "shell.execute_reply": "2020-09-12T13:29:14.650799Z"
    },
    "slideshow": {
     "slide_type": "fragment"
    }
   },
   "outputs": [
    {
     "name": "stdout",
     "output_type": "stream",
     "text": [
      "Annotations: {'ham': <class 'str'>, 'eggs': <class 'str'>, 'return': <class 'str'>}\n",
      "Arguments: spam eggs\n",
      "Help on function f in module __main__:\n",
      "\n",
      "f(ham: str, eggs: str = 'eggs') -> str\n",
      "\n",
      "None\n"
     ]
    }
   ],
   "source": [
    "def f(ham: str, eggs: str = 'eggs') -> str:\n",
    "     print(\"Annotations:\", f.__annotations__)\n",
    "     print(\"Arguments:\", ham, eggs)\n",
    "     return ham + ' and ' + eggs\n",
    "\n",
    "f('spam')\n",
    "help(f)\n",
    "print(f.__doc__)"
   ]
  },
  {
   "cell_type": "markdown",
   "metadata": {
    "slideshow": {
     "slide_type": "slide"
    }
   },
   "source": [
    "## Arbitrary Argument Lists\n",
    "\n",
    "Arguments can be wrapped up in a tuple or a list with form *args"
   ]
  },
  {
   "cell_type": "code",
   "execution_count": 22,
   "metadata": {
    "execution": {
     "iopub.execute_input": "2020-09-12T13:29:14.656254Z",
     "iopub.status.busy": "2020-09-12T13:29:14.655363Z",
     "iopub.status.idle": "2020-09-12T13:29:14.658745Z",
     "shell.execute_reply": "2020-09-12T13:29:14.659364Z"
    },
    "slideshow": {
     "slide_type": "fragment"
    }
   },
   "outputs": [
    {
     "name": "stdout",
     "output_type": "stream",
     "text": [
      "('big', 'data')\n",
      "big data\n"
     ]
    }
   ],
   "source": [
    "def f(*args, sep=\" \"):\n",
    "    print (args)\n",
    "    return sep.join(args)\n",
    "\n",
    "print(f(\"big\",\"data\"))"
   ]
  },
  {
   "cell_type": "markdown",
   "metadata": {
    "slideshow": {
     "slide_type": "fragment"
    }
   },
   "source": [
    "- Normally, these variadic arguments will be last in the list of formal parameters. \n",
    "- Any formal parameters which occur after the *args parameter are ‘keyword-only’ arguments."
   ]
  },
  {
   "cell_type": "markdown",
   "metadata": {
    "slideshow": {
     "slide_type": "slide"
    }
   },
   "source": [
    "## Keyword Arguments Dictionary\n",
    "\n",
    "A final formal parameter of the form **name receives a dictionary."
   ]
  },
  {
   "cell_type": "code",
   "execution_count": 23,
   "metadata": {
    "execution": {
     "iopub.execute_input": "2020-09-12T13:29:14.664908Z",
     "iopub.status.busy": "2020-09-12T13:29:14.664054Z",
     "iopub.status.idle": "2020-09-12T13:29:14.666369Z",
     "shell.execute_reply": "2020-09-12T13:29:14.667195Z"
    },
    "slideshow": {
     "slide_type": "fragment"
    }
   },
   "outputs": [],
   "source": [
    "def add_contact(kind, *args, **kwargs):\n",
    "    print(args)\n",
    "    print(\"-\" * 40)\n",
    "    for key, value in kwargs.items():\n",
    "        print(key, \":\", value)"
   ]
  },
  {
   "cell_type": "markdown",
   "metadata": {
    "slideshow": {
     "slide_type": "fragment"
    }
   },
   "source": [
    "\\*name must occur before \\*\\*name"
   ]
  },
  {
   "cell_type": "code",
   "execution_count": 24,
   "metadata": {
    "execution": {
     "iopub.execute_input": "2020-09-12T13:29:14.672042Z",
     "iopub.status.busy": "2020-09-12T13:29:14.671191Z",
     "iopub.status.idle": "2020-09-12T13:29:14.674474Z",
     "shell.execute_reply": "2020-09-12T13:29:14.675093Z"
    },
    "slideshow": {
     "slide_type": "slide"
    }
   },
   "outputs": [
    {
     "name": "stdout",
     "output_type": "stream",
     "text": [
      "('Smith',)\n",
      "----------------------------------------\n",
      "phone : 555 8765\n",
      "email : john.smith@python.org\n"
     ]
    }
   ],
   "source": [
    "add_contact(\"John\", \"Smith\",\n",
    "           phone=\"555 8765\",\n",
    "           email=\"john.smith@python.org\")"
   ]
  },
  {
   "cell_type": "markdown",
   "metadata": {
    "slideshow": {
     "slide_type": "slide"
    }
   },
   "source": [
    "## Lambda Expressions\n",
    "\n",
    "Lambda functions can be used wherever function objects are required."
   ]
  },
  {
   "cell_type": "code",
   "execution_count": 25,
   "metadata": {
    "execution": {
     "iopub.execute_input": "2020-09-12T13:29:14.680542Z",
     "iopub.status.busy": "2020-09-12T13:29:14.679524Z",
     "iopub.status.idle": "2020-09-12T13:29:14.683173Z",
     "shell.execute_reply": "2020-09-12T13:29:14.683772Z"
    },
    "slideshow": {
     "slide_type": "fragment"
    }
   },
   "outputs": [
    {
     "data": {
      "text/plain": [
       "8"
      ]
     },
     "execution_count": 25,
     "metadata": {},
     "output_type": "execute_result"
    }
   ],
   "source": [
    "f = lambda x : 2 * x + 2\n",
    "f(3)"
   ]
  },
  {
   "cell_type": "code",
   "execution_count": 26,
   "metadata": {
    "execution": {
     "iopub.execute_input": "2020-09-12T13:29:14.689403Z",
     "iopub.status.busy": "2020-09-12T13:29:14.688394Z",
     "iopub.status.idle": "2020-09-12T13:29:14.691761Z",
     "shell.execute_reply": "2020-09-12T13:29:14.692349Z"
    },
    "slideshow": {
     "slide_type": "fragment"
    }
   },
   "outputs": [
    {
     "name": "stdout",
     "output_type": "stream",
     "text": [
      "6\n"
     ]
    }
   ],
   "source": [
    "taxicab_distance = lambda x_a,y_a,x_b,y_b: abs(x_b-x_a)+abs(y_b-y_a)\n",
    "print(taxicab_distance(3,4,7,2))"
   ]
  },
  {
   "cell_type": "markdown",
   "metadata": {
    "slideshow": {
     "slide_type": "slide"
    }
   },
   "source": [
    "lambda functions can reference variables from the containing scope:\n",
    "\n"
   ]
  },
  {
   "cell_type": "code",
   "execution_count": 27,
   "metadata": {
    "execution": {
     "iopub.execute_input": "2020-09-12T13:29:14.698323Z",
     "iopub.status.busy": "2020-09-12T13:29:14.697370Z",
     "iopub.status.idle": "2020-09-12T13:29:14.700970Z",
     "shell.execute_reply": "2020-09-12T13:29:14.701575Z"
    },
    "slideshow": {
     "slide_type": "fragment"
    }
   },
   "outputs": [
    {
     "data": {
      "text/plain": [
       "(42, 43)"
      ]
     },
     "execution_count": 27,
     "metadata": {},
     "output_type": "execute_result"
    }
   ],
   "source": [
    "def make_incrementor(n):\n",
    "    return lambda x: x + n\n",
    "\n",
    "f = make_incrementor(42)\n",
    "f(0),f(1)"
   ]
  },
  {
   "cell_type": "markdown",
   "metadata": {
    "slideshow": {
     "slide_type": "slide"
    }
   },
   "source": [
    "## Unpacking Argument Lists\n",
    "Arguments are already in a list or tuple. They can be unpacked for a function call. \n",
    "For instance, the built-in range() function is called with the *-operator to unpack the arguments out of a list:"
   ]
  },
  {
   "cell_type": "code",
   "execution_count": 28,
   "metadata": {
    "execution": {
     "iopub.execute_input": "2020-09-12T13:29:14.708137Z",
     "iopub.status.busy": "2020-09-12T13:29:14.707192Z",
     "iopub.status.idle": "2020-09-12T13:29:14.710778Z",
     "shell.execute_reply": "2020-09-12T13:29:14.711390Z"
    },
    "slideshow": {
     "slide_type": "fragment"
    }
   },
   "outputs": [
    {
     "data": {
      "text/plain": [
       "4"
      ]
     },
     "execution_count": 28,
     "metadata": {},
     "output_type": "execute_result"
    }
   ],
   "source": [
    "def chessboard_distance(x_a, y_a, x_b, y_b):\n",
    "    \"\"\"\n",
    "    Compute the rectilinear distance between \n",
    "    point (x_a,y_a) and (x_b, y_b)\n",
    "    \"\"\"\n",
    "    return max(abs(x_b-x_a),abs(y_b-y_a))\n",
    "\n",
    "coordinates = [3,4,7,2] \n",
    "chessboard_distance(*coordinates)"
   ]
  },
  {
   "cell_type": "markdown",
   "metadata": {
    "slideshow": {
     "slide_type": "slide"
    }
   },
   "source": [
    "In the same fashion, dictionaries can deliver keyword arguments with the **-operator:"
   ]
  },
  {
   "cell_type": "code",
   "execution_count": 29,
   "metadata": {
    "execution": {
     "iopub.execute_input": "2020-09-12T13:29:14.717694Z",
     "iopub.status.busy": "2020-09-12T13:29:14.716736Z",
     "iopub.status.idle": "2020-09-12T13:29:14.720051Z",
     "shell.execute_reply": "2020-09-12T13:29:14.720709Z"
    },
    "slideshow": {
     "slide_type": "fragment"
    }
   },
   "outputs": [
    {
     "name": "stdout",
     "output_type": "stream",
     "text": [
      "-- This parrot wouldn't VOOM if you put four million volts through it. E's bleedin' demised !\n"
     ]
    }
   ],
   "source": [
    "def parrot(voltage, state='a stiff', action='voom'):\n",
    "     print(\"-- This parrot wouldn't\", action, end=' ')\n",
    "     print(\"if you put\", voltage, \"volts through it.\", end=' ')\n",
    "     print(\"E's\", state, \"!\")\n",
    "\n",
    "d = {\"voltage\": \"four million\", \"state\": \"bleedin' demised\", \"action\": \"VOOM\"}\n",
    "parrot(**d)"
   ]
  },
  {
   "cell_type": "markdown",
   "metadata": {
    "slideshow": {
     "slide_type": "slide"
    }
   },
   "source": [
    "## Exercise: Time converter\n",
    "Write 3 functions to manipulate hours and minutes : \n",
    "- Function minutes return minutes from (hours, minutes). \n",
    "- Function hours the inverse function that return (hours, minutes) from minutes. \n",
    "- Function add_time to add (hh1,mm1) and (hh2, mm2) two couples (hours, minutes). It takes 2\n",
    "tuples of length 2 as input arguments and return the tuple (hh,mm). \n",
    "\n",
    "```python\n",
    "print(minutes(6,15)) # 375 \n",
    "print(minutes(7,46)) # 466 \n",
    "print(add_time((6,15),(7,46)) # (14,01)\n",
    "```"
   ]
  },
  {
   "cell_type": "markdown",
   "metadata": {
    "slideshow": {
     "slide_type": "slide"
    }
   },
   "source": [
    "## Functions Scope\n",
    "\n",
    "- All variable assignments in a function store the value in the local symbol table.\n",
    "- Global variables cannot be directly assigned a value within a function (unless named in a global statement).\n",
    "- The value of the function can be assigned to another name which can then also be used as a function."
   ]
  },
  {
   "cell_type": "code",
   "execution_count": 30,
   "metadata": {
    "execution": {
     "iopub.execute_input": "2020-09-12T13:29:14.726483Z",
     "iopub.status.busy": "2020-09-12T13:29:14.725492Z",
     "iopub.status.idle": "2020-09-12T13:29:14.728852Z",
     "shell.execute_reply": "2020-09-12T13:29:14.729458Z"
    },
    "slideshow": {
     "slide_type": "fragment"
    }
   },
   "outputs": [
    {
     "name": "stdout",
     "output_type": "stream",
     "text": [
      "0.785\n",
      "1.0\n"
     ]
    }
   ],
   "source": [
    "pi = 1.\n",
    "def deg2rad(theta):\n",
    "    pi = 3.14\n",
    "    return theta * pi / 180.\n",
    "\n",
    "print(deg2rad(45))\n",
    "print(pi)"
   ]
  },
  {
   "cell_type": "code",
   "execution_count": 31,
   "metadata": {
    "execution": {
     "iopub.execute_input": "2020-09-12T13:29:14.735141Z",
     "iopub.status.busy": "2020-09-12T13:29:14.734168Z",
     "iopub.status.idle": "2020-09-12T13:29:14.737497Z",
     "shell.execute_reply": "2020-09-12T13:29:14.738084Z"
    },
    "slideshow": {
     "slide_type": "slide"
    }
   },
   "outputs": [
    {
     "name": "stdout",
     "output_type": "stream",
     "text": [
      "141.3\n",
      "45.0\n"
     ]
    }
   ],
   "source": [
    "def rad2deg(theta):\n",
    "    return theta*180./pi\n",
    "\n",
    "print(rad2deg(0.785))\n",
    "pi = 3.14\n",
    "print(rad2deg(0.785))"
   ]
  },
  {
   "cell_type": "code",
   "execution_count": 32,
   "metadata": {
    "execution": {
     "iopub.execute_input": "2020-09-12T13:29:14.743727Z",
     "iopub.status.busy": "2020-09-12T13:29:14.742711Z",
     "iopub.status.idle": "2020-09-12T13:29:14.746090Z",
     "shell.execute_reply": "2020-09-12T13:29:14.746694Z"
    },
    "slideshow": {
     "slide_type": "fragment"
    }
   },
   "outputs": [
    {
     "name": "stdout",
     "output_type": "stream",
     "text": [
      "0.785\n"
     ]
    }
   ],
   "source": [
    "def deg2rad(theta):\n",
    "    global pi\n",
    "    pi = 3.14\n",
    "    return theta * pi / 180\n",
    "\n",
    "pi = 1\n",
    "print(deg2rad(45))"
   ]
  },
  {
   "cell_type": "code",
   "execution_count": 33,
   "metadata": {
    "execution": {
     "iopub.execute_input": "2020-09-12T13:29:14.751346Z",
     "iopub.status.busy": "2020-09-12T13:29:14.750485Z",
     "iopub.status.idle": "2020-09-12T13:29:14.753722Z",
     "shell.execute_reply": "2020-09-12T13:29:14.754333Z"
    },
    "slideshow": {
     "slide_type": "fragment"
    }
   },
   "outputs": [
    {
     "name": "stdout",
     "output_type": "stream",
     "text": [
      "3.14\n"
     ]
    }
   ],
   "source": [
    "print(pi)"
   ]
  },
  {
   "cell_type": "markdown",
   "metadata": {
    "slideshow": {
     "slide_type": "slide"
    }
   },
   "source": [
    "## `enumerate` Function"
   ]
  },
  {
   "cell_type": "code",
   "execution_count": 34,
   "metadata": {
    "execution": {
     "iopub.execute_input": "2020-09-12T13:29:14.760310Z",
     "iopub.status.busy": "2020-09-12T13:29:14.759337Z",
     "iopub.status.idle": "2020-09-12T13:29:14.762770Z",
     "shell.execute_reply": "2020-09-12T13:29:14.763400Z"
    },
    "slideshow": {
     "slide_type": "fragment"
    }
   },
   "outputs": [
    {
     "name": "stdout",
     "output_type": "stream",
     "text": [
      "0  ---  1\n",
      "1  ---  2\n",
      "2  ---  3\n",
      "3  ---  5\n",
      "4  ---  7\n",
      "5  ---  11\n",
      "6  ---  13\n"
     ]
    }
   ],
   "source": [
    "primes =  [1,2,3,5,7,11,13]\n",
    "for idx, ele in enumerate (primes):\n",
    "    print(idx, \" --- \", ele) "
   ]
  },
  {
   "cell_type": "markdown",
   "metadata": {
    "slideshow": {
     "slide_type": "slide"
    }
   },
   "source": [
    "### Exercise: Caesar cipher\n",
    "\n",
    "In cryptography, a Caesar cipher, is one of the simplest and most widely known encryption techniques. It is a type of substitution cipher in which each letter in the plaintext is replaced by a letter some fixed number of positions down the alphabet. For example, with a left shift of 3, D would be replaced by A, E would become B, and so on. \n",
    "\n",
    "- Create a function `cipher` that take the plain text and the key value as arguments and return the encrypted text.\n",
    "- Create a funtion `plain` that take the crypted text and the key value as arguments that return the deciphered text.\n"
   ]
  },
  {
   "cell_type": "markdown",
   "metadata": {
    "slideshow": {
     "slide_type": "slide"
    }
   },
   "source": [
    "## `zip` Builtin Function\n",
    "\n",
    "Loop over sequences simultaneously."
   ]
  },
  {
   "cell_type": "code",
   "execution_count": 35,
   "metadata": {
    "execution": {
     "iopub.execute_input": "2020-09-12T13:29:14.769720Z",
     "iopub.status.busy": "2020-09-12T13:29:14.768763Z",
     "iopub.status.idle": "2020-09-12T13:29:14.772110Z",
     "shell.execute_reply": "2020-09-12T13:29:14.772732Z"
    },
    "slideshow": {
     "slide_type": "fragment"
    }
   },
   "outputs": [
    {
     "name": "stdout",
     "output_type": "stream",
     "text": [
      "1 4 -- 5\n",
      "2 5 -- 7\n",
      "3 6 -- 9\n"
     ]
    }
   ],
   "source": [
    "L1 = [1, 2, 3]\n",
    "L2 = [4, 5, 6]\n",
    "\n",
    "for (x, y) in zip(L1, L2):\n",
    "    print (x, y, '--', x + y)"
   ]
  },
  {
   "cell_type": "markdown",
   "metadata": {},
   "source": [
    "<!-- #endregion -->"
   ]
  },
  {
   "cell_type": "markdown",
   "metadata": {
    "slideshow": {
     "slide_type": "slide"
    }
   },
   "source": [
    "## List comprehension\n",
    "\n",
    "- Set or change values inside a list\n",
    "- Create list from function"
   ]
  },
  {
   "cell_type": "code",
   "execution_count": 36,
   "metadata": {
    "execution": {
     "iopub.execute_input": "2020-09-12T13:29:14.779126Z",
     "iopub.status.busy": "2020-09-12T13:29:14.778120Z",
     "iopub.status.idle": "2020-09-12T13:29:14.781794Z",
     "shell.execute_reply": "2020-09-12T13:29:14.782541Z"
    },
    "slideshow": {
     "slide_type": "fragment"
    }
   },
   "outputs": [
    {
     "data": {
      "text/plain": [
       "[2, 6, 18, 8]"
      ]
     },
     "execution_count": 36,
     "metadata": {},
     "output_type": "execute_result"
    }
   ],
   "source": [
    "lsingle = [1, 3, 9, 4]\n",
    "ldouble = []\n",
    "for k in lsingle:\n",
    "    ldouble.append(2*k)\n",
    "ldouble"
   ]
  },
  {
   "cell_type": "code",
   "execution_count": 37,
   "metadata": {
    "execution": {
     "iopub.execute_input": "2020-09-12T13:29:14.787771Z",
     "iopub.status.busy": "2020-09-12T13:29:14.786849Z",
     "iopub.status.idle": "2020-09-12T13:29:14.789666Z",
     "shell.execute_reply": "2020-09-12T13:29:14.790297Z"
    },
    "slideshow": {
     "slide_type": "fragment"
    }
   },
   "outputs": [],
   "source": [
    "ldouble = [k*2 for k in lsingle]"
   ]
  },
  {
   "cell_type": "code",
   "execution_count": 38,
   "metadata": {
    "execution": {
     "iopub.execute_input": "2020-09-12T13:29:14.796013Z",
     "iopub.status.busy": "2020-09-12T13:29:14.795048Z",
     "iopub.status.idle": "2020-09-12T13:29:14.798669Z",
     "shell.execute_reply": "2020-09-12T13:29:14.799275Z"
    },
    "slideshow": {
     "slide_type": "slide"
    }
   },
   "outputs": [
    {
     "data": {
      "text/plain": [
       "[1, 4, 9, 16, 25, 36, 49, 64, 81]"
      ]
     },
     "execution_count": 38,
     "metadata": {},
     "output_type": "execute_result"
    }
   ],
   "source": [
    "[n*n for n in range(1,10)]"
   ]
  },
  {
   "cell_type": "code",
   "execution_count": 39,
   "metadata": {
    "execution": {
     "iopub.execute_input": "2020-09-12T13:29:14.804899Z",
     "iopub.status.busy": "2020-09-12T13:29:14.803997Z",
     "iopub.status.idle": "2020-09-12T13:29:14.807474Z",
     "shell.execute_reply": "2020-09-12T13:29:14.808076Z"
    },
    "slideshow": {
     "slide_type": "fragment"
    }
   },
   "outputs": [
    {
     "data": {
      "text/plain": [
       "[1, 9, 25, 49, 81]"
      ]
     },
     "execution_count": 39,
     "metadata": {},
     "output_type": "execute_result"
    }
   ],
   "source": [
    "[n*n for n in range(1,10) if n&1]"
   ]
  },
  {
   "cell_type": "code",
   "execution_count": 40,
   "metadata": {
    "execution": {
     "iopub.execute_input": "2020-09-12T13:29:14.814006Z",
     "iopub.status.busy": "2020-09-12T13:29:14.813010Z",
     "iopub.status.idle": "2020-09-12T13:29:14.816599Z",
     "shell.execute_reply": "2020-09-12T13:29:14.817212Z"
    },
    "slideshow": {
     "slide_type": "fragment"
    }
   },
   "outputs": [
    {
     "data": {
      "text/plain": [
       "[2, 1, 4, 2, 6, 3, 8, 4, 10]"
      ]
     },
     "execution_count": 40,
     "metadata": {},
     "output_type": "execute_result"
    }
   ],
   "source": [
    "[n+1 if n&1 else n//2 for n in range(1,10) ]"
   ]
  },
  {
   "cell_type": "markdown",
   "metadata": {
    "slideshow": {
     "slide_type": "slide"
    }
   },
   "source": [
    "### Exercise\n",
    "\n",
    "Code a new version of cypher function using list comprehension. \n",
    "\n",
    "Hints: \n",
    "- `s = ''.join(L)` convert the characters list `L` into a string `s`.\n",
    "- `L.index(c)` return the index position of `c` in list `L` \n",
    "- `\"c\".islower()` and `\"C\".isupper()` return `True`"
   ]
  },
  {
   "cell_type": "markdown",
   "metadata": {
    "slideshow": {
     "slide_type": "slide"
    }
   },
   "source": [
    "## `map` built-in function\n",
    "\n",
    "Apply a function over a sequence.\n"
   ]
  },
  {
   "cell_type": "code",
   "execution_count": 41,
   "metadata": {
    "execution": {
     "iopub.execute_input": "2020-09-12T13:29:14.822218Z",
     "iopub.status.busy": "2020-09-12T13:29:14.821299Z",
     "iopub.status.idle": "2020-09-12T13:29:14.824322Z",
     "shell.execute_reply": "2020-09-12T13:29:14.825007Z"
    },
    "slideshow": {
     "slide_type": "fragment"
    }
   },
   "outputs": [
    {
     "name": "stdout",
     "output_type": "stream",
     "text": [
      "<map object at 0x10d690c10>\n"
     ]
    }
   ],
   "source": [
    "res = map(hex,range(16))\n",
    "print(res)"
   ]
  },
  {
   "cell_type": "markdown",
   "metadata": {
    "slideshow": {
     "slide_type": "fragment"
    }
   },
   "source": [
    "Since Python 3.x, `map` process return an iterator. Save memory, and should make things go faster.\n",
    "Display result by using unpacking operator."
   ]
  },
  {
   "cell_type": "code",
   "execution_count": 42,
   "metadata": {
    "execution": {
     "iopub.execute_input": "2020-09-12T13:29:14.830042Z",
     "iopub.status.busy": "2020-09-12T13:29:14.829095Z",
     "iopub.status.idle": "2020-09-12T13:29:14.832336Z",
     "shell.execute_reply": "2020-09-12T13:29:14.832957Z"
    },
    "slideshow": {
     "slide_type": "fragment"
    }
   },
   "outputs": [
    {
     "name": "stdout",
     "output_type": "stream",
     "text": [
      "0x0 0x1 0x2 0x3 0x4 0x5 0x6 0x7 0x8 0x9 0xa 0xb 0xc 0xd 0xe 0xf\n"
     ]
    }
   ],
   "source": [
    "print(*res)"
   ]
  },
  {
   "cell_type": "markdown",
   "metadata": {
    "slideshow": {
     "slide_type": "slide"
    }
   },
   "source": [
    "## `map` with user-defined function"
   ]
  },
  {
   "cell_type": "code",
   "execution_count": 43,
   "metadata": {
    "execution": {
     "iopub.execute_input": "2020-09-12T13:29:14.838992Z",
     "iopub.status.busy": "2020-09-12T13:29:14.838098Z",
     "iopub.status.idle": "2020-09-12T13:29:14.841455Z",
     "shell.execute_reply": "2020-09-12T13:29:14.842072Z"
    },
    "slideshow": {
     "slide_type": "fragment"
    }
   },
   "outputs": [
    {
     "name": "stdout",
     "output_type": "stream",
     "text": [
      "5 7 9\n"
     ]
    }
   ],
   "source": [
    "def add(x,y):\n",
    "    return x+y\n",
    "\n",
    "L1 = [1, 2, 3]\n",
    "L2 = [4, 5, 6]\n",
    "print(*map(add,L1,L2))"
   ]
  },
  {
   "cell_type": "markdown",
   "metadata": {
    "slideshow": {
     "slide_type": "slide"
    }
   },
   "source": [
    "- `map` is often faster than `for` loop"
   ]
  },
  {
   "cell_type": "code",
   "execution_count": 44,
   "metadata": {
    "execution": {
     "iopub.execute_input": "2020-09-12T13:29:14.931326Z",
     "iopub.status.busy": "2020-09-12T13:29:14.884017Z",
     "iopub.status.idle": "2020-09-12T13:29:19.210242Z",
     "shell.execute_reply": "2020-09-12T13:29:19.210943Z"
    },
    "slideshow": {
     "slide_type": "fragment"
    }
   },
   "outputs": [
    {
     "name": "stdout",
     "output_type": "stream",
     "text": [
      "5.32 ms ± 171 µs per loop (mean ± std. dev. of 7 runs, 100 loops each)\n"
     ]
    }
   ],
   "source": [
    "M = range(10000)\n",
    "f = lambda x: x**2\n",
    "%timeit lmap = list(map(f,M))"
   ]
  },
  {
   "cell_type": "code",
   "execution_count": 45,
   "metadata": {
    "execution": {
     "iopub.execute_input": "2020-09-12T13:29:19.300896Z",
     "iopub.status.busy": "2020-09-12T13:29:19.257945Z",
     "iopub.status.idle": "2020-09-12T13:29:23.898271Z",
     "shell.execute_reply": "2020-09-12T13:29:23.898900Z"
    },
    "slideshow": {
     "slide_type": "fragment"
    }
   },
   "outputs": [
    {
     "name": "stdout",
     "output_type": "stream",
     "text": [
      "5.76 ms ± 54.3 µs per loop (mean ± std. dev. of 7 runs, 100 loops each)\n"
     ]
    }
   ],
   "source": [
    "M = range(10000)\n",
    "f = lambda x: x**2\n",
    "%timeit lfor = [f(m) for m in M]"
   ]
  },
  {
   "cell_type": "markdown",
   "metadata": {
    "slideshow": {
     "slide_type": "slide"
    }
   },
   "source": [
    "## filter\n",
    "creates a iterator of elements for which a function returns `True`. "
   ]
  },
  {
   "cell_type": "code",
   "execution_count": 46,
   "metadata": {
    "execution": {
     "iopub.execute_input": "2020-09-12T13:29:23.904580Z",
     "iopub.status.busy": "2020-09-12T13:29:23.903570Z",
     "iopub.status.idle": "2020-09-12T13:29:23.907100Z",
     "shell.execute_reply": "2020-09-12T13:29:23.907718Z"
    },
    "slideshow": {
     "slide_type": "fragment"
    }
   },
   "outputs": [
    {
     "name": "stdout",
     "output_type": "stream",
     "text": [
      "-5 -3 -1 1 3\n"
     ]
    }
   ],
   "source": [
    "number_list = range(-5, 5)\n",
    "odd_numbers = filter(lambda x: x & 1 , number_list)\n",
    "print(*odd_numbers)"
   ]
  },
  {
   "cell_type": "markdown",
   "metadata": {
    "slideshow": {
     "slide_type": "slide"
    }
   },
   "source": [
    "- As `map`, `filter` is often faster than `for` loop"
   ]
  },
  {
   "cell_type": "code",
   "execution_count": 47,
   "metadata": {
    "execution": {
     "iopub.execute_input": "2020-09-12T13:29:23.996941Z",
     "iopub.status.busy": "2020-09-12T13:29:23.954183Z",
     "iopub.status.idle": "2020-09-12T13:29:26.399288Z",
     "shell.execute_reply": "2020-09-12T13:29:26.399922Z"
    },
    "slideshow": {
     "slide_type": "fragment"
    }
   },
   "outputs": [
    {
     "name": "stdout",
     "output_type": "stream",
     "text": [
      "303 ns ± 1.07 ns per loop (mean ± std. dev. of 7 runs, 1000000 loops each)\n"
     ]
    }
   ],
   "source": [
    "M = range(1000)\n",
    "f = lambda x: x % 3 == 0\n",
    "%timeit lmap = filter(f,M)"
   ]
  },
  {
   "cell_type": "code",
   "execution_count": 48,
   "metadata": {
    "execution": {
     "iopub.execute_input": "2020-09-12T13:29:26.490172Z",
     "iopub.status.busy": "2020-09-12T13:29:26.446338Z",
     "iopub.status.idle": "2020-09-12T13:29:30.541223Z",
     "shell.execute_reply": "2020-09-12T13:29:30.541897Z"
    },
    "slideshow": {
     "slide_type": "fragment"
    }
   },
   "outputs": [
    {
     "name": "stdout",
     "output_type": "stream",
     "text": [
      "507 ns ± 5.03 ns per loop (mean ± std. dev. of 7 runs, 1000000 loops each)\n"
     ]
    }
   ],
   "source": [
    "M = range(1000)\n",
    "%timeit lfor = (m for m in M if m % 3 == 0)"
   ]
  },
  {
   "cell_type": "markdown",
   "metadata": {
    "slideshow": {
     "slide_type": "slide"
    }
   },
   "source": [
    "## Exercise with map:\n",
    "\n",
    "Code a new version of your cypher function using map. \n",
    "\n",
    "Hints: \n",
    "- Applied function must have only one argument, create a function called `shift` with the key value and use map."
   ]
  },
  {
   "cell_type": "markdown",
   "metadata": {
    "slideshow": {
     "slide_type": "slide"
    }
   },
   "source": [
    "## Exercise with filter:\n",
    "\n",
    "Create a function with a number n as single argument that returns True if n is a [Kaprekar number](https://en.wikipedia.org/wiki/Kaprekar_number). For example 45 is a Kaprekar number, because \n",
    "$$45^2 = 2025$$ \n",
    "and \n",
    "$$20 + 25 = 45$$\n",
    "\n",
    "Use `filter` to give Kaprekar numbers list lower than 10000.\n",
    "```\n",
    "1, 9, 45, 55, 99, 297, 703, 999, 2223, 2728, 4879, 4950, 5050, 5292, 7272, 7777, 9999\n",
    "```"
   ]
  },
  {
   "cell_type": "markdown",
   "metadata": {
    "slideshow": {
     "slide_type": "slide"
    }
   },
   "source": [
    "## Recursive Call\n",
    "\n",
    "```python slideshow={\"slide_type\": \"fragment\"}\n",
    "def gcd(x, y): \n",
    "    \"\"\" returns the greatest common divisor.\"\"\"\n",
    "    if x == 0: \n",
    "        return y\n",
    "    else : \n",
    "        return gcd(y % x, x)\n",
    "\n",
    "gcd(12,16)\n",
    "```"
   ]
  },
  {
   "cell_type": "markdown",
   "metadata": {},
   "source": [
    "## Exercises"
   ]
  },
  {
   "cell_type": "markdown",
   "metadata": {
    "slideshow": {
     "slide_type": "slide"
    }
   },
   "source": [
    "### Factorial\n",
    "\n",
    "- Write the function `factorial` with a recursive call\n",
    "\n",
    "NB: Recursion is not recommended by [Guido](http://neopythonic.blogspot.co.uk/2009/04/tail-recursion-elimination.html)."
   ]
  },
  {
   "cell_type": "markdown",
   "metadata": {
    "slideshow": {
     "slide_type": "slide"
    }
   },
   "source": [
    "### Minimum number of rooms required for lectures.\n",
    "\n",
    "Given an array of time intervals (start, end) for classroom lectures (possibly overlapping), find the minimum number of rooms required.\n",
    "\n",
    "For example, given Input: \n",
    "```python\n",
    "lectures = [\"9:00-10:30\", \"9:30-11:30\",\"11:00-12:00\",\"14:00-18:00\", \"15:00-16:00\", \"15:30-17:30\", \"16:00-18:00\"]\n",
    "```\n",
    "should output 3."
   ]
  },
  {
   "cell_type": "markdown",
   "metadata": {
    "slideshow": {
     "slide_type": "slide"
    }
   },
   "source": [
    "### [Non-palindromic skinny numbers](https://oeis.org/A035123)\n",
    "\n",
    "non-palindromic squares remaining square when written backwards\n",
    "\n",
    "$$\n",
    "\\begin{array}{lclclcl}\n",
    "10^2  &=& 100   &\\qquad& 01^2  &=& 001 \\\\\n",
    "13^2  &=& 169   &\\qquad& 31^2  &=& 961 \\\\\n",
    "102^2 &=& 10404 &\\qquad& 201^2 &=& 40401\n",
    "\\end{array}\n",
    "$$\n"
   ]
  },
  {
   "cell_type": "markdown",
   "metadata": {
    "slideshow": {
     "slide_type": "slide"
    }
   },
   "source": [
    "### Narcissistic number\n",
    "\n",
    "A  number is narcissistic if the sum of its own digits each raised to the power of the number of digits. \n",
    "\n",
    "Example : $4150 = 4^5 + 1^5 + 5^5 + 0^5$ or $153 = 1^3 + 5^3 + 3^3$\n",
    "\n",
    "Find narcissitic numbers with 3 digits\n"
   ]
  },
  {
   "cell_type": "markdown",
   "metadata": {
    "slideshow": {
     "slide_type": "slide"
    }
   },
   "source": [
    "### Happy number\n",
    "\n",
    "- Given a number $n = n_0$, define a sequence $n_1, n_2,\\ldots$ where \n",
    "    $n_{{i+1}}$ is the sum of the squares of the digits of $n_{i}$. \n",
    "    Then $n$ is happy if and only if there exists i such that $n_{i}=1$.\n",
    "\n",
    "For example, 19 is happy, as the associated sequence is:\n",
    "$$\n",
    "\\begin{array}{ccccccl}\n",
    "1^2 &+& 9^2 & &     &=& 82 \\\\\n",
    "8^2 &+& 2^2 & &     &=& 68 \\\\\n",
    "6^2 &+& 8^2 & &     &=& 100 \\\\\n",
    "1^2 &+& 0^2 &+& 0^2 &=& 1\n",
    "\\end{array}\n",
    "$$\n",
    "- Write a function `ishappy(n)` that returns True if `n` is happy.\n",
    "- Write a function `happy(n)` that returns a list with all happy numbers < $n$.\n",
    "\n",
    "```python\n",
    "happy(100) = [1, 7, 10, 13, 19, 23, 28, 31, 32, 44, 49, 68, 70, 79, 82, 86, 91, 94, 97]\n",
    "```"
   ]
  },
  {
   "cell_type": "markdown",
   "metadata": {
    "slideshow": {
     "slide_type": "slide"
    }
   },
   "source": [
    "### Longuest increasing subsequence\n",
    "\n",
    "Given N elements, write a program that prints the length of the longuest increasing subsequence whose adjacent element difference is one.\n",
    "\n",
    "Examples:\n",
    "```\n",
    "a = [3, 10, 3, 11, 4, 5, 6, 7, 8, 12]\n",
    "Output : 6\n",
    "Explanation: 3, 4, 5, 6, 7, 8 is the longest increasing subsequence whose adjacent element differs by one.\n",
    "```\n",
    "```\n",
    "Input : a = [6, 7, 8, 3, 4, 5, 9, 10]\n",
    "Output : 5\n",
    "Explanation: 6, 7, 8, 9, 10 is the longest increasing subsequence\n",
    "```"
   ]
  },
  {
   "cell_type": "markdown",
   "metadata": {
    "slideshow": {
     "slide_type": "slide"
    }
   },
   "source": [
    "### Polynomial derivative\n",
    "- A Polynomial is represented by a Python list of its coefficients.\n",
    "    [1,5,-4] => $1+5x-4x^2$\n",
    "- Write the function diff(P,n) that return the nth derivative Q\n",
    "- Don't use any external package 😉\n",
    "```\n",
    "diff([3,2,1,5,7],2) = [2, 30, 84]\n",
    "diff([-6,5,-3,-4,3,-4],3) = [-24, 72, -240]\n",
    "```"
   ]
  }
 ],
 "metadata": {
  "kernelspec": {
   "display_name": "Python 3",
   "language": "python",
   "name": "python3"
  },
  "language_info": {
   "codemirror_mode": {
    "name": "ipython",
    "version": 3
   },
   "file_extension": ".py",
   "mimetype": "text/x-python",
   "name": "python",
   "nbconvert_exporter": "python",
   "pygments_lexer": "ipython3",
   "version": "3.8.5"
  }
 },
 "nbformat": 4,
 "nbformat_minor": 4
}
