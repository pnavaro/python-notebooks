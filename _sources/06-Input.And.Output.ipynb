{
 "cells": [
  {
   "cell_type": "markdown",
   "metadata": {
    "slideshow": {
     "slide_type": "slide"
    }
   },
   "source": [
    "# Input and Output\n",
    "- str() function return human-readable representations of values.\n",
    "- repr() generate representations which can be read by the interpreter.\n",
    "- For objects which don’t have a particular representation for human consumption, str() will return the same value as repr()."
   ]
  },
  {
   "cell_type": "code",
   "execution_count": 1,
   "metadata": {
    "execution": {
     "iopub.execute_input": "2020-09-12T13:29:33.712341Z",
     "iopub.status.busy": "2020-09-12T13:29:33.711288Z",
     "iopub.status.idle": "2020-09-12T13:29:33.715447Z",
     "shell.execute_reply": "2020-09-12T13:29:33.716039Z"
    },
    "slideshow": {
     "slide_type": "fragment"
    }
   },
   "outputs": [
    {
     "data": {
      "text/plain": [
       "'Hello, world.'"
      ]
     },
     "execution_count": 1,
     "metadata": {},
     "output_type": "execute_result"
    }
   ],
   "source": [
    "s = 'Hello, world.'\n",
    "str(s)"
   ]
  },
  {
   "cell_type": "code",
   "execution_count": 2,
   "metadata": {
    "execution": {
     "iopub.execute_input": "2020-09-12T13:29:33.721501Z",
     "iopub.status.busy": "2020-09-12T13:29:33.720626Z",
     "iopub.status.idle": "2020-09-12T13:29:33.724715Z",
     "shell.execute_reply": "2020-09-12T13:29:33.724086Z"
    },
    "slideshow": {
     "slide_type": "fragment"
    }
   },
   "outputs": [
    {
     "data": {
      "text/plain": [
       "'[0, 1, 2, 3]'"
      ]
     },
     "execution_count": 2,
     "metadata": {},
     "output_type": "execute_result"
    }
   ],
   "source": [
    "l = list(range(4))\n",
    "str(l)"
   ]
  },
  {
   "cell_type": "code",
   "execution_count": 3,
   "metadata": {
    "execution": {
     "iopub.execute_input": "2020-09-12T13:29:33.730206Z",
     "iopub.status.busy": "2020-09-12T13:29:33.729179Z",
     "iopub.status.idle": "2020-09-12T13:29:33.732773Z",
     "shell.execute_reply": "2020-09-12T13:29:33.733388Z"
    },
    "slideshow": {
     "slide_type": "fragment"
    }
   },
   "outputs": [
    {
     "data": {
      "text/plain": [
       "\"'Hello, world.'\""
      ]
     },
     "execution_count": 3,
     "metadata": {},
     "output_type": "execute_result"
    }
   ],
   "source": [
    "repr(s)"
   ]
  },
  {
   "cell_type": "code",
   "execution_count": 4,
   "metadata": {
    "execution": {
     "iopub.execute_input": "2020-09-12T13:29:33.738522Z",
     "iopub.status.busy": "2020-09-12T13:29:33.737445Z",
     "iopub.status.idle": "2020-09-12T13:29:33.741053Z",
     "shell.execute_reply": "2020-09-12T13:29:33.741753Z"
    },
    "slideshow": {
     "slide_type": "fragment"
    }
   },
   "outputs": [
    {
     "data": {
      "text/plain": [
       "'[0, 1, 2, 3]'"
      ]
     },
     "execution_count": 4,
     "metadata": {},
     "output_type": "execute_result"
    }
   ],
   "source": [
    "repr(l)"
   ]
  },
  {
   "cell_type": "code",
   "execution_count": 5,
   "metadata": {
    "execution": {
     "iopub.execute_input": "2020-09-12T13:29:33.747496Z",
     "iopub.status.busy": "2020-09-12T13:29:33.746529Z",
     "iopub.status.idle": "2020-09-12T13:29:33.749807Z",
     "shell.execute_reply": "2020-09-12T13:29:33.750398Z"
    },
    "slideshow": {
     "slide_type": "slide"
    }
   },
   "outputs": [
    {
     "name": "stdout",
     "output_type": "stream",
     "text": [
      "The value of x is 32.5, and y is 40000...\n"
     ]
    }
   ],
   "source": [
    "x = 10 * 3.25\n",
    "y = 200 * 200\n",
    "s = 'The value of x is ' + str(x) + ', and y is ' + repr(y) + '...'\n",
    "print(s)"
   ]
  },
  {
   "cell_type": "markdown",
   "metadata": {
    "slideshow": {
     "slide_type": "fragment"
    }
   },
   "source": [
    "repr() of a string adds string quotes and backslashes:"
   ]
  },
  {
   "cell_type": "code",
   "execution_count": 6,
   "metadata": {
    "execution": {
     "iopub.execute_input": "2020-09-12T13:29:33.755806Z",
     "iopub.status.busy": "2020-09-12T13:29:33.754853Z",
     "iopub.status.idle": "2020-09-12T13:29:33.758465Z",
     "shell.execute_reply": "2020-09-12T13:29:33.759078Z"
    },
    "slideshow": {
     "slide_type": "fragment"
    }
   },
   "outputs": [
    {
     "data": {
      "text/plain": [
       "\"'hello, world\\\\n'\""
      ]
     },
     "execution_count": 6,
     "metadata": {},
     "output_type": "execute_result"
    }
   ],
   "source": [
    "hello = 'hello, world\\n'\n",
    "hellos = repr(hello)\n",
    "hellos"
   ]
  },
  {
   "cell_type": "markdown",
   "metadata": {
    "slideshow": {
     "slide_type": "fragment"
    }
   },
   "source": [
    "The argument to repr() may be any Python object:"
   ]
  },
  {
   "cell_type": "code",
   "execution_count": 7,
   "metadata": {
    "execution": {
     "iopub.execute_input": "2020-09-12T13:29:33.764778Z",
     "iopub.status.busy": "2020-09-12T13:29:33.763815Z",
     "iopub.status.idle": "2020-09-12T13:29:33.767172Z",
     "shell.execute_reply": "2020-09-12T13:29:33.767802Z"
    },
    "slideshow": {
     "slide_type": "fragment"
    }
   },
   "outputs": [
    {
     "data": {
      "text/plain": [
       "\"(32.5, 40000, ('spam', 'eggs'))\""
      ]
     },
     "execution_count": 7,
     "metadata": {},
     "output_type": "execute_result"
    }
   ],
   "source": [
    "repr((x, y, ('spam', 'eggs')))"
   ]
  },
  {
   "cell_type": "code",
   "execution_count": 8,
   "metadata": {
    "execution": {
     "iopub.execute_input": "2020-09-12T13:29:33.773618Z",
     "iopub.status.busy": "2020-09-12T13:29:33.772700Z",
     "iopub.status.idle": "2020-09-12T13:29:33.777891Z",
     "shell.execute_reply": "2020-09-12T13:29:33.778519Z"
    },
    "slideshow": {
     "slide_type": "slide"
    }
   },
   "outputs": [
    {
     "name": "stdout",
     "output_type": "stream",
     "text": [
      " 1   1    1     1      1       1        1 \n",
      " 1   2    4     8     16      32       64 \n",
      " 1   3    9    27     81     243      729 \n",
      " 1   4   16    64    256    1024     4096 \n",
      " 1   5   25   125    625    3125    15625 \n",
      " 1   6   36   216   1296    7776    46656 \n"
     ]
    }
   ],
   "source": [
    "n = 7\n",
    "for x in range(1, n):\n",
    "    for i in range(n):\n",
    "        print(repr(x**i).rjust(i+2), end=' ') # rjust or center can be used\n",
    "    print()"
   ]
  },
  {
   "cell_type": "code",
   "execution_count": 9,
   "metadata": {
    "execution": {
     "iopub.execute_input": "2020-09-12T13:29:33.785262Z",
     "iopub.status.busy": "2020-09-12T13:29:33.783427Z",
     "iopub.status.idle": "2020-09-12T13:29:33.788404Z",
     "shell.execute_reply": "2020-09-12T13:29:33.789165Z"
    },
    "slideshow": {
     "slide_type": "fragment"
    }
   },
   "outputs": [
    {
     "name": "stdout",
     "output_type": "stream",
     "text": [
      "0000001 0000001 0000001 0000001 0000001 0000001 0000001 \n",
      "0000001 0000002 0000004 0000008 0000016 0000032 0000064 \n",
      "0000001 0000003 0000009 0000027 0000081 0000243 0000729 \n",
      "0000001 0000004 0000016 0000064 0000256 0001024 0004096 \n",
      "0000001 0000005 0000025 0000125 0000625 0003125 0015625 \n",
      "0000001 0000006 0000036 0000216 0001296 0007776 0046656 \n"
     ]
    }
   ],
   "source": [
    "for x in range(1, n):\n",
    "    for i in range(n):\n",
    "        print(\"%07d\" % x**i, end=' ')  # old C format\n",
    "    print()"
   ]
  },
  {
   "cell_type": "markdown",
   "metadata": {
    "slideshow": {
     "slide_type": "slide"
    }
   },
   "source": [
    "## Usage of the `str.format()` method "
   ]
  },
  {
   "cell_type": "code",
   "execution_count": 10,
   "metadata": {
    "execution": {
     "iopub.execute_input": "2020-09-12T13:29:33.794333Z",
     "iopub.status.busy": "2020-09-12T13:29:33.793464Z",
     "iopub.status.idle": "2020-09-12T13:29:33.796723Z",
     "shell.execute_reply": "2020-09-12T13:29:33.797376Z"
    },
    "slideshow": {
     "slide_type": "fragment"
    }
   },
   "outputs": [
    {
     "name": "stdout",
     "output_type": "stream",
     "text": [
      "We are at the ENSAI in Rennes!\n"
     ]
    }
   ],
   "source": [
    "print('We are at the {} in {}!'.format('ENSAI', 'Rennes'))"
   ]
  },
  {
   "cell_type": "code",
   "execution_count": 11,
   "metadata": {
    "execution": {
     "iopub.execute_input": "2020-09-12T13:29:33.802691Z",
     "iopub.status.busy": "2020-09-12T13:29:33.801836Z",
     "iopub.status.idle": "2020-09-12T13:29:33.804946Z",
     "shell.execute_reply": "2020-09-12T13:29:33.805571Z"
    },
    "slideshow": {
     "slide_type": "fragment"
    }
   },
   "outputs": [
    {
     "name": "stdout",
     "output_type": "stream",
     "text": [
      "From September 7 to  September 14\n"
     ]
    }
   ],
   "source": [
    "print('From {0} to  {1}'.format('September 7', 'September 14'))"
   ]
  },
  {
   "cell_type": "code",
   "execution_count": 12,
   "metadata": {
    "execution": {
     "iopub.execute_input": "2020-09-12T13:29:33.810816Z",
     "iopub.status.busy": "2020-09-12T13:29:33.809857Z",
     "iopub.status.idle": "2020-09-12T13:29:33.813250Z",
     "shell.execute_reply": "2020-09-12T13:29:33.813896Z"
    },
    "slideshow": {
     "slide_type": "fragment"
    }
   },
   "outputs": [
    {
     "name": "stdout",
     "output_type": "stream",
     "text": [
      "It takes place at Milon room\n"
     ]
    }
   ],
   "source": [
    "print('It takes place at {place}'.format(place='Milon room'))"
   ]
  },
  {
   "cell_type": "code",
   "execution_count": 13,
   "metadata": {
    "execution": {
     "iopub.execute_input": "2020-09-12T13:29:33.819369Z",
     "iopub.status.busy": "2020-09-12T13:29:33.818385Z",
     "iopub.status.idle": "2020-09-12T13:29:33.821708Z",
     "shell.execute_reply": "2020-09-12T13:29:33.822315Z"
    },
    "slideshow": {
     "slide_type": "fragment"
    }
   },
   "outputs": [
    {
     "name": "stdout",
     "output_type": "stream",
     "text": [
      "The value of PI is approximately 3.141593.\n"
     ]
    }
   ],
   "source": [
    "import math\n",
    "print('The value of PI is approximately {:.7g}.'.format(math.pi))"
   ]
  },
  {
   "cell_type": "markdown",
   "metadata": {
    "slideshow": {
     "slide_type": "slide"
    }
   },
   "source": [
    "## Formatted string literals (Python 3.6)"
   ]
  },
  {
   "cell_type": "code",
   "execution_count": 14,
   "metadata": {
    "execution": {
     "iopub.execute_input": "2020-09-12T13:29:33.827128Z",
     "iopub.status.busy": "2020-09-12T13:29:33.826255Z",
     "iopub.status.idle": "2020-09-12T13:29:33.829614Z",
     "shell.execute_reply": "2020-09-12T13:29:33.830267Z"
    },
    "slideshow": {
     "slide_type": "fragment"
    }
   },
   "outputs": [
    {
     "name": "stdout",
     "output_type": "stream",
     "text": [
      "The value of PI is approximately 3.1416.\n"
     ]
    }
   ],
   "source": [
    "print(f'The value of PI is approximately {math.pi:.4f}.')"
   ]
  },
  {
   "cell_type": "code",
   "execution_count": 15,
   "metadata": {
    "execution": {
     "iopub.execute_input": "2020-09-12T13:29:33.835729Z",
     "iopub.status.busy": "2020-09-12T13:29:33.834802Z",
     "iopub.status.idle": "2020-09-12T13:29:33.838346Z",
     "shell.execute_reply": "2020-09-12T13:29:33.839006Z"
    },
    "slideshow": {
     "slide_type": "fragment"
    }
   },
   "outputs": [
    {
     "name": "stdout",
     "output_type": "stream",
     "text": [
      "He said his name is Fred.\n",
      "He said his name is 'Fred'.\n"
     ]
    }
   ],
   "source": [
    "name = \"Fred\"\n",
    "print(f\"He said his name is {name}.\")\n",
    "print(f\"He said his name is {name!r}.\")"
   ]
  },
  {
   "cell_type": "code",
   "execution_count": 16,
   "metadata": {
    "execution": {
     "iopub.execute_input": "2020-09-12T13:29:33.844591Z",
     "iopub.status.busy": "2020-09-12T13:29:33.843599Z",
     "iopub.status.idle": "2020-09-12T13:29:33.847116Z",
     "shell.execute_reply": "2020-09-12T13:29:33.847875Z"
    },
    "slideshow": {
     "slide_type": "fragment"
    }
   },
   "outputs": [
    {
     "data": {
      "text/plain": [
       "\"He said his name is 'Fred'.\""
      ]
     },
     "execution_count": 16,
     "metadata": {},
     "output_type": "execute_result"
    }
   ],
   "source": [
    "f\"He said his name is {repr(name)}.\"  # repr() is equivalent to !r"
   ]
  },
  {
   "cell_type": "code",
   "execution_count": 17,
   "metadata": {
    "execution": {
     "iopub.execute_input": "2020-09-12T13:29:33.853777Z",
     "iopub.status.busy": "2020-09-12T13:29:33.852815Z",
     "iopub.status.idle": "2020-09-12T13:29:33.856279Z",
     "shell.execute_reply": "2020-09-12T13:29:33.856898Z"
    },
    "slideshow": {
     "slide_type": "fragment"
    }
   },
   "outputs": [
    {
     "name": "stdout",
     "output_type": "stream",
     "text": [
      "result:    12.3457\n"
     ]
    }
   ],
   "source": [
    "width, precision = 10, 4\n",
    "value = 12.34567\n",
    "print(f\"result: {value:{width}.{precision}f}\")  # nested fields"
   ]
  },
  {
   "cell_type": "code",
   "execution_count": 18,
   "metadata": {
    "execution": {
     "iopub.execute_input": "2020-09-12T13:29:33.862577Z",
     "iopub.status.busy": "2020-09-12T13:29:33.861709Z",
     "iopub.status.idle": "2020-09-12T13:29:33.864880Z",
     "shell.execute_reply": "2020-09-12T13:29:33.865493Z"
    },
    "slideshow": {
     "slide_type": "fragment"
    }
   },
   "outputs": [
    {
     "name": "stdout",
     "output_type": "stream",
     "text": [
      "January 27, 2017\n"
     ]
    }
   ],
   "source": [
    "from datetime import *\n",
    "today = datetime(year=2017, month=1, day=27)\n",
    "print(f\"{today:%B %d, %Y}\")  # using date format specifier"
   ]
  },
  {
   "cell_type": "markdown",
   "metadata": {},
   "source": [
    "<!-- #endregion -->"
   ]
  },
  {
   "cell_type": "markdown",
   "metadata": {
    "slideshow": {
     "slide_type": "slide"
    }
   },
   "source": [
    "## Reading and Writing Files\n",
    "\n",
    "`open()` returns a file object, and is most commonly used with file name and accessing mode argument.\n"
   ]
  },
  {
   "cell_type": "code",
   "execution_count": 19,
   "metadata": {
    "execution": {
     "iopub.execute_input": "2020-09-12T13:29:33.871792Z",
     "iopub.status.busy": "2020-09-12T13:29:33.870878Z",
     "iopub.status.idle": "2020-09-12T13:29:33.993057Z",
     "shell.execute_reply": "2020-09-12T13:29:33.993694Z"
    },
    "slideshow": {
     "slide_type": "fragment"
    }
   },
   "outputs": [
    {
     "name": "stdout",
     "output_type": "stream",
     "text": [
      "1. This is a txt file.\r\n",
      "2. \\n is used to begin a new line"
     ]
    }
   ],
   "source": [
    "f = open('workfile.txt', 'w')\n",
    "f.write(\"1. This is a txt file.\\n\")\n",
    "f.write(\"2. \\\\n is used to begin a new line\")\n",
    "f.close()\n",
    "!cat workfile.txt"
   ]
  },
  {
   "cell_type": "markdown",
   "metadata": {
    "slideshow": {
     "slide_type": "slide"
    }
   },
   "source": [
    "`mode` can be :\n",
    "- 'r' when the file will only be read, \n",
    "- 'w' for only writing (an existing file with the same name will be erased)\n",
    "- 'a' opens the file for appending; any data written to the file is automatically added to the end. \n",
    "- 'r+' opens the file for both reading and writing. \n",
    "- The mode argument is optional; 'r' will be assumed if it’s omitted.\n",
    "- Normally, files are opened in text mode.\n",
    "- 'b' appended to the mode opens the file in binary mode."
   ]
  },
  {
   "cell_type": "code",
   "execution_count": 20,
   "metadata": {
    "execution": {
     "iopub.execute_input": "2020-09-12T13:29:33.999452Z",
     "iopub.status.busy": "2020-09-12T13:29:33.998481Z",
     "iopub.status.idle": "2020-09-12T13:29:34.003307Z",
     "shell.execute_reply": "2020-09-12T13:29:34.004182Z"
    },
    "slideshow": {
     "slide_type": "slide"
    }
   },
   "outputs": [
    {
     "data": {
      "text/plain": [
       "True"
      ]
     },
     "execution_count": 20,
     "metadata": {},
     "output_type": "execute_result"
    }
   ],
   "source": [
    "with open('workfile.txt') as f:\n",
    "    read_text = f.read()\n",
    "f.closed"
   ]
  },
  {
   "cell_type": "code",
   "execution_count": 21,
   "metadata": {
    "execution": {
     "iopub.execute_input": "2020-09-12T13:29:34.009454Z",
     "iopub.status.busy": "2020-09-12T13:29:34.008493Z",
     "iopub.status.idle": "2020-09-12T13:29:34.012321Z",
     "shell.execute_reply": "2020-09-12T13:29:34.012923Z"
    },
    "slideshow": {
     "slide_type": "fragment"
    }
   },
   "outputs": [
    {
     "data": {
      "text/plain": [
       "'1. This is a txt file.\\n2. \\\\n is used to begin a new line'"
      ]
     },
     "execution_count": 21,
     "metadata": {},
     "output_type": "execute_result"
    }
   ],
   "source": [
    "read_text"
   ]
  },
  {
   "cell_type": "code",
   "execution_count": 22,
   "metadata": {
    "execution": {
     "iopub.execute_input": "2020-09-12T13:29:34.018772Z",
     "iopub.status.busy": "2020-09-12T13:29:34.017688Z",
     "iopub.status.idle": "2020-09-12T13:29:34.023702Z",
     "shell.execute_reply": "2020-09-12T13:29:34.024444Z"
    },
    "slideshow": {
     "slide_type": "fragment"
    }
   },
   "outputs": [
    {
     "data": {
      "text/plain": [
       "['1. This is a txt file.\\n', '2. \\\\n is used to begin a new line', '']"
      ]
     },
     "execution_count": 22,
     "metadata": {},
     "output_type": "execute_result"
    }
   ],
   "source": [
    "lines= []\n",
    "with open('workfile.txt') as f:\n",
    "    lines.append(f.readline())\n",
    "    lines.append(f.readline())\n",
    "    lines.append(f.readline())\n",
    "    \n",
    "lines"
   ]
  },
  {
   "cell_type": "markdown",
   "metadata": {
    "slideshow": {
     "slide_type": "slide"
    }
   },
   "source": [
    "- `f.readline()` returns an empty string when the end of the file has been reached.\n",
    "- `f.readlines()` or `list(f)` read all the lines of a file in a list.\n",
    "\n",
    "For reading lines from a file, you can loop over the file object. This is memory efficient, fast, and leads to simple code:"
   ]
  },
  {
   "cell_type": "code",
   "execution_count": 23,
   "metadata": {
    "execution": {
     "iopub.execute_input": "2020-09-12T13:29:34.030006Z",
     "iopub.status.busy": "2020-09-12T13:29:34.029078Z",
     "iopub.status.idle": "2020-09-12T13:29:34.032351Z",
     "shell.execute_reply": "2020-09-12T13:29:34.032941Z"
    },
    "slideshow": {
     "slide_type": "fragment"
    }
   },
   "outputs": [
    {
     "name": "stdout",
     "output_type": "stream",
     "text": [
      "1. This is a txt file.\n",
      "2. \\n is used to begin a new line"
     ]
    }
   ],
   "source": [
    "with open('workfile.txt') as f:\n",
    "    for line in f:\n",
    "        print(line, end='')"
   ]
  },
  {
   "cell_type": "markdown",
   "metadata": {
    "slideshow": {
     "slide_type": "slide"
    }
   },
   "source": [
    "### Exercise: Wordcount Example\n",
    "\n",
    "[WordCount](https://hadoop.apache.org/docs/current/hadoop-mapreduce-client/hadoop-mapreduce-client-core/MapReduceTutorial.html#Example:_WordCount_v1.0) is a simple application that counts the number of occurrences of each word in a given input set.\n",
    "\n",
    "- Use lorem module to write a text in the file \"sample.txt\"\n",
    "- Write a function `words` with file name as input that returns a sorted list of words present in the file.\n",
    "- Write the function `reduce` to read the results of words and sum the occurrences of each word to a final count, and then output the results as a dictionary\n",
    "`{word1:occurences1, word2:occurences2}`.\n",
    "- You can check the results using piped shell commands:\n",
    "```sh\n",
    "cat sample.txt | fmt -1 | tr [:upper:] [:lower:] | tr -d '.' | sort | uniq -c \n",
    "```"
   ]
  },
  {
   "cell_type": "code",
   "execution_count": 24,
   "metadata": {
    "execution": {
     "iopub.execute_input": "2020-09-12T13:29:34.038041Z",
     "iopub.status.busy": "2020-09-12T13:29:34.037147Z",
     "iopub.status.idle": "2020-09-12T13:29:34.043552Z",
     "shell.execute_reply": "2020-09-12T13:29:34.044432Z"
    },
    "slideshow": {
     "slide_type": "slide"
    }
   },
   "outputs": [
    {
     "data": {
      "text/plain": [
       "'Dolor consectetur adipisci labore tempora sed velit. Non magnam consectetur dolor etincidunt. Non est dolore sit. Amet aliquam est porro. Quaerat porro sed magnam tempora porro. Dolore tempora non ipsum sit adipisci dolore. Ipsum adipisci porro sit.\\n\\nAdipisci quiquia modi labore. Numquam modi ipsum numquam sit. Etincidunt sit magnam est quaerat velit labore dolore. Sit magnam ipsum labore est non. Voluptatem tempora modi neque est ipsum ut. Sit ipsum non quisquam. Voluptatem quiquia quisquam dolorem ipsum aliquam dolorem. Etincidunt aliquam adipisci quiquia etincidunt sed ipsum. Sed sed sed voluptatem eius consectetur. Ipsum modi labore quaerat etincidunt adipisci consectetur.\\n\\nUt amet labore etincidunt numquam dolore. Porro numquam voluptatem ut. Labore dolorem porro quaerat aliquam labore non. Ut dolore non aliquam velit labore quaerat adipisci. Non dolore modi magnam etincidunt modi dolor. Sed quiquia modi consectetur modi ut voluptatem. Est est dolorem quaerat quiquia voluptatem. Quaerat eius amet consectetur sit ipsum eius. Modi magnam quaerat neque non quiquia. Etincidunt ut modi dolorem.'"
      ]
     },
     "execution_count": 24,
     "metadata": {},
     "output_type": "execute_result"
    }
   ],
   "source": [
    "from lorem import text\n",
    "\n",
    "text()"
   ]
  },
  {
   "cell_type": "code",
   "execution_count": 25,
   "metadata": {
    "execution": {
     "iopub.execute_input": "2020-09-12T13:29:34.050111Z",
     "iopub.status.busy": "2020-09-12T13:29:34.049100Z",
     "iopub.status.idle": "2020-09-12T13:29:34.051663Z",
     "shell.execute_reply": "2020-09-12T13:29:34.052307Z"
    },
    "slideshow": {
     "slide_type": "slide"
    }
   },
   "outputs": [],
   "source": [
    "def words( file ):\n",
    "    \"\"\" Parse a file and returns a sorted list of words \"\"\"\n",
    "    pass\n",
    "\n",
    "words('sample.txt')\n",
    "#[('adipisci', 1),\n",
    "# ('adipisci', 1),\n",
    "# ('adipisci', 1),\n",
    "# ('aliquam', 1),\n",
    "# ('aliquam', 1),"
   ]
  },
  {
   "cell_type": "code",
   "execution_count": 26,
   "metadata": {
    "execution": {
     "iopub.execute_input": "2020-09-12T13:29:34.058020Z",
     "iopub.status.busy": "2020-09-12T13:29:34.056944Z",
     "iopub.status.idle": "2020-09-12T13:29:34.060537Z",
     "shell.execute_reply": "2020-09-12T13:29:34.061175Z"
    },
    "slideshow": {
     "slide_type": "fragment"
    }
   },
   "outputs": [
    {
     "data": {
      "text/plain": [
       "{'word1': 3, 'word2': 2}"
      ]
     },
     "execution_count": 26,
     "metadata": {},
     "output_type": "execute_result"
    }
   ],
   "source": [
    "d = {}\n",
    "d['word1'] = 3\n",
    "d['word2'] = 2\n",
    "d"
   ]
  },
  {
   "cell_type": "code",
   "execution_count": 27,
   "metadata": {
    "execution": {
     "iopub.execute_input": "2020-09-12T13:29:34.066230Z",
     "iopub.status.busy": "2020-09-12T13:29:34.065381Z",
     "iopub.status.idle": "2020-09-12T13:29:34.068046Z",
     "shell.execute_reply": "2020-09-12T13:29:34.068670Z"
    },
    "slideshow": {
     "slide_type": "slide"
    }
   },
   "outputs": [],
   "source": [
    "def reduce ( words ):\n",
    "    \"\"\" Count the number of occurences of a word in list\n",
    "    and return a dictionary \"\"\"\n",
    "    pass\n",
    "\n",
    "reduce(words('sample.txt'))\n",
    "#{'neque': 80),\n",
    "# 'ut': 80,\n",
    "# 'est': 76,\n",
    "# 'amet': 74,\n",
    "# 'magnam': 74,\n",
    "# 'adipisci': 73,"
   ]
  },
  {
   "cell_type": "markdown",
   "metadata": {
    "slideshow": {
     "slide_type": "slide"
    }
   },
   "source": [
    "## Saving structured data with json\n",
    "\n",
    "- JSON (JavaScript Object Notation) is a popular data interchange format.\n",
    "- JSON format is commonly used by modern applications to allow for data exchange. \n",
    "- JSON can be used to communicate with applications written in other languages."
   ]
  },
  {
   "cell_type": "code",
   "execution_count": 28,
   "metadata": {
    "execution": {
     "iopub.execute_input": "2020-09-12T13:29:34.074098Z",
     "iopub.status.busy": "2020-09-12T13:29:34.073010Z",
     "iopub.status.idle": "2020-09-12T13:29:34.076869Z",
     "shell.execute_reply": "2020-09-12T13:29:34.077478Z"
    },
    "slideshow": {
     "slide_type": "fragment"
    }
   },
   "outputs": [
    {
     "data": {
      "text/plain": [
       "'[1, \"simple\", \"list\"]'"
      ]
     },
     "execution_count": 28,
     "metadata": {},
     "output_type": "execute_result"
    }
   ],
   "source": [
    "import json\n",
    "json.dumps([1, 'simple', 'list'])"
   ]
  },
  {
   "cell_type": "code",
   "execution_count": 29,
   "metadata": {
    "execution": {
     "iopub.execute_input": "2020-09-12T13:29:34.082823Z",
     "iopub.status.busy": "2020-09-12T13:29:34.081862Z",
     "iopub.status.idle": "2020-09-12T13:29:34.085296Z",
     "shell.execute_reply": "2020-09-12T13:29:34.085926Z"
    },
    "slideshow": {
     "slide_type": "fragment"
    }
   },
   "outputs": [],
   "source": [
    "x = dict(name=\"Pierre Navaro\", organization=\"CNRS\", position=\"IR\")\n",
    "with open('workfile.json','w') as f:\n",
    "    json.dump(x, f)"
   ]
  },
  {
   "cell_type": "code",
   "execution_count": 30,
   "metadata": {
    "execution": {
     "iopub.execute_input": "2020-09-12T13:29:34.091275Z",
     "iopub.status.busy": "2020-09-12T13:29:34.090025Z",
     "iopub.status.idle": "2020-09-12T13:29:34.094764Z",
     "shell.execute_reply": "2020-09-12T13:29:34.095372Z"
    },
    "slideshow": {
     "slide_type": "fragment"
    }
   },
   "outputs": [
    {
     "data": {
      "text/plain": [
       "{'name': 'Pierre Navaro', 'organization': 'CNRS', 'position': 'IR'}"
      ]
     },
     "execution_count": 30,
     "metadata": {},
     "output_type": "execute_result"
    }
   ],
   "source": [
    "with open('workfile.json','r') as f:\n",
    "    x = json.load(f)\n",
    "x"
   ]
  },
  {
   "cell_type": "code",
   "execution_count": 31,
   "metadata": {
    "execution": {
     "iopub.execute_input": "2020-09-12T13:29:34.100885Z",
     "iopub.status.busy": "2020-09-12T13:29:34.099719Z",
     "iopub.status.idle": "2020-09-12T13:29:34.223217Z",
     "shell.execute_reply": "2020-09-12T13:29:34.223857Z"
    },
    "slideshow": {
     "slide_type": "slide"
    }
   },
   "outputs": [
    {
     "name": "stdout",
     "output_type": "stream",
     "text": [
      "{\"name\": \"Pierre Navaro\", \"organization\": \"CNRS\", \"position\": \"IR\"}"
     ]
    }
   ],
   "source": [
    "%cat workfile.json"
   ]
  },
  {
   "cell_type": "markdown",
   "metadata": {
    "slideshow": {
     "slide_type": "fragment"
    }
   },
   "source": [
    "Use `ujson` for big data structures\n",
    "https://pypi.python.org/pypi/ujson\n",
    "\n",
    "For common file formats used in data science (CSV, xls, feather, parquet, ORC, HDF, avro,  ...) use packages like [pandas](https://pandas.pydata.org) or better [pyarrow](https://arrow.apache.org/docs/python/index.html). It depends of what you want to do with your data but [Dask](https://dask.org) and [pyspark](https://spark.apache.org/docs/latest/api/python/index.html) offer features to read and write (big) data files.\n"
   ]
  }
 ],
 "metadata": {
  "kernelspec": {
   "display_name": "Python 3",
   "language": "python",
   "name": "python3"
  },
  "language_info": {
   "codemirror_mode": {
    "name": "ipython",
    "version": 3
   },
   "file_extension": ".py",
   "mimetype": "text/x-python",
   "name": "python",
   "nbconvert_exporter": "python",
   "pygments_lexer": "ipython3",
   "version": "3.8.5"
  }
 },
 "nbformat": 4,
 "nbformat_minor": 4
}
