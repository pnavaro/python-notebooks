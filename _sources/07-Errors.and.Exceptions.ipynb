{
 "cells": [
  {
   "cell_type": "markdown",
   "metadata": {
    "slideshow": {
     "slide_type": "slide"
    }
   },
   "source": [
    "# Errors and Exceptions\n",
    "\n",
    "There are two distinguishable kinds of errors: *syntax errors* and *exceptions*.\n",
    "- Syntax errors, also known as parsing errors, are the most common.\n",
    "- Exceptions are errors caused by statement or expression syntactically corrects.\n",
    "- Exceptions are not unconditionally fatal.\n",
    "\n",
    "[Exceptions in Python documentation](https://docs.python.org/3/library/exceptions.html)"
   ]
  },
  {
   "cell_type": "code",
   "execution_count": 1,
   "metadata": {
    "execution": {
     "iopub.execute_input": "2020-09-12T13:47:17.253376Z",
     "iopub.status.busy": "2020-09-12T13:47:17.252398Z",
     "iopub.status.idle": "2020-09-12T13:47:17.256301Z",
     "shell.execute_reply": "2020-09-12T13:47:17.256911Z"
    },
    "slideshow": {
     "slide_type": "slide"
    }
   },
   "outputs": [
    {
     "name": "stdout",
     "output_type": "stream",
     "text": [
      "<class 'ZeroDivisionError'>\n"
     ]
    }
   ],
   "source": [
    "import sys\n",
    "try:\n",
    "    10 * (1/0)\n",
    "except:\n",
    "    print(sys.exc_info()[0])"
   ]
  },
  {
   "cell_type": "code",
   "execution_count": 2,
   "metadata": {
    "execution": {
     "iopub.execute_input": "2020-09-12T13:47:17.262395Z",
     "iopub.status.busy": "2020-09-12T13:47:17.261483Z",
     "iopub.status.idle": "2020-09-12T13:47:17.264636Z",
     "shell.execute_reply": "2020-09-12T13:47:17.265243Z"
    },
    "slideshow": {
     "slide_type": "slide"
    }
   },
   "outputs": [
    {
     "name": "stdout",
     "output_type": "stream",
     "text": [
      "<class 'NameError'>\n"
     ]
    }
   ],
   "source": [
    "try:\n",
    "    4 + spam*3\n",
    "except:\n",
    "    print(sys.exc_info()[0])"
   ]
  },
  {
   "cell_type": "code",
   "execution_count": 3,
   "metadata": {
    "execution": {
     "iopub.execute_input": "2020-09-12T13:47:17.270471Z",
     "iopub.status.busy": "2020-09-12T13:47:17.269419Z",
     "iopub.status.idle": "2020-09-12T13:47:17.272891Z",
     "shell.execute_reply": "2020-09-12T13:47:17.273509Z"
    },
    "slideshow": {
     "slide_type": "slide"
    }
   },
   "outputs": [
    {
     "name": "stdout",
     "output_type": "stream",
     "text": [
      "<class 'TypeError'>\n"
     ]
    }
   ],
   "source": [
    "try:\n",
    "    '2' + 2\n",
    "except:\n",
    "    print(sys.exc_info()[0])"
   ]
  },
  {
   "cell_type": "markdown",
   "metadata": {
    "slideshow": {
     "slide_type": "slide"
    }
   },
   "source": [
    "## Handling Exceptions\n",
    "\n",
    "- In example below, the user can interrupt the program with `Control-C` or the `stop` button in Jupyter Notebook.\n",
    "- Note that a user-generated interruption is signalled by raising the **KeyboardInterrupt** exception.\n"
   ]
  },
  {
   "cell_type": "code",
   "execution_count": 4,
   "metadata": {
    "execution": {
     "iopub.execute_input": "2020-09-12T13:47:17.279110Z",
     "iopub.status.busy": "2020-09-12T13:47:17.278224Z",
     "iopub.status.idle": "2020-09-12T13:47:17.282055Z",
     "shell.execute_reply": "2020-09-12T13:47:17.281442Z"
    },
    "slideshow": {
     "slide_type": "fragment"
    }
   },
   "outputs": [
    {
     "name": "stdout",
     "output_type": "stream",
     "text": [
      "Oops!  That was no valid number.  Try again...\n",
      "Oops!  That was no valid number.  Try again...\n",
      " x = 1000\n"
     ]
    }
   ],
   "source": [
    "for s in (\"0.1\", \"foo\", \"1000\"):\n",
    "   try:\n",
    "     x = int(s)\n",
    "     print(f' x = {x}')\n",
    "     break\n",
    "   except ValueError:\n",
    "     print(\"Oops!  That was no valid number.  Try again...\")"
   ]
  },
  {
   "cell_type": "markdown",
   "metadata": {
    "slideshow": {
     "slide_type": "slide"
    }
   },
   "source": [
    "- A try statement may have more than one except clause\n",
    "- The optional `else` clause must follow all except clauses."
   ]
  },
  {
   "cell_type": "code",
   "execution_count": 5,
   "metadata": {
    "execution": {
     "iopub.execute_input": "2020-09-12T13:47:17.289767Z",
     "iopub.status.busy": "2020-09-12T13:47:17.288636Z",
     "iopub.status.idle": "2020-09-12T13:47:17.291519Z",
     "shell.execute_reply": "2020-09-12T13:47:17.292147Z"
    },
    "slideshow": {
     "slide_type": "fragment"
    }
   },
   "outputs": [],
   "source": [
    "import sys\n",
    "\n",
    "def process_file(file):\n",
    "    \" Read the first line of f and convert to int and check if this integer is positive\"\n",
    "    try:\n",
    "        i = int(open(file).readline().strip()) \n",
    "        print(i)\n",
    "        assert i > 0\n",
    "    except OSError as err:\n",
    "        print(f\"OS error: {err}\")\n",
    "    except ValueError:\n",
    "        print(\"Could not convert data to an integer.\")\n",
    "    except:\n",
    "        print(\"Unexpected error:\", sys.exc_info()[0])\n",
    "\n",
    "# Create the file workfile.txt\n",
    "with open('workfile.txt','w') as f:\n",
    "    f.write(\"foo\")\n",
    "    f.write(\"bar\")"
   ]
  },
  {
   "cell_type": "code",
   "execution_count": 6,
   "metadata": {
    "execution": {
     "iopub.execute_input": "2020-09-12T13:47:17.297608Z",
     "iopub.status.busy": "2020-09-12T13:47:17.296591Z",
     "iopub.status.idle": "2020-09-12T13:47:17.299994Z",
     "shell.execute_reply": "2020-09-12T13:47:17.300586Z"
    },
    "slideshow": {
     "slide_type": "slide"
    }
   },
   "outputs": [
    {
     "name": "stdout",
     "output_type": "stream",
     "text": [
      "Could not convert data to an integer.\n"
     ]
    }
   ],
   "source": [
    "process_file('workfile.txt') # catch exception return by int() call"
   ]
  },
  {
   "cell_type": "code",
   "execution_count": 7,
   "metadata": {
    "execution": {
     "iopub.execute_input": "2020-09-12T13:47:17.305828Z",
     "iopub.status.busy": "2020-09-12T13:47:17.304772Z",
     "iopub.status.idle": "2020-09-12T13:47:17.426916Z",
     "shell.execute_reply": "2020-09-12T13:47:17.427877Z"
    },
    "slideshow": {
     "slide_type": "slide"
    }
   },
   "outputs": [],
   "source": [
    "# Change permission of the file, workfile.txt cannot be read\n",
    "!chmod u-r workfile.txt"
   ]
  },
  {
   "cell_type": "code",
   "execution_count": 8,
   "metadata": {
    "execution": {
     "iopub.execute_input": "2020-09-12T13:47:17.433291Z",
     "iopub.status.busy": "2020-09-12T13:47:17.432284Z",
     "iopub.status.idle": "2020-09-12T13:47:17.435847Z",
     "shell.execute_reply": "2020-09-12T13:47:17.436464Z"
    },
    "slideshow": {
     "slide_type": "fragment"
    }
   },
   "outputs": [
    {
     "name": "stdout",
     "output_type": "stream",
     "text": [
      "OS error: [Errno 13] Permission denied: 'workfile.txt'\n"
     ]
    }
   ],
   "source": [
    "process_file('workfile.txt') # catch exception return by open() call"
   ]
  },
  {
   "cell_type": "code",
   "execution_count": 9,
   "metadata": {
    "execution": {
     "iopub.execute_input": "2020-09-12T13:47:17.441594Z",
     "iopub.status.busy": "2020-09-12T13:47:17.440670Z",
     "iopub.status.idle": "2020-09-12T13:47:17.560453Z",
     "shell.execute_reply": "2020-09-12T13:47:17.561111Z"
    },
    "slideshow": {
     "slide_type": "slide"
    }
   },
   "outputs": [],
   "source": [
    "# Let's delete the file workfile.txt\n",
    "!rm -f workfile.txt"
   ]
  },
  {
   "cell_type": "code",
   "execution_count": 10,
   "metadata": {
    "execution": {
     "iopub.execute_input": "2020-09-12T13:47:17.566570Z",
     "iopub.status.busy": "2020-09-12T13:47:17.565628Z",
     "iopub.status.idle": "2020-09-12T13:47:17.568858Z",
     "shell.execute_reply": "2020-09-12T13:47:17.569496Z"
    },
    "slideshow": {
     "slide_type": "fragment"
    }
   },
   "outputs": [
    {
     "name": "stdout",
     "output_type": "stream",
     "text": [
      "OS error: [Errno 2] No such file or directory: 'workfile.txt'\n"
     ]
    }
   ],
   "source": [
    "process_file('workfile.txt') # catch another exception return by open() call"
   ]
  },
  {
   "cell_type": "code",
   "execution_count": 11,
   "metadata": {
    "execution": {
     "iopub.execute_input": "2020-09-12T13:47:17.575264Z",
     "iopub.status.busy": "2020-09-12T13:47:17.574381Z",
     "iopub.status.idle": "2020-09-12T13:47:17.811039Z",
     "shell.execute_reply": "2020-09-12T13:47:17.811762Z"
    },
    "slideshow": {
     "slide_type": "slide"
    }
   },
   "outputs": [
    {
     "name": "stdout",
     "output_type": "stream",
     "text": [
      "-1\r\n"
     ]
    }
   ],
   "source": [
    "# Insert the value -1 at the top of workfile.txt\n",
    "!echo \"-1\" > workfile.txt\n",
    "%cat workfile.txt"
   ]
  },
  {
   "cell_type": "code",
   "execution_count": 12,
   "metadata": {
    "execution": {
     "iopub.execute_input": "2020-09-12T13:47:17.817261Z",
     "iopub.status.busy": "2020-09-12T13:47:17.816258Z",
     "iopub.status.idle": "2020-09-12T13:47:17.819768Z",
     "shell.execute_reply": "2020-09-12T13:47:17.820525Z"
    },
    "slideshow": {
     "slide_type": "slide"
    }
   },
   "outputs": [
    {
     "name": "stdout",
     "output_type": "stream",
     "text": [
      "-1\n",
      "Unexpected error: <class 'AssertionError'>\n"
     ]
    }
   ],
   "source": [
    "process_file('workfile.txt') # catch exception return by assert()"
   ]
  },
  {
   "cell_type": "markdown",
   "metadata": {
    "slideshow": {
     "slide_type": "slide"
    }
   },
   "source": [
    "## Raising Exceptions\n",
    "\n",
    "The raise statement allows the programmer to force a specified exception to occur.\n"
   ]
  },
  {
   "cell_type": "code",
   "execution_count": 13,
   "metadata": {
    "execution": {
     "iopub.execute_input": "2020-09-12T13:47:17.826112Z",
     "iopub.status.busy": "2020-09-12T13:47:17.825097Z",
     "iopub.status.idle": "2020-09-12T13:47:17.828438Z",
     "shell.execute_reply": "2020-09-12T13:47:17.829044Z"
    },
    "slideshow": {
     "slide_type": "fragment"
    }
   },
   "outputs": [
    {
     "name": "stdout",
     "output_type": "stream",
     "text": [
      "<class 'NameError'>\n"
     ]
    }
   ],
   "source": [
    "try:\n",
    "    raise NameError('HiThere')\n",
    "except:\n",
    "    print(sys.exc_info()[0])"
   ]
  },
  {
   "cell_type": "markdown",
   "metadata": {
    "slideshow": {
     "slide_type": "slide"
    }
   },
   "source": [
    "## Defining Clean-up Actions\n",
    "\n",
    "- The try statement has an optional clause which is intended to define clean-up actions that must be executed under all circumstances.\n",
    "\n",
    "- A finally clause is always executed before leaving the try statement"
   ]
  },
  {
   "cell_type": "code",
   "execution_count": 14,
   "metadata": {
    "execution": {
     "iopub.execute_input": "2020-09-12T13:47:17.834598Z",
     "iopub.status.busy": "2020-09-12T13:47:17.833605Z",
     "iopub.status.idle": "2020-09-12T13:47:17.837110Z",
     "shell.execute_reply": "2020-09-12T13:47:17.837708Z"
    },
    "slideshow": {
     "slide_type": "fragment"
    }
   },
   "outputs": [
    {
     "name": "stdout",
     "output_type": "stream",
     "text": [
      "<class 'KeyboardInterrupt'>\n",
      "Goodbye, world!\n"
     ]
    }
   ],
   "source": [
    "try:\n",
    "     raise KeyboardInterrupt\n",
    "except:\n",
    "    print(sys.exc_info()[0])\n",
    "finally:\n",
    "     print('Goodbye, world!')"
   ]
  },
  {
   "cell_type": "markdown",
   "metadata": {
    "slideshow": {
     "slide_type": "slide"
    }
   },
   "source": [
    "### Wordcount Exercise\n",
    "- Improve the function `reduce` to read the results of `words` by using the `KeyError` exception to fill in the dictionary.\n",
    " "
   ]
  }
 ],
 "metadata": {
  "kernelspec": {
   "display_name": "Python 3",
   "language": "python",
   "name": "python3"
  },
  "language_info": {
   "codemirror_mode": {
    "name": "ipython",
    "version": 3
   },
   "file_extension": ".py",
   "mimetype": "text/x-python",
   "name": "python",
   "nbconvert_exporter": "python",
   "pygments_lexer": "ipython3",
   "version": "3.8.5"
  }
 },
 "nbformat": 4,
 "nbformat_minor": 4
}
