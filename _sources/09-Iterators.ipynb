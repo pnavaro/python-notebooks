{
 "cells": [
  {
   "cell_type": "markdown",
   "metadata": {
    "slideshow": {
     "slide_type": "slide"
    }
   },
   "source": [
    "# Iterators\n",
    "Most container objects can be looped over using a for statement:"
   ]
  },
  {
   "cell_type": "code",
   "execution_count": 1,
   "metadata": {
    "execution": {
     "iopub.execute_input": "2020-09-12T14:00:01.231861Z",
     "iopub.status.busy": "2020-09-12T14:00:01.229808Z",
     "iopub.status.idle": "2020-09-12T14:00:01.235347Z",
     "shell.execute_reply": "2020-09-12T14:00:01.234743Z"
    },
    "slideshow": {
     "slide_type": "slide"
    }
   },
   "outputs": [
    {
     "name": "stdout",
     "output_type": "stream",
     "text": [
      "1 2 3 "
     ]
    }
   ],
   "source": [
    "for element in [1, 2, 3]:\n",
    "    print(element, end=' ')"
   ]
  },
  {
   "cell_type": "code",
   "execution_count": 2,
   "metadata": {
    "execution": {
     "iopub.execute_input": "2020-09-12T14:00:01.240524Z",
     "iopub.status.busy": "2020-09-12T14:00:01.239599Z",
     "iopub.status.idle": "2020-09-12T14:00:01.242852Z",
     "shell.execute_reply": "2020-09-12T14:00:01.243426Z"
    },
    "slideshow": {
     "slide_type": "slide"
    }
   },
   "outputs": [
    {
     "name": "stdout",
     "output_type": "stream",
     "text": [
      "1 2 3 "
     ]
    }
   ],
   "source": [
    "for element in (1, 2, 3):\n",
    "    print(element, end=' ')"
   ]
  },
  {
   "cell_type": "code",
   "execution_count": 3,
   "metadata": {
    "execution": {
     "iopub.execute_input": "2020-09-12T14:00:01.248718Z",
     "iopub.status.busy": "2020-09-12T14:00:01.247851Z",
     "iopub.status.idle": "2020-09-12T14:00:01.250913Z",
     "shell.execute_reply": "2020-09-12T14:00:01.251475Z"
    },
    "slideshow": {
     "slide_type": "slide"
    }
   },
   "outputs": [
    {
     "name": "stdout",
     "output_type": "stream",
     "text": [
      "one two "
     ]
    }
   ],
   "source": [
    "for key in {'one': 1, 'two': 2}:\n",
    "    print(key, end=' ')"
   ]
  },
  {
   "cell_type": "code",
   "execution_count": 4,
   "metadata": {
    "execution": {
     "iopub.execute_input": "2020-09-12T14:00:01.256381Z",
     "iopub.status.busy": "2020-09-12T14:00:01.255572Z",
     "iopub.status.idle": "2020-09-12T14:00:01.258449Z",
     "shell.execute_reply": "2020-09-12T14:00:01.259032Z"
    },
    "slideshow": {
     "slide_type": "slide"
    }
   },
   "outputs": [
    {
     "name": "stdout",
     "output_type": "stream",
     "text": [
      "1 2 3 "
     ]
    }
   ],
   "source": [
    "for char in \"123\":\n",
    "    print(char, end=' ')"
   ]
  },
  {
   "cell_type": "code",
   "execution_count": 5,
   "metadata": {
    "execution": {
     "iopub.execute_input": "2020-09-12T14:00:01.264205Z",
     "iopub.status.busy": "2020-09-12T14:00:01.263330Z",
     "iopub.status.idle": "2020-09-12T14:00:01.266965Z",
     "shell.execute_reply": "2020-09-12T14:00:01.267547Z"
    },
    "slideshow": {
     "slide_type": "slide"
    }
   },
   "outputs": [
    {
     "name": "stdout",
     "output_type": "stream",
     "text": [
      "channels:\n",
      "   - sympy\n",
      "   - conda-forge\n",
      "   - defaults\n",
      " dependencies:\n",
      "   - cython\n",
      "   - fortran-magic\n",
      "   - h5py\n",
      "   - imageio\n",
      "   - ipykernel\n",
      "   - ipywidgets\n",
      "   - joblib\n",
      "   - jupytext\n",
      "   - line_profiler\n",
      "   - lorem\n",
      "   - matplotlib\n",
      "   - memory_profiler\n",
      "   - numba\n",
      "   - numexpr\n",
      "   - numpy\n",
      "   - pillow\n",
      "   - progressbar2\n",
      "   - pythran\n",
      "   - scipy\n",
      "   - seaborn\n",
      "   - setuptools\n",
      "   - sympy\n",
      "   - tqdm\n",
      "   - ujson\n",
      "   - pip\n",
      "   - pip:\n",
      "     - py-heat-magic\n",
      "     - jupyter-book\n",
      " "
     ]
    }
   ],
   "source": [
    "for line in open(\"../environment.yml\"):\n",
    "    print(line, end= ' ')"
   ]
  },
  {
   "cell_type": "markdown",
   "metadata": {
    "slideshow": {
     "slide_type": "slide"
    }
   },
   "source": [
    "- The `for` statement calls `iter()` on the container object. \n",
    "- The function returns an iterator object that defines the method `__next__()`\n",
    "- To add iterator behavior to your classes: \n",
    "    - Define an `__iter__()` method which returns an object with a `__next__()`.\n",
    "    - If the class defines `__next__()`, then `__iter__()` can just return self.\n",
    "    - The **StopIteration** exception indicates the end of the loop."
   ]
  },
  {
   "cell_type": "code",
   "execution_count": 6,
   "metadata": {
    "execution": {
     "iopub.execute_input": "2020-09-12T14:00:01.281505Z",
     "iopub.status.busy": "2020-09-12T14:00:01.280461Z",
     "iopub.status.idle": "2020-09-12T14:00:01.285011Z",
     "shell.execute_reply": "2020-09-12T14:00:01.285587Z"
    },
    "slideshow": {
     "slide_type": "fragment"
    }
   },
   "outputs": [
    {
     "data": {
      "text/plain": [
       "<str_iterator at 0x7f9a26ec26a0>"
      ]
     },
     "execution_count": 6,
     "metadata": {},
     "output_type": "execute_result"
    }
   ],
   "source": [
    "s = 'abc'\n",
    "it = iter(s)\n",
    "it"
   ]
  },
  {
   "cell_type": "code",
   "execution_count": 7,
   "metadata": {
    "execution": {
     "iopub.execute_input": "2020-09-12T14:00:01.291631Z",
     "iopub.status.busy": "2020-09-12T14:00:01.290652Z",
     "iopub.status.idle": "2020-09-12T14:00:01.294202Z",
     "shell.execute_reply": "2020-09-12T14:00:01.294776Z"
    },
    "slideshow": {
     "slide_type": "fragment"
    }
   },
   "outputs": [
    {
     "data": {
      "text/plain": [
       "('a', 'b', 'c')"
      ]
     },
     "execution_count": 7,
     "metadata": {},
     "output_type": "execute_result"
    }
   ],
   "source": [
    "next(it), next(it), next(it)"
   ]
  },
  {
   "cell_type": "code",
   "execution_count": 8,
   "metadata": {
    "execution": {
     "iopub.execute_input": "2020-09-12T14:00:01.302273Z",
     "iopub.status.busy": "2020-09-12T14:00:01.301316Z",
     "iopub.status.idle": "2020-09-12T14:00:01.303519Z",
     "shell.execute_reply": "2020-09-12T14:00:01.304316Z"
    },
    "slideshow": {
     "slide_type": "slide"
    }
   },
   "outputs": [],
   "source": [
    "class Reverse:\n",
    "    \"\"\"Iterator for looping over a sequence backwards.\"\"\"\n",
    "\n",
    "    def __init__(self, data):\n",
    "        self.data = data\n",
    "        self.index = len(data)\n",
    "\n",
    "    def __iter__(self):\n",
    "        return self\n",
    "\n",
    "    def __next__(self):\n",
    "        if self.index == 0:\n",
    "            raise StopIteration\n",
    "        self.index = self.index - 1\n",
    "        return self.data[self.index]"
   ]
  },
  {
   "cell_type": "code",
   "execution_count": 9,
   "metadata": {
    "execution": {
     "iopub.execute_input": "2020-09-12T14:00:01.309270Z",
     "iopub.status.busy": "2020-09-12T14:00:01.308328Z",
     "iopub.status.idle": "2020-09-12T14:00:01.311597Z",
     "shell.execute_reply": "2020-09-12T14:00:01.312173Z"
    },
    "slideshow": {
     "slide_type": "fragment"
    }
   },
   "outputs": [
    {
     "name": "stdout",
     "output_type": "stream",
     "text": [
      "maps"
     ]
    }
   ],
   "source": [
    "rev = Reverse('spam')\n",
    "for char in rev:\n",
    "    print(char, end='')"
   ]
  },
  {
   "cell_type": "code",
   "execution_count": 10,
   "metadata": {
    "execution": {
     "iopub.execute_input": "2020-09-12T14:00:01.318250Z",
     "iopub.status.busy": "2020-09-12T14:00:01.317364Z",
     "iopub.status.idle": "2020-09-12T14:00:01.320548Z",
     "shell.execute_reply": "2020-09-12T14:00:01.321123Z"
    },
    "slideshow": {
     "slide_type": "slide"
    }
   },
   "outputs": [
    {
     "name": "stdout",
     "output_type": "stream",
     "text": [
      "zorglub"
     ]
    }
   ],
   "source": [
    "def reverse(data): # Python 3.6\n",
    "    yield from data[::-1]\n",
    "    \n",
    "for char in reverse('bulgroz'):\n",
    "     print(char, end='')"
   ]
  },
  {
   "cell_type": "markdown",
   "metadata": {
    "slideshow": {
     "slide_type": "slide"
    }
   },
   "source": [
    "## Generators\n",
    "- Generators are a simple and powerful tool for creating iterators.\n",
    "- Write regular functions but use the yield statement when you want to return data.\n",
    "- the `__iter__()` and `__next__()` methods are created automatically.\n"
   ]
  },
  {
   "cell_type": "code",
   "execution_count": 11,
   "metadata": {
    "execution": {
     "iopub.execute_input": "2020-09-12T14:00:01.326496Z",
     "iopub.status.busy": "2020-09-12T14:00:01.325694Z",
     "iopub.status.idle": "2020-09-12T14:00:01.328060Z",
     "shell.execute_reply": "2020-09-12T14:00:01.328721Z"
    },
    "slideshow": {
     "slide_type": "fragment"
    }
   },
   "outputs": [],
   "source": [
    "def reverse(data):\n",
    "    for index in range(len(data)-1, -1, -1):\n",
    "        yield data[index]"
   ]
  },
  {
   "cell_type": "code",
   "execution_count": 12,
   "metadata": {
    "execution": {
     "iopub.execute_input": "2020-09-12T14:00:01.333750Z",
     "iopub.status.busy": "2020-09-12T14:00:01.332867Z",
     "iopub.status.idle": "2020-09-12T14:00:01.335915Z",
     "shell.execute_reply": "2020-09-12T14:00:01.336509Z"
    },
    "slideshow": {
     "slide_type": "fragment"
    }
   },
   "outputs": [
    {
     "name": "stdout",
     "output_type": "stream",
     "text": [
      "zorglub"
     ]
    }
   ],
   "source": [
    "for char in reverse('bulgroz'):\n",
    "     print(char, end='')"
   ]
  },
  {
   "cell_type": "markdown",
   "metadata": {},
   "source": [
    "### Exercise \n",
    "\n",
    "Generates a list of IP addresses based on IP range. \n",
    "\n",
    "```python\n",
    "ip_range = \n",
    "for ip in ip_range(\"192.168.1.0\", \"192.168.1.10\"):\n",
    "   print(ip)\n",
    "\n",
    "192.168.1.0\n",
    "192.168.1.1\n",
    "192.168.1.2\n",
    "...\n",
    "```"
   ]
  },
  {
   "cell_type": "markdown",
   "metadata": {
    "slideshow": {
     "slide_type": "slide"
    }
   },
   "source": [
    "## Generator Expressions\n",
    "\n",
    "- Use a syntax similar to list comprehensions but with parentheses instead of brackets.\n",
    "- Tend to be more memory friendly than equivalent list comprehensions."
   ]
  },
  {
   "cell_type": "code",
   "execution_count": 13,
   "metadata": {
    "execution": {
     "iopub.execute_input": "2020-09-12T14:00:01.341775Z",
     "iopub.status.busy": "2020-09-12T14:00:01.340870Z",
     "iopub.status.idle": "2020-09-12T14:00:01.344138Z",
     "shell.execute_reply": "2020-09-12T14:00:01.344710Z"
    },
    "slideshow": {
     "slide_type": "fragment"
    }
   },
   "outputs": [
    {
     "data": {
      "text/plain": [
       "285"
      ]
     },
     "execution_count": 13,
     "metadata": {},
     "output_type": "execute_result"
    }
   ],
   "source": [
    "sum(i*i for i in range(10))                 # sum of squares"
   ]
  },
  {
   "cell_type": "code",
   "execution_count": 14,
   "metadata": {
    "execution": {
     "iopub.execute_input": "2020-09-12T14:00:01.349916Z",
     "iopub.status.busy": "2020-09-12T14:00:01.349086Z",
     "iopub.status.idle": "2020-09-12T14:00:01.881615Z",
     "shell.execute_reply": "2020-09-12T14:00:01.882538Z"
    },
    "slideshow": {
     "slide_type": "fragment"
    }
   },
   "outputs": [],
   "source": [
    "%load_ext memory_profiler"
   ]
  },
  {
   "cell_type": "code",
   "execution_count": 15,
   "metadata": {
    "execution": {
     "iopub.execute_input": "2020-09-12T14:00:01.912654Z",
     "iopub.status.busy": "2020-09-12T14:00:01.911881Z",
     "iopub.status.idle": "2020-09-12T14:00:02.099114Z",
     "shell.execute_reply": "2020-09-12T14:00:02.099705Z"
    },
    "slideshow": {
     "slide_type": "fragment"
    }
   },
   "outputs": [
    {
     "name": "stdout",
     "output_type": "stream",
     "text": [
      "peak memory: 47.87 MiB, increment: 1.25 MiB\n"
     ]
    }
   ],
   "source": [
    "%memit doubles = [2 * n for n in range(10000)]"
   ]
  },
  {
   "cell_type": "code",
   "execution_count": 16,
   "metadata": {
    "execution": {
     "iopub.execute_input": "2020-09-12T14:00:02.133855Z",
     "iopub.status.busy": "2020-09-12T14:00:02.133082Z",
     "iopub.status.idle": "2020-09-12T14:00:02.307287Z",
     "shell.execute_reply": "2020-09-12T14:00:02.307891Z"
    },
    "slideshow": {
     "slide_type": "fragment"
    }
   },
   "outputs": [
    {
     "name": "stdout",
     "output_type": "stream",
     "text": [
      "peak memory: 47.32 MiB, increment: -0.56 MiB\n"
     ]
    }
   ],
   "source": [
    "%memit doubles = (2 * n for n in range(10000))"
   ]
  },
  {
   "cell_type": "code",
   "execution_count": 17,
   "metadata": {
    "execution": {
     "iopub.execute_input": "2020-09-12T14:00:02.314318Z",
     "iopub.status.busy": "2020-09-12T14:00:02.313384Z",
     "iopub.status.idle": "2020-09-12T14:00:02.317286Z",
     "shell.execute_reply": "2020-09-12T14:00:02.316635Z"
    },
    "slideshow": {
     "slide_type": "slide"
    }
   },
   "outputs": [
    {
     "name": "stdout",
     "output_type": "stream",
     "text": [
      "0 2 4 6 8 10 12 14 16 18 "
     ]
    }
   ],
   "source": [
    "# list comprehension\n",
    "doubles = [2 * n for n in range(10)]\n",
    "for x in doubles:\n",
    "    print(x, end=' ')"
   ]
  },
  {
   "cell_type": "code",
   "execution_count": 18,
   "metadata": {
    "execution": {
     "iopub.execute_input": "2020-09-12T14:00:02.323362Z",
     "iopub.status.busy": "2020-09-12T14:00:02.322430Z",
     "iopub.status.idle": "2020-09-12T14:00:02.325630Z",
     "shell.execute_reply": "2020-09-12T14:00:02.326203Z"
    },
    "slideshow": {
     "slide_type": "fragment"
    }
   },
   "outputs": [
    {
     "name": "stdout",
     "output_type": "stream",
     "text": [
      "0 2 4 6 8 10 12 14 16 18 "
     ]
    }
   ],
   "source": [
    "# generator expression\n",
    "doubles = (2 * n for n in range(10))\n",
    "for x in doubles:\n",
    "    print(x, end=' ')"
   ]
  },
  {
   "cell_type": "markdown",
   "metadata": {
    "slideshow": {
     "slide_type": "slide"
    }
   },
   "source": [
    "### Exercise\n",
    "\n",
    "The [Chebyshev polynomials](https://en.wikipedia.org/wiki/Chebyshev_polynomials) of the first kind are defined by the recurrence relation\n",
    "\n",
    "\\begin{align}\n",
    "T_o(x) &= 1 \\\\\n",
    "T_1(x) &= x \\\\\n",
    "T_{n+1} &= 2xT_n(x)-T_{n-1}(x)\n",
    "\\end{align}\n",
    "\n",
    "- Create a class `Chebyshev` that generates the sequence of Chebyshev polynomials"
   ]
  },
  {
   "cell_type": "markdown",
   "metadata": {
    "slideshow": {
     "slide_type": "slide"
    }
   },
   "source": [
    "## itertools\n",
    "\n",
    "### zip_longest\n",
    "\n",
    "`itertools.zip_longest()` accepts any number of iterables \n",
    "as arguments and a fillvalue keyword argument that defaults to None.\n",
    "    "
   ]
  },
  {
   "cell_type": "code",
   "execution_count": 19,
   "metadata": {
    "execution": {
     "iopub.execute_input": "2020-09-12T14:00:02.333626Z",
     "iopub.status.busy": "2020-09-12T14:00:02.332731Z",
     "iopub.status.idle": "2020-09-12T14:00:02.336113Z",
     "shell.execute_reply": "2020-09-12T14:00:02.336685Z"
    },
    "slideshow": {
     "slide_type": "fragment"
    }
   },
   "outputs": [
    {
     "data": {
      "text/plain": [
       "[2, 3, 4, 5, 6, 7, 8]"
      ]
     },
     "execution_count": 19,
     "metadata": {},
     "output_type": "execute_result"
    }
   ],
   "source": [
    "x = [1, 1, 1, 1, 1]\n",
    "y = [1, 2, 3, 4, 5, 6, 7]\n",
    "list(zip(x, y))\n",
    "from itertools import zip_longest\n",
    "list(map(sum,zip_longest(x, y, fillvalue=1)))"
   ]
  },
  {
   "cell_type": "markdown",
   "metadata": {
    "slideshow": {
     "slide_type": "slide"
    }
   },
   "source": [
    "### combinations"
   ]
  },
  {
   "cell_type": "code",
   "execution_count": 20,
   "metadata": {
    "execution": {
     "iopub.execute_input": "2020-09-12T14:00:02.341429Z",
     "iopub.status.busy": "2020-09-12T14:00:02.340533Z",
     "iopub.status.idle": "2020-09-12T14:00:02.342916Z",
     "shell.execute_reply": "2020-09-12T14:00:02.343486Z"
    },
    "slideshow": {
     "slide_type": "fragment"
    }
   },
   "outputs": [],
   "source": [
    "loto_numbers = list(range(1,50))"
   ]
  },
  {
   "cell_type": "markdown",
   "metadata": {
    "slideshow": {
     "slide_type": "fragment"
    }
   },
   "source": [
    "A choice of 6 numbers from the sequence  1 to 49 is called a combination. \n",
    "The `itertools.combinations()` function takes two arguments—an iterable \n",
    "inputs and a positive integer n—and produces an iterator over tuples of \n",
    "all combinations of n elements in inputs."
   ]
  },
  {
   "cell_type": "code",
   "execution_count": 21,
   "metadata": {
    "execution": {
     "iopub.execute_input": "2020-09-12T14:00:05.338237Z",
     "iopub.status.busy": "2020-09-12T14:00:05.337335Z",
     "iopub.status.idle": "2020-09-12T14:00:05.340647Z",
     "shell.execute_reply": "2020-09-12T14:00:05.341222Z"
    },
    "slideshow": {
     "slide_type": "slide"
    }
   },
   "outputs": [
    {
     "data": {
      "text/plain": [
       "13983816"
      ]
     },
     "execution_count": 21,
     "metadata": {},
     "output_type": "execute_result"
    }
   ],
   "source": [
    "from itertools import combinations\n",
    "len(list(combinations(loto_numbers, 6)))"
   ]
  },
  {
   "cell_type": "code",
   "execution_count": 22,
   "metadata": {
    "execution": {
     "iopub.execute_input": "2020-09-12T14:00:05.346879Z",
     "iopub.status.busy": "2020-09-12T14:00:05.345919Z",
     "iopub.status.idle": "2020-09-12T14:00:05.349205Z",
     "shell.execute_reply": "2020-09-12T14:00:05.349768Z"
    },
    "slideshow": {
     "slide_type": "fragment"
    }
   },
   "outputs": [
    {
     "data": {
      "text/plain": [
       "13983816.0"
      ]
     },
     "execution_count": 22,
     "metadata": {},
     "output_type": "execute_result"
    }
   ],
   "source": [
    "from math import factorial\n",
    "factorial(49)/ factorial(6) / factorial(49-6)"
   ]
  },
  {
   "cell_type": "markdown",
   "metadata": {
    "slideshow": {
     "slide_type": "slide"
    }
   },
   "source": [
    "### permutations"
   ]
  },
  {
   "cell_type": "code",
   "execution_count": 23,
   "metadata": {
    "execution": {
     "iopub.execute_input": "2020-09-12T14:00:05.354737Z",
     "iopub.status.busy": "2020-09-12T14:00:05.353904Z",
     "iopub.status.idle": "2020-09-12T14:00:05.357111Z",
     "shell.execute_reply": "2020-09-12T14:00:05.357706Z"
    },
    "slideshow": {
     "slide_type": "fragment"
    }
   },
   "outputs": [
    {
     "name": "stdout",
     "output_type": "stream",
     "text": [
      "dsi, dis, sdi, sid, ids, isd, "
     ]
    }
   ],
   "source": [
    "from itertools import permutations\n",
    "for s in permutations('dsi'):\n",
    "    print( \"\".join(s), end=\", \")"
   ]
  },
  {
   "cell_type": "markdown",
   "metadata": {
    "slideshow": {
     "slide_type": "slide"
    }
   },
   "source": [
    "### count"
   ]
  },
  {
   "cell_type": "code",
   "execution_count": 24,
   "metadata": {
    "execution": {
     "iopub.execute_input": "2020-09-12T14:00:05.363820Z",
     "iopub.status.busy": "2020-09-12T14:00:05.363006Z",
     "iopub.status.idle": "2020-09-12T14:00:05.365945Z",
     "shell.execute_reply": "2020-09-12T14:00:05.366514Z"
    },
    "lines_to_next_cell": 2,
    "slideshow": {
     "slide_type": "fragment"
    }
   },
   "outputs": [
    {
     "name": "stdout",
     "output_type": "stream",
     "text": [
      "k = 112\n"
     ]
    }
   ],
   "source": [
    "from itertools import count\n",
    "n = 2024\n",
    "for k in count(): # replace  k = 0; while(True) : k += 1\n",
    "    if n == 1:\n",
    "        print(f\"k = {k}\")\n",
    "        break\n",
    "    elif n & 1:\n",
    "        n = 3*n +1\n",
    "    else:\n",
    "        n = n // 2"
   ]
  },
  {
   "cell_type": "markdown",
   "metadata": {
    "slideshow": {
     "slide_type": "slide"
    }
   },
   "source": [
    "### cycle, islice, dropwhile, takewhile"
   ]
  },
  {
   "cell_type": "code",
   "execution_count": 25,
   "metadata": {
    "execution": {
     "iopub.execute_input": "2020-09-12T14:00:05.373125Z",
     "iopub.status.busy": "2020-09-12T14:00:05.372223Z",
     "iopub.status.idle": "2020-09-12T14:00:05.375339Z",
     "shell.execute_reply": "2020-09-12T14:00:05.375919Z"
    },
    "slideshow": {
     "slide_type": "fragment"
    }
   },
   "outputs": [
    {
     "name": "stdout",
     "output_type": "stream",
     "text": [
      "6 7 8 9 0 1 2 3 4 5 6 7 8 9 0 1 2 3 4 5\n"
     ]
    }
   ],
   "source": [
    "from itertools import cycle, islice, dropwhile, takewhile\n",
    "L = list(range(10))\n",
    "cycled = cycle(L)  # cycle through the list 'L'\n",
    "skipped = dropwhile(lambda x: x < 6 , cycled)  # drop the values until x==4\n",
    "sliced = islice(skipped, None, 20)  # take the first 20 values\n",
    "print(*sliced)"
   ]
  },
  {
   "cell_type": "code",
   "execution_count": 26,
   "metadata": {
    "execution": {
     "iopub.execute_input": "2020-09-12T14:00:05.381246Z",
     "iopub.status.busy": "2020-09-12T14:00:05.380312Z",
     "iopub.status.idle": "2020-09-12T14:00:05.383417Z",
     "shell.execute_reply": "2020-09-12T14:00:05.383992Z"
    },
    "slideshow": {
     "slide_type": "fragment"
    }
   },
   "outputs": [
    {
     "name": "stdout",
     "output_type": "stream",
     "text": [
      "6 7 8 9\n"
     ]
    }
   ],
   "source": [
    "result = takewhile(lambda x: x > 0, cycled) # cycled begins to 4\n",
    "print(*result)"
   ]
  },
  {
   "cell_type": "markdown",
   "metadata": {
    "slideshow": {
     "slide_type": "slide"
    }
   },
   "source": [
    "### product"
   ]
  },
  {
   "cell_type": "code",
   "execution_count": 27,
   "metadata": {
    "execution": {
     "iopub.execute_input": "2020-09-12T14:00:05.391591Z",
     "iopub.status.busy": "2020-09-12T14:00:05.390668Z",
     "iopub.status.idle": "2020-09-12T14:00:05.394021Z",
     "shell.execute_reply": "2020-09-12T14:00:05.394598Z"
    },
    "slideshow": {
     "slide_type": "fragment"
    }
   },
   "outputs": [
    {
     "name": "stdout",
     "output_type": "stream",
     "text": [
      "('A', '♠') ('A', '♥') ('A', '♣') ('A', '♦') ('K', '♠') ('K', '♥') ('K', '♣') ('K', '♦') ('Q', '♠') ('Q', '♥') ('Q', '♣') ('Q', '♦') ('J', '♠') ('J', '♥') ('J', '♣') ('J', '♦') ('10', '♠') ('10', '♥') ('10', '♣') ('10', '♦') ('9', '♠') ('9', '♥') ('9', '♣') ('9', '♦') ('8', '♠') ('8', '♥') ('8', '♣') ('8', '♦') ('7', '♠') ('7', '♥') ('7', '♣') ('7', '♦')\n"
     ]
    }
   ],
   "source": [
    "ranks = ['A', 'K', 'Q', 'J', '10', '9', '8', '7']\n",
    "suits = [ '\\u2660', '\\u2665', '\\u2663', '\\u2666']\n",
    "cards = [(rank, suit) for rank in ranks for suit in suits]\n",
    "len(cards)\n",
    "from itertools import product\n",
    "cards = product(ranks, suits)\n",
    "print(*cards)"
   ]
  }
 ],
 "metadata": {
  "kernelspec": {
   "display_name": "Python 3",
   "language": "python",
   "name": "python3"
  },
  "language_info": {
   "codemirror_mode": {
    "name": "ipython",
    "version": 3
   },
   "file_extension": ".py",
   "mimetype": "text/x-python",
   "name": "python",
   "nbconvert_exporter": "python",
   "pygments_lexer": "ipython3",
   "version": "3.6.11"
  }
 },
 "nbformat": 4,
 "nbformat_minor": 4
}
