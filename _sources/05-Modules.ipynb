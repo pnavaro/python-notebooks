{
 "cells": [
  {
   "cell_type": "markdown",
   "metadata": {
    "slideshow": {
     "slide_type": "slide"
    }
   },
   "source": [
    "# Modules\n",
    "\n",
    "If your Python program gets longer, you may want to split it into several files for easier maintenance. To support this, Python has a way to put definitions in a file and use them in a script or in an interactive instance of the interpreter. Such a file is called a module."
   ]
  },
  {
   "cell_type": "markdown",
   "metadata": {
    "slideshow": {
     "slide_type": "slide"
    }
   },
   "source": [
    "Run the cell below to create a file named fibo.py with several functions inside:"
   ]
  },
  {
   "cell_type": "code",
   "execution_count": 1,
   "metadata": {
    "execution": {
     "iopub.execute_input": "2020-09-12T13:29:31.964404Z",
     "iopub.status.busy": "2020-09-12T13:29:31.963243Z",
     "iopub.status.idle": "2020-09-12T13:29:31.967533Z",
     "shell.execute_reply": "2020-09-12T13:29:31.968160Z"
    },
    "slideshow": {
     "slide_type": "slide"
    }
   },
   "outputs": [
    {
     "name": "stdout",
     "output_type": "stream",
     "text": [
      "Overwriting fibo.py\n"
     ]
    }
   ],
   "source": [
    "%%file fibo.py\n",
    "\"\"\" Simple module with\n",
    "    two functions to compute Fibonacci series \"\"\"\n",
    "\n",
    "def fib1(n):\n",
    "   \"\"\" write Fibonacci series up to n \"\"\"\n",
    "   a, b = 0, 1\n",
    "   while b < n:\n",
    "      print(b, end=', ')\n",
    "      a, b = b, a+b\n",
    "\n",
    "def fib2(n):   \n",
    "    \"\"\" return Fibonacci series up to n \"\"\"\n",
    "    result = []\n",
    "    a, b = 0, 1\n",
    "    while b < n:\n",
    "        result.append(b)\n",
    "        a, b = b, a+b\n",
    "    return result\n",
    "\n",
    "if __name__ == \"__main__\":\n",
    "    import sys\n",
    "    fib1(int(sys.argv[1]))"
   ]
  },
  {
   "cell_type": "markdown",
   "metadata": {
    "slideshow": {
     "slide_type": "slide"
    }
   },
   "source": [
    "You can use the function fib by importing fibo which is the name of the file without .py extension."
   ]
  },
  {
   "cell_type": "code",
   "execution_count": 2,
   "metadata": {
    "execution": {
     "iopub.execute_input": "2020-09-12T13:29:31.973839Z",
     "iopub.status.busy": "2020-09-12T13:29:31.972627Z",
     "iopub.status.idle": "2020-09-12T13:29:31.978991Z",
     "shell.execute_reply": "2020-09-12T13:29:31.978327Z"
    },
    "slideshow": {
     "slide_type": "fragment"
    }
   },
   "outputs": [
    {
     "name": "stdout",
     "output_type": "stream",
     "text": [
      "fibo\n",
      "/Users/navaro/PycharmProjects/python-notebooks/fibo.py\n",
      "1, 1, 2, 3, 5, 8, 13, 21, 34, 55, 89, 144, 233, 377, 610, 987, "
     ]
    }
   ],
   "source": [
    "import fibo\n",
    "print(fibo.__name__)\n",
    "print(fibo.__file__)\n",
    "fibo.fib1(1000)"
   ]
  },
  {
   "cell_type": "code",
   "execution_count": 3,
   "metadata": {
    "execution": {
     "iopub.execute_input": "2020-09-12T13:29:31.985343Z",
     "iopub.status.busy": "2020-09-12T13:29:31.983810Z",
     "iopub.status.idle": "2020-09-12T13:29:31.990318Z",
     "shell.execute_reply": "2020-09-12T13:29:31.989653Z"
    }
   },
   "outputs": [
    {
     "name": "stdout",
     "output_type": "stream",
     "text": [
      "1, 1, 2, 3, 5, 8, 13, 21, 34, 55, 89, 144, 233, 377, 610, 987, "
     ]
    }
   ],
   "source": [
    "%run fibo.py 1000"
   ]
  },
  {
   "cell_type": "code",
   "execution_count": 4,
   "metadata": {
    "execution": {
     "iopub.execute_input": "2020-09-12T13:29:31.996128Z",
     "iopub.status.busy": "2020-09-12T13:29:31.995175Z",
     "iopub.status.idle": "2020-09-12T13:29:31.998886Z",
     "shell.execute_reply": "2020-09-12T13:29:31.999551Z"
    },
    "slideshow": {
     "slide_type": "slide"
    }
   },
   "outputs": [
    {
     "name": "stdout",
     "output_type": "stream",
     "text": [
      "Help on module fibo:\n",
      "\n",
      "NAME\n",
      "    fibo\n",
      "\n",
      "DESCRIPTION\n",
      "    Simple module with\n",
      "    two functions to compute Fibonacci series\n",
      "\n",
      "FUNCTIONS\n",
      "    fib1(n)\n",
      "        write Fibonacci series up to n\n",
      "    \n",
      "    fib2(n)\n",
      "        return Fibonacci series up to n\n",
      "\n",
      "FILE\n",
      "    /Users/navaro/PycharmProjects/python-notebooks/fibo.py\n",
      "\n",
      "\n"
     ]
    }
   ],
   "source": [
    "help(fibo)"
   ]
  },
  {
   "cell_type": "markdown",
   "metadata": {
    "slideshow": {
     "slide_type": "slide"
    }
   },
   "source": [
    "## Executing modules as scripts\n",
    "\n",
    "When you run a Python module with\n",
    "```bash\n",
    "$ python fibo.py <arguments>\n",
    "```\n",
    "the code in the module will be executed, just as if you imported it, but with the __name__ set to \"__main__\". The following code will be executed only in this case and not when it is imported.\n",
    "```python\n",
    "if __name__ == \"__main__\":\n",
    "    import sys\n",
    "    fib(int(sys.argv[1]))\n",
    "```\n",
    "In Jupyter notebook, you can run the fibo.py python script using magic command."
   ]
  },
  {
   "cell_type": "code",
   "execution_count": 5,
   "metadata": {
    "execution": {
     "iopub.execute_input": "2020-09-12T13:29:32.006164Z",
     "iopub.status.busy": "2020-09-12T13:29:32.005047Z",
     "iopub.status.idle": "2020-09-12T13:29:32.009821Z",
     "shell.execute_reply": "2020-09-12T13:29:32.010715Z"
    },
    "slideshow": {
     "slide_type": "slide"
    }
   },
   "outputs": [
    {
     "name": "stdout",
     "output_type": "stream",
     "text": [
      "1, 1, 2, 3, 5, 8, 13, 21, 34, 55, 89, 144, 233, 377, 610, 987, "
     ]
    }
   ],
   "source": [
    "%run fibo.py 1000"
   ]
  },
  {
   "cell_type": "markdown",
   "metadata": {
    "slideshow": {
     "slide_type": "fragment"
    }
   },
   "source": [
    "The module is also imported."
   ]
  },
  {
   "cell_type": "code",
   "execution_count": 6,
   "metadata": {
    "execution": {
     "iopub.execute_input": "2020-09-12T13:29:32.017788Z",
     "iopub.status.busy": "2020-09-12T13:29:32.016819Z",
     "iopub.status.idle": "2020-09-12T13:29:32.020332Z",
     "shell.execute_reply": "2020-09-12T13:29:32.020947Z"
    },
    "slideshow": {
     "slide_type": "fragment"
    }
   },
   "outputs": [
    {
     "name": "stdout",
     "output_type": "stream",
     "text": [
      "1, 1, 2, 3, 5, 8, 13, 21, 34, 55, 89, 144, 233, 377, 610, 987, "
     ]
    }
   ],
   "source": [
    "fib1(1000)"
   ]
  },
  {
   "cell_type": "markdown",
   "metadata": {
    "slideshow": {
     "slide_type": "slide"
    }
   },
   "source": [
    "## Different ways to import a module\n",
    "```python\n",
    "import fibo\n",
    "import fibo as f\n",
    "from fibo import fib1, fib2\n",
    "from fibo import *\n",
    "```"
   ]
  },
  {
   "cell_type": "markdown",
   "metadata": {
    "slideshow": {
     "slide_type": "fragment"
    }
   },
   "source": [
    "- Last command with '*' imports all names except those beginning with an underscore (_). In most cases, do not use this facility since it introduces an unknown set of names into the interpreter, possibly hiding some things you have already defined."
   ]
  },
  {
   "cell_type": "markdown",
   "metadata": {
    "slideshow": {
     "slide_type": "slide"
    }
   },
   "source": [
    "- If a function with same name is present in different modules imported. Last module function imported replace the previous one."
   ]
  },
  {
   "cell_type": "code",
   "execution_count": 7,
   "metadata": {
    "execution": {
     "iopub.execute_input": "2020-09-12T13:29:32.026261Z",
     "iopub.status.busy": "2020-09-12T13:29:32.025313Z",
     "iopub.status.idle": "2020-09-12T13:29:32.179026Z",
     "shell.execute_reply": "2020-09-12T13:29:32.179636Z"
    },
    "slideshow": {
     "slide_type": "fragment"
    }
   },
   "outputs": [
    {
     "name": "stderr",
     "output_type": "stream",
     "text": [
      "<ipython-input-7-f3f47bc91153>:3: DeprecationWarning: scipy.sqrt is deprecated and will be removed in SciPy 2.0.0, use numpy.lib.scimath.sqrt instead\n",
      "  sqrt(-1)\n"
     ]
    },
    {
     "data": {
      "text/plain": [
       "1j"
      ]
     },
     "execution_count": 7,
     "metadata": {},
     "output_type": "execute_result"
    }
   ],
   "source": [
    "from numpy import sqrt\n",
    "from scipy import sqrt\n",
    "sqrt(-1)"
   ]
  },
  {
   "cell_type": "code",
   "execution_count": 8,
   "metadata": {
    "execution": {
     "iopub.execute_input": "2020-09-12T13:29:32.185794Z",
     "iopub.status.busy": "2020-09-12T13:29:32.184726Z",
     "iopub.status.idle": "2020-09-12T13:29:32.189313Z",
     "shell.execute_reply": "2020-09-12T13:29:32.189893Z"
    },
    "slideshow": {
     "slide_type": "fragment"
    }
   },
   "outputs": [
    {
     "name": "stderr",
     "output_type": "stream",
     "text": [
      "<ipython-input-8-8a25f477b688>:3: RuntimeWarning: invalid value encountered in sqrt\n",
      "  sqrt(-1)\n"
     ]
    },
    {
     "data": {
      "text/plain": [
       "nan"
      ]
     },
     "execution_count": 8,
     "metadata": {},
     "output_type": "execute_result"
    }
   ],
   "source": [
    "from scipy import sqrt\n",
    "from numpy import sqrt\n",
    "sqrt(-1)"
   ]
  },
  {
   "cell_type": "code",
   "execution_count": 9,
   "metadata": {
    "execution": {
     "iopub.execute_input": "2020-09-12T13:29:32.195587Z",
     "iopub.status.busy": "2020-09-12T13:29:32.194542Z",
     "iopub.status.idle": "2020-09-12T13:29:32.199684Z",
     "shell.execute_reply": "2020-09-12T13:29:32.199040Z"
    },
    "slideshow": {
     "slide_type": "slide"
    }
   },
   "outputs": [
    {
     "name": "stdout",
     "output_type": "stream",
     "text": [
      "1j 1j\n"
     ]
    },
    {
     "name": "stderr",
     "output_type": "stream",
     "text": [
      "<ipython-input-9-235de4d5ffbb>:4: DeprecationWarning: scipy.sqrt is deprecated and will be removed in SciPy 2.0.0, use numpy.lib.scimath.sqrt instead\n",
      "  print(np.sqrt(-1+0j), sp.sqrt(-1))\n"
     ]
    }
   ],
   "source": [
    "import numpy as np\n",
    "import scipy as sp\n",
    "\n",
    "print(np.sqrt(-1+0j), sp.sqrt(-1))"
   ]
  },
  {
   "cell_type": "markdown",
   "metadata": {
    "slideshow": {
     "slide_type": "slide"
    }
   },
   "source": [
    "- For efficiency reasons, each module is only imported once per interpreter session. Therefore, if you change your modules, you must restart the interpreter \n",
    "– If you really want to test interactively after a long run, use :\n",
    "```python\n",
    "import importlib\n",
    "importlib.reload(modulename)\n",
    "```"
   ]
  },
  {
   "cell_type": "markdown",
   "metadata": {
    "slideshow": {
     "slide_type": "slide"
    }
   },
   "source": [
    "## The Module Search Path\n",
    "\n",
    "When a module is imported, the interpreter searches for a file named module.py in a list of directories given by the variable sys.path.\n",
    "- Python programs can modify sys.path\n",
    "- export the PYTHONPATH environment variable to change it on your system."
   ]
  },
  {
   "cell_type": "code",
   "execution_count": 10,
   "metadata": {
    "execution": {
     "iopub.execute_input": "2020-09-12T13:29:32.205177Z",
     "iopub.status.busy": "2020-09-12T13:29:32.204098Z",
     "iopub.status.idle": "2020-09-12T13:29:32.207852Z",
     "shell.execute_reply": "2020-09-12T13:29:32.208467Z"
    },
    "slideshow": {
     "slide_type": "fragment"
    }
   },
   "outputs": [
    {
     "data": {
      "text/plain": [
       "['/Users/navaro/PycharmProjects/python-notebooks',\n",
       " '/usr/local/Cellar/python@3.8/3.8.5/Frameworks/Python.framework/Versions/3.8/lib/python38.zip',\n",
       " '/usr/local/Cellar/python@3.8/3.8.5/Frameworks/Python.framework/Versions/3.8/lib/python3.8',\n",
       " '/usr/local/Cellar/python@3.8/3.8.5/Frameworks/Python.framework/Versions/3.8/lib/python3.8/lib-dynload',\n",
       " '',\n",
       " '/usr/local/lib/python3.8/site-packages',\n",
       " '/usr/local/lib/python3.8/site-packages/IPython/extensions',\n",
       " '/Users/navaro/.ipython']"
      ]
     },
     "execution_count": 10,
     "metadata": {},
     "output_type": "execute_result"
    }
   ],
   "source": [
    "import sys\n",
    "sys.path"
   ]
  },
  {
   "cell_type": "code",
   "execution_count": 11,
   "metadata": {
    "execution": {
     "iopub.execute_input": "2020-09-12T13:29:32.213743Z",
     "iopub.status.busy": "2020-09-12T13:29:32.212786Z",
     "iopub.status.idle": "2020-09-12T13:29:32.216521Z",
     "shell.execute_reply": "2020-09-12T13:29:32.217111Z"
    },
    "slideshow": {
     "slide_type": "slide"
    }
   },
   "outputs": [
    {
     "data": {
      "text/plain": [
       "['/usr/local/Cellar/python@3.8/3.8.5/Frameworks/Python.framework/Versions/3.8/lib/python3.8/collections']"
      ]
     },
     "execution_count": 11,
     "metadata": {},
     "output_type": "execute_result"
    }
   ],
   "source": [
    "import collections\n",
    "collections.__path__"
   ]
  },
  {
   "cell_type": "markdown",
   "metadata": {
    "slideshow": {
     "slide_type": "slide"
    }
   },
   "source": [
    "`sys.path` is a list and you can append some directories:"
   ]
  },
  {
   "cell_type": "code",
   "execution_count": 12,
   "metadata": {
    "execution": {
     "iopub.execute_input": "2020-09-12T13:29:32.222227Z",
     "iopub.status.busy": "2020-09-12T13:29:32.221298Z",
     "iopub.status.idle": "2020-09-12T13:29:32.224691Z",
     "shell.execute_reply": "2020-09-12T13:29:32.225273Z"
    }
   },
   "outputs": [
    {
     "name": "stdout",
     "output_type": "stream",
     "text": [
      "['/Users/navaro/PycharmProjects/python-notebooks', '/usr/local/Cellar/python@3.8/3.8.5/Frameworks/Python.framework/Versions/3.8/lib/python38.zip', '/usr/local/Cellar/python@3.8/3.8.5/Frameworks/Python.framework/Versions/3.8/lib/python3.8', '/usr/local/Cellar/python@3.8/3.8.5/Frameworks/Python.framework/Versions/3.8/lib/python3.8/lib-dynload', '', '/usr/local/lib/python3.8/site-packages', '/usr/local/lib/python3.8/site-packages/IPython/extensions', '/Users/navaro/.ipython', '/Users/navaro/python-notebooks/']\n"
     ]
    }
   ],
   "source": [
    "sys.path.append(\"/Users/navaro/python-notebooks/\")\n",
    "print(sys.path)"
   ]
  },
  {
   "cell_type": "markdown",
   "metadata": {
    "slideshow": {
     "slide_type": "slide"
    }
   },
   "source": [
    "When you import a module `foo`, following files are searched in this order:\n",
    "\n",
    "- **foo.dll**, **foo.dylib** or **foo.so**\n",
    "- **foo.py**\n",
    "- **foo.pyc**\n",
    "- **foo/\\_\\_init__.py**\n"
   ]
  },
  {
   "cell_type": "markdown",
   "metadata": {
    "slideshow": {
     "slide_type": "slide"
    }
   },
   "source": [
    "## Packages\n",
    "\n",
    "- A package is a directory containing Python module files.\n",
    "- This directory always contains a file name \\_\\_init\\_\\_.py"
   ]
  },
  {
   "cell_type": "markdown",
   "metadata": {
    "slideshow": {
     "slide_type": "slide"
    }
   },
   "source": [
    "<pre>\n",
    "sklearn\n",
    "├── base.py\n",
    "├── calibration.py\n",
    "├── cluster\n",
    "│   ├── __init__.py\n",
    "│   ├── _kmeans.py\n",
    "│   ├── _mean_shift.py\n",
    "├── ensemble\n",
    "│   ├── __init__.py\n",
    "│   ├── _bagging.py\n",
    "│   ├── _forest.py\n",
    "</pre>\n",
    "\n",
    "cluster `__init__.py`\n",
    "\n",
    "<pre>\n",
    "from ._mean_shift import mean_shift, MeanShift\n",
    "from ._kmeans import k_means, KMeans, MiniBatchKMeans\n",
    "</pre>"
   ]
  },
  {
   "cell_type": "markdown",
   "metadata": {
    "slideshow": {
     "slide_type": "slide"
    }
   },
   "source": [
    "## Relative imports\n",
    "\n",
    "These imports use leading dots to indicate the current and parent packages involved in the relative import. In the sugiton module, you can use:\n",
    "```python\n",
    "from . import cluster # import module in the same directory\n",
    "from .. import base   # import module in parent directory\n",
    "from ..ensemble import _forest # import module in another subdirectory of the parent directory\n",
    "```"
   ]
  },
  {
   "cell_type": "markdown",
   "metadata": {
    "slideshow": {
     "slide_type": "slide"
    }
   },
   "source": [
    "## Reminder\n",
    "\n",
    "Don't forget that importing * is not recommended"
   ]
  },
  {
   "cell_type": "code",
   "execution_count": 13,
   "metadata": {
    "execution": {
     "iopub.execute_input": "2020-09-12T13:29:32.230907Z",
     "iopub.status.busy": "2020-09-12T13:29:32.229868Z",
     "iopub.status.idle": "2020-09-12T13:29:32.233262Z",
     "shell.execute_reply": "2020-09-12T13:29:32.233875Z"
    },
    "slideshow": {
     "slide_type": "fragment"
    }
   },
   "outputs": [
    {
     "data": {
      "text/plain": [
       "9"
      ]
     },
     "execution_count": 13,
     "metadata": {},
     "output_type": "execute_result"
    }
   ],
   "source": [
    "sum(range(5),-1)"
   ]
  },
  {
   "cell_type": "code",
   "execution_count": 14,
   "metadata": {
    "execution": {
     "iopub.execute_input": "2020-09-12T13:29:32.241342Z",
     "iopub.status.busy": "2020-09-12T13:29:32.240382Z",
     "iopub.status.idle": "2020-09-12T13:29:32.243778Z",
     "shell.execute_reply": "2020-09-12T13:29:32.244478Z"
    },
    "slideshow": {
     "slide_type": "fragment"
    }
   },
   "outputs": [
    {
     "data": {
      "text/plain": [
       "10"
      ]
     },
     "execution_count": 14,
     "metadata": {},
     "output_type": "execute_result"
    }
   ],
   "source": [
    "from numpy import *\n",
    "sum(range(5),-1)"
   ]
  },
  {
   "cell_type": "code",
   "execution_count": 15,
   "metadata": {
    "execution": {
     "iopub.execute_input": "2020-09-12T13:29:32.250399Z",
     "iopub.status.busy": "2020-09-12T13:29:32.249481Z",
     "iopub.status.idle": "2020-09-12T13:29:32.253014Z",
     "shell.execute_reply": "2020-09-12T13:29:32.253616Z"
    },
    "slideshow": {
     "slide_type": "slide"
    }
   },
   "outputs": [
    {
     "name": "stdout",
     "output_type": "stream",
     "text": [
      "Help on built-in function sum in module builtins:\n",
      "\n",
      "sum(iterable, /, start=0)\n",
      "    Return the sum of a 'start' value (default: 0) plus an iterable of numbers\n",
      "    \n",
      "    When the iterable is empty, return the start value.\n",
      "    This function is intended specifically for use with numeric values and may\n",
      "    reject non-numeric types.\n",
      "\n"
     ]
    }
   ],
   "source": [
    "del sum # delete imported sum function from numpy \n",
    "help(sum)"
   ]
  },
  {
   "cell_type": "code",
   "execution_count": 16,
   "metadata": {
    "execution": {
     "iopub.execute_input": "2020-09-12T13:29:32.259095Z",
     "iopub.status.busy": "2020-09-12T13:29:32.258118Z",
     "iopub.status.idle": "2020-09-12T13:29:32.261731Z",
     "shell.execute_reply": "2020-09-12T13:29:32.262316Z"
    },
    "slideshow": {
     "slide_type": "slide"
    }
   },
   "outputs": [
    {
     "name": "stdout",
     "output_type": "stream",
     "text": [
      "Help on function sum in module numpy:\n",
      "\n",
      "sum(a, axis=None, dtype=None, out=None, keepdims=<no value>, initial=<no value>, where=<no value>)\n",
      "    Sum of array elements over a given axis.\n",
      "    \n",
      "    Parameters\n",
      "    ----------\n",
      "    a : array_like\n",
      "        Elements to sum.\n",
      "    axis : None or int or tuple of ints, optional\n",
      "        Axis or axes along which a sum is performed.  The default,\n",
      "        axis=None, will sum all of the elements of the input array.  If\n",
      "        axis is negative it counts from the last to the first axis.\n",
      "    \n",
      "        .. versionadded:: 1.7.0\n",
      "    \n",
      "        If axis is a tuple of ints, a sum is performed on all of the axes\n",
      "        specified in the tuple instead of a single axis or all the axes as\n",
      "        before.\n",
      "    dtype : dtype, optional\n",
      "        The type of the returned array and of the accumulator in which the\n",
      "        elements are summed.  The dtype of `a` is used by default unless `a`\n",
      "        has an integer dtype of less precision than the default platform\n",
      "        integer.  In that case, if `a` is signed then the platform integer\n",
      "        is used while if `a` is unsigned then an unsigned integer of the\n",
      "        same precision as the platform integer is used.\n",
      "    out : ndarray, optional\n",
      "        Alternative output array in which to place the result. It must have\n",
      "        the same shape as the expected output, but the type of the output\n",
      "        values will be cast if necessary.\n",
      "    keepdims : bool, optional\n",
      "        If this is set to True, the axes which are reduced are left\n",
      "        in the result as dimensions with size one. With this option,\n",
      "        the result will broadcast correctly against the input array.\n",
      "    \n",
      "        If the default value is passed, then `keepdims` will not be\n",
      "        passed through to the `sum` method of sub-classes of\n",
      "        `ndarray`, however any non-default value will be.  If the\n",
      "        sub-class' method does not implement `keepdims` any\n",
      "        exceptions will be raised.\n",
      "    initial : scalar, optional\n",
      "        Starting value for the sum. See `~numpy.ufunc.reduce` for details.\n",
      "    \n",
      "        .. versionadded:: 1.15.0\n",
      "    \n",
      "    where : array_like of bool, optional\n",
      "        Elements to include in the sum. See `~numpy.ufunc.reduce` for details.\n",
      "    \n",
      "        .. versionadded:: 1.17.0\n",
      "    \n",
      "    Returns\n",
      "    -------\n",
      "    sum_along_axis : ndarray\n",
      "        An array with the same shape as `a`, with the specified\n",
      "        axis removed.   If `a` is a 0-d array, or if `axis` is None, a scalar\n",
      "        is returned.  If an output array is specified, a reference to\n",
      "        `out` is returned.\n",
      "    \n",
      "    See Also\n",
      "    --------\n",
      "    ndarray.sum : Equivalent method.\n",
      "    \n",
      "    add.reduce : Equivalent functionality of `add`.\n",
      "    \n",
      "    cumsum : Cumulative sum of array elements.\n",
      "    \n",
      "    trapz : Integration of array values using the composite trapezoidal rule.\n",
      "    \n",
      "    mean, average\n",
      "    \n",
      "    Notes\n",
      "    -----\n",
      "    Arithmetic is modular when using integer types, and no error is\n",
      "    raised on overflow.\n",
      "    \n",
      "    The sum of an empty array is the neutral element 0:\n",
      "    \n",
      "    >>> np.sum([])\n",
      "    0.0\n",
      "    \n",
      "    For floating point numbers the numerical precision of sum (and\n",
      "    ``np.add.reduce``) is in general limited by directly adding each number\n",
      "    individually to the result causing rounding errors in every step.\n",
      "    However, often numpy will use a  numerically better approach (partial\n",
      "    pairwise summation) leading to improved precision in many use-cases.\n",
      "    This improved precision is always provided when no ``axis`` is given.\n",
      "    When ``axis`` is given, it will depend on which axis is summed.\n",
      "    Technically, to provide the best speed possible, the improved precision\n",
      "    is only used when the summation is along the fast axis in memory.\n",
      "    Note that the exact precision may vary depending on other parameters.\n",
      "    In contrast to NumPy, Python's ``math.fsum`` function uses a slower but\n",
      "    more precise approach to summation.\n",
      "    Especially when summing a large number of lower precision floating point\n",
      "    numbers, such as ``float32``, numerical errors can become significant.\n",
      "    In such cases it can be advisable to use `dtype=\"float64\"` to use a higher\n",
      "    precision for the output.\n",
      "    \n",
      "    Examples\n",
      "    --------\n",
      "    >>> np.sum([0.5, 1.5])\n",
      "    2.0\n",
      "    >>> np.sum([0.5, 0.7, 0.2, 1.5], dtype=np.int32)\n",
      "    1\n",
      "    >>> np.sum([[0, 1], [0, 5]])\n",
      "    6\n",
      "    >>> np.sum([[0, 1], [0, 5]], axis=0)\n",
      "    array([0, 6])\n",
      "    >>> np.sum([[0, 1], [0, 5]], axis=1)\n",
      "    array([1, 5])\n",
      "    >>> np.sum([[0, 1], [np.nan, 5]], where=[False, True], axis=1)\n",
      "    array([1., 5.])\n",
      "    \n",
      "    If the accumulator is too small, overflow occurs:\n",
      "    \n",
      "    >>> np.ones(128, dtype=np.int8).sum(dtype=np.int8)\n",
      "    -128\n",
      "    \n",
      "    You can also start the sum with a value other than zero:\n",
      "    \n",
      "    >>> np.sum([10], initial=5)\n",
      "    15\n",
      "\n"
     ]
    }
   ],
   "source": [
    "import numpy as np\n",
    "help(np.sum)"
   ]
  }
 ],
 "metadata": {
  "kernelspec": {
   "display_name": "Python 3",
   "language": "python",
   "name": "python3"
  },
  "language_info": {
   "codemirror_mode": {
    "name": "ipython",
    "version": 3
   },
   "file_extension": ".py",
   "mimetype": "text/x-python",
   "name": "python",
   "nbconvert_exporter": "python",
   "pygments_lexer": "ipython3",
   "version": "3.8.5"
  }
 },
 "nbformat": 4,
 "nbformat_minor": 4
}
