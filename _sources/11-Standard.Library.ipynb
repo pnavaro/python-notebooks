{
 "cells": [
  {
   "cell_type": "markdown",
   "metadata": {
    "slideshow": {
     "slide_type": "slide"
    }
   },
   "source": [
    "# Standard Library\n",
    "\n",
    "## Operating System Interface\n"
   ]
  },
  {
   "cell_type": "code",
   "execution_count": 1,
   "metadata": {
    "execution": {
     "iopub.execute_input": "2020-09-12T14:02:17.844712Z",
     "iopub.status.busy": "2020-09-12T14:02:17.842551Z",
     "iopub.status.idle": "2020-09-12T14:02:17.848828Z",
     "shell.execute_reply": "2020-09-12T14:02:17.849382Z"
    },
    "slideshow": {
     "slide_type": "fragment"
    }
   },
   "outputs": [
    {
     "data": {
      "text/plain": [
       "'/Users/navaro/PycharmProjects/python-notebooks/notebooks'"
      ]
     },
     "execution_count": 1,
     "metadata": {},
     "output_type": "execute_result"
    }
   ],
   "source": [
    "import os\n",
    "os.getcwd()      # Return the current working directory"
   ]
  },
  {
   "cell_type": "code",
   "execution_count": 2,
   "metadata": {
    "execution": {
     "iopub.execute_input": "2020-09-12T14:02:17.855828Z",
     "iopub.status.busy": "2020-09-12T14:02:17.854967Z",
     "iopub.status.idle": "2020-09-12T14:02:17.870318Z",
     "shell.execute_reply": "2020-09-12T14:02:17.870905Z"
    },
    "slideshow": {
     "slide_type": "fragment"
    }
   },
   "outputs": [
    {
     "data": {
      "text/plain": [
       "256"
      ]
     },
     "execution_count": 2,
     "metadata": {},
     "output_type": "execute_result"
    }
   ],
   "source": [
    "import sys\n",
    "if sys.platform == \"darwin\":\n",
    "    os.environ['CC']='gcc-10' # Change the default C compiler to gcc on macos\n",
    "    \n",
    "os.system('mkdir today') # Run the command mkdir in the system shell"
   ]
  },
  {
   "cell_type": "code",
   "execution_count": 3,
   "metadata": {
    "execution": {
     "iopub.execute_input": "2020-09-12T14:02:17.875852Z",
     "iopub.status.busy": "2020-09-12T14:02:17.875000Z",
     "iopub.status.idle": "2020-09-12T14:02:17.888747Z",
     "shell.execute_reply": "2020-09-12T14:02:17.889316Z"
    },
    "slideshow": {
     "slide_type": "fragment"
    }
   },
   "outputs": [
    {
     "data": {
      "text/plain": [
       "0"
      ]
     },
     "execution_count": 3,
     "metadata": {},
     "output_type": "execute_result"
    }
   ],
   "source": [
    "os.chdir('today')   # Change current working directory\n",
    "os.system('touch data.db') # Create the empty file data.db"
   ]
  },
  {
   "cell_type": "code",
   "execution_count": 4,
   "metadata": {
    "execution": {
     "iopub.execute_input": "2020-09-12T14:02:17.895458Z",
     "iopub.status.busy": "2020-09-12T14:02:17.894544Z",
     "iopub.status.idle": "2020-09-12T14:02:17.897685Z",
     "shell.execute_reply": "2020-09-12T14:02:17.898263Z"
    },
    "slideshow": {
     "slide_type": "fragment"
    }
   },
   "outputs": [],
   "source": [
    "import shutil\n",
    "shutil.copyfile('data.db', 'archive.db')\n",
    "if os.path.exists('backup.db'):  # If file backup.db exists\n",
    "    os.remove('backup.db')       # Remove it\n",
    "shutil.move('archive.db', 'backup.db',)\n",
    "shutil.os.chdir('..')"
   ]
  },
  {
   "cell_type": "markdown",
   "metadata": {
    "slideshow": {
     "slide_type": "slide"
    }
   },
   "source": [
    "## File Wildcards\n",
    "\n",
    "The glob module provides a function for making file lists from directory wildcard searches:"
   ]
  },
  {
   "cell_type": "code",
   "execution_count": 5,
   "metadata": {
    "execution": {
     "iopub.execute_input": "2020-09-12T14:02:17.902980Z",
     "iopub.status.busy": "2020-09-12T14:02:17.902089Z",
     "iopub.status.idle": "2020-09-12T14:02:17.906801Z",
     "shell.execute_reply": "2020-09-12T14:02:17.907454Z"
    },
    "slideshow": {
     "slide_type": "fragment"
    }
   },
   "outputs": [
    {
     "data": {
      "text/plain": [
       "['hello.py', 'process_pool.py', 'setup.py', 'pool.py', 'ipython_cell_input.py']"
      ]
     },
     "execution_count": 5,
     "metadata": {},
     "output_type": "execute_result"
    }
   ],
   "source": [
    "import glob\n",
    "glob.glob('*.py')"
   ]
  },
  {
   "cell_type": "code",
   "execution_count": 6,
   "metadata": {
    "execution": {
     "iopub.execute_input": "2020-09-12T14:02:17.915689Z",
     "iopub.status.busy": "2020-09-12T14:02:17.914517Z",
     "iopub.status.idle": "2020-09-12T14:02:17.916779Z",
     "shell.execute_reply": "2020-09-12T14:02:17.917343Z"
    },
    "slideshow": {
     "slide_type": "fragment"
    }
   },
   "outputs": [],
   "source": [
    "def recursive_replace( root, pattern, replace ) :\n",
    "    \"\"\"\n",
    "    Function to replace a string inside a directory\n",
    "    root : directory\n",
    "    pattern : searched string\n",
    "    replace \"pattern\" by \"replace\"\n",
    "    \"\"\"\n",
    "    for directory, subdirs, filenames in os.walk( root ):\n",
    "      for filename in filenames:\n",
    "        path = os.path.join( directory, filename )\n",
    "        text = open( path ).read()\n",
    "        if pattern in text:\n",
    "          print('occurence in :' + filename)\n",
    "          open(path,'w').write( text.replace( pattern, replace ) )\n"
   ]
  },
  {
   "cell_type": "markdown",
   "metadata": {
    "slideshow": {
     "slide_type": "slide"
    }
   },
   "source": [
    "## Command Line Arguments\n",
    "\n",
    "These arguments are stored in the sys module’s argv attribute as a list."
   ]
  },
  {
   "cell_type": "code",
   "execution_count": 7,
   "metadata": {},
   "outputs": [
    {
     "name": "stdout",
     "output_type": "stream",
     "text": [
      "Writing demo.py\n"
     ]
    }
   ],
   "source": [
    "%%file demo.py\n",
    "import sys\n",
    "print(sys.argv)"
   ]
  },
  {
   "cell_type": "code",
   "execution_count": 8,
   "metadata": {
    "execution": {
     "iopub.execute_input": "2020-09-12T14:02:17.922596Z",
     "iopub.status.busy": "2020-09-12T14:02:17.921694Z",
     "iopub.status.idle": "2020-09-12T14:02:17.925132Z",
     "shell.execute_reply": "2020-09-12T14:02:17.925709Z"
    },
    "slideshow": {
     "slide_type": "fragment"
    }
   },
   "outputs": [
    {
     "name": "stdout",
     "output_type": "stream",
     "text": [
      "['demo.py', 'one', 'two', 'three']\n"
     ]
    }
   ],
   "source": [
    "%run demo.py one two three"
   ]
  },
  {
   "cell_type": "markdown",
   "metadata": {
    "slideshow": {
     "slide_type": "slide"
    }
   },
   "source": [
    "## Random"
   ]
  },
  {
   "cell_type": "code",
   "execution_count": 9,
   "metadata": {
    "execution": {
     "iopub.execute_input": "2020-09-12T14:02:17.931060Z",
     "iopub.status.busy": "2020-09-12T14:02:17.930206Z",
     "iopub.status.idle": "2020-09-12T14:02:17.933445Z",
     "shell.execute_reply": "2020-09-12T14:02:17.933981Z"
    },
    "slideshow": {
     "slide_type": "fragment"
    }
   },
   "outputs": [
    {
     "data": {
      "text/plain": [
       "'banana'"
      ]
     },
     "execution_count": 9,
     "metadata": {},
     "output_type": "execute_result"
    }
   ],
   "source": [
    "import random\n",
    "random.choice(['apple', 'pear', 'banana'])"
   ]
  },
  {
   "cell_type": "code",
   "execution_count": 10,
   "metadata": {
    "execution": {
     "iopub.execute_input": "2020-09-12T14:02:17.939786Z",
     "iopub.status.busy": "2020-09-12T14:02:17.938947Z",
     "iopub.status.idle": "2020-09-12T14:02:17.942743Z",
     "shell.execute_reply": "2020-09-12T14:02:17.942082Z"
    },
    "slideshow": {
     "slide_type": "fragment"
    }
   },
   "outputs": [
    {
     "data": {
      "text/plain": [
       "[31, 45, 91, 85, 86, 73, 7, 60, 19, 50]"
      ]
     },
     "execution_count": 10,
     "metadata": {},
     "output_type": "execute_result"
    }
   ],
   "source": [
    "random.sample(range(100), 10)   # sampling without replacement"
   ]
  },
  {
   "cell_type": "code",
   "execution_count": 11,
   "metadata": {
    "execution": {
     "iopub.execute_input": "2020-09-12T14:02:17.947753Z",
     "iopub.status.busy": "2020-09-12T14:02:17.946792Z",
     "iopub.status.idle": "2020-09-12T14:02:17.950209Z",
     "shell.execute_reply": "2020-09-12T14:02:17.950776Z"
    },
    "slideshow": {
     "slide_type": "fragment"
    }
   },
   "outputs": [
    {
     "data": {
      "text/plain": [
       "0.7439441651173581"
      ]
     },
     "execution_count": 11,
     "metadata": {},
     "output_type": "execute_result"
    }
   ],
   "source": [
    "random.random()    # random float"
   ]
  },
  {
   "cell_type": "code",
   "execution_count": 12,
   "metadata": {
    "execution": {
     "iopub.execute_input": "2020-09-12T14:02:17.955873Z",
     "iopub.status.busy": "2020-09-12T14:02:17.954929Z",
     "iopub.status.idle": "2020-09-12T14:02:17.958018Z",
     "shell.execute_reply": "2020-09-12T14:02:17.958675Z"
    },
    "slideshow": {
     "slide_type": "fragment"
    }
   },
   "outputs": [
    {
     "data": {
      "text/plain": [
       "3"
      ]
     },
     "execution_count": 12,
     "metadata": {},
     "output_type": "execute_result"
    }
   ],
   "source": [
    "random.randrange(6)    # random integer chosen from range(6)"
   ]
  },
  {
   "cell_type": "markdown",
   "metadata": {
    "slideshow": {
     "slide_type": "slide"
    }
   },
   "source": [
    "## Statistics"
   ]
  },
  {
   "cell_type": "code",
   "execution_count": 13,
   "metadata": {
    "execution": {
     "iopub.execute_input": "2020-09-12T14:02:17.963785Z",
     "iopub.status.busy": "2020-09-12T14:02:17.962926Z",
     "iopub.status.idle": "2020-09-12T14:02:17.972337Z",
     "shell.execute_reply": "2020-09-12T14:02:17.972920Z"
    },
    "slideshow": {
     "slide_type": "fragment"
    }
   },
   "outputs": [
    {
     "data": {
      "text/plain": [
       "1.6071428571428572"
      ]
     },
     "execution_count": 13,
     "metadata": {},
     "output_type": "execute_result"
    }
   ],
   "source": [
    "import statistics\n",
    "data = [2.75, 1.75, 1.25, 0.25, 0.5, 1.25, 3.5]\n",
    "statistics.mean(data)"
   ]
  },
  {
   "cell_type": "code",
   "execution_count": 14,
   "metadata": {
    "execution": {
     "iopub.execute_input": "2020-09-12T14:02:17.978111Z",
     "iopub.status.busy": "2020-09-12T14:02:17.977233Z",
     "iopub.status.idle": "2020-09-12T14:02:17.980993Z",
     "shell.execute_reply": "2020-09-12T14:02:17.980379Z"
    },
    "slideshow": {
     "slide_type": "fragment"
    }
   },
   "outputs": [
    {
     "data": {
      "text/plain": [
       "1.25"
      ]
     },
     "execution_count": 14,
     "metadata": {},
     "output_type": "execute_result"
    }
   ],
   "source": [
    "statistics.median(data)"
   ]
  },
  {
   "cell_type": "code",
   "execution_count": 15,
   "metadata": {
    "execution": {
     "iopub.execute_input": "2020-09-12T14:02:17.986182Z",
     "iopub.status.busy": "2020-09-12T14:02:17.985304Z",
     "iopub.status.idle": "2020-09-12T14:02:17.988582Z",
     "shell.execute_reply": "2020-09-12T14:02:17.989155Z"
    },
    "slideshow": {
     "slide_type": "fragment"
    }
   },
   "outputs": [
    {
     "data": {
      "text/plain": [
       "1.3720238095238095"
      ]
     },
     "execution_count": 15,
     "metadata": {},
     "output_type": "execute_result"
    }
   ],
   "source": [
    "statistics.variance(data)"
   ]
  },
  {
   "cell_type": "markdown",
   "metadata": {
    "slideshow": {
     "slide_type": "slide"
    }
   },
   "source": [
    "## Performance Measurement\n"
   ]
  },
  {
   "cell_type": "code",
   "execution_count": 16,
   "metadata": {
    "execution": {
     "iopub.execute_input": "2020-09-12T14:02:18.033085Z",
     "iopub.status.busy": "2020-09-12T14:02:18.032171Z",
     "iopub.status.idle": "2020-09-12T14:02:18.036082Z",
     "shell.execute_reply": "2020-09-12T14:02:18.035551Z"
    },
    "slideshow": {
     "slide_type": "fragment"
    }
   },
   "outputs": [
    {
     "data": {
      "text/plain": [
       "0.06326610899999996"
      ]
     },
     "execution_count": 16,
     "metadata": {},
     "output_type": "execute_result"
    }
   ],
   "source": [
    "from timeit import Timer\n",
    "Timer('t=a; a=b; b=t', 'a=1; b=2').timeit()"
   ]
  },
  {
   "cell_type": "code",
   "execution_count": 17,
   "metadata": {
    "execution": {
     "iopub.execute_input": "2020-09-12T14:02:18.072000Z",
     "iopub.status.busy": "2020-09-12T14:02:18.071011Z",
     "iopub.status.idle": "2020-09-12T14:02:18.074375Z",
     "shell.execute_reply": "2020-09-12T14:02:18.074934Z"
    },
    "slideshow": {
     "slide_type": "fragment"
    }
   },
   "outputs": [
    {
     "data": {
      "text/plain": [
       "0.03590283200000011"
      ]
     },
     "execution_count": 17,
     "metadata": {},
     "output_type": "execute_result"
    }
   ],
   "source": [
    "Timer('a,b = b,a', 'a=1; b=2').timeit()"
   ]
  },
  {
   "cell_type": "code",
   "execution_count": 18,
   "metadata": {
    "execution": {
     "iopub.execute_input": "2020-09-12T14:02:18.164035Z",
     "iopub.status.busy": "2020-09-12T14:02:18.121691Z",
     "iopub.status.idle": "2020-09-12T14:02:20.296945Z",
     "shell.execute_reply": "2020-09-12T14:02:20.297597Z"
    },
    "slideshow": {
     "slide_type": "fragment"
    }
   },
   "outputs": [
    {
     "name": "stdout",
     "output_type": "stream",
     "text": [
      "30 ns ± 0.264 ns per loop (mean ± std. dev. of 7 runs, 10000000 loops each)\n"
     ]
    }
   ],
   "source": [
    "%%timeit a=1; b=2\n",
    "a,b = b,a"
   ]
  },
  {
   "cell_type": "markdown",
   "metadata": {
    "slideshow": {
     "slide_type": "fragment"
    }
   },
   "source": [
    "The [profile](https://docs.python.org/3/library/profile.html#module-profile) and [pstats](https://docs.python.org/3/library/profile.html#module-pstats) modules provide tools for identifying time critical sections in larger blocks of code."
   ]
  },
  {
   "cell_type": "markdown",
   "metadata": {
    "slideshow": {
     "slide_type": "slide"
    }
   },
   "source": [
    "## Quality Control\n",
    "\n",
    "One approach for developing high quality software is to write tests for each function.\n",
    "\n",
    "- The doctest module provides a tool for scanning a module and validating tests embedded in a program’s docstrings. \n",
    "- This improves the documentation by providing the user with an example and it allows the doctest module to make sure the code remains true to the documentation:"
   ]
  },
  {
   "cell_type": "code",
   "execution_count": 19,
   "metadata": {
    "execution": {
     "iopub.execute_input": "2020-09-12T14:02:20.302923Z",
     "iopub.status.busy": "2020-09-12T14:02:20.302066Z",
     "iopub.status.idle": "2020-09-12T14:02:21.696140Z",
     "shell.execute_reply": "2020-09-12T14:02:21.696741Z"
    },
    "slideshow": {
     "slide_type": "fragment"
    }
   },
   "outputs": [
    {
     "data": {
      "text/plain": [
       "TestResults(failed=0, attempted=1)"
      ]
     },
     "execution_count": 19,
     "metadata": {},
     "output_type": "execute_result"
    }
   ],
   "source": [
    "def average(values):\n",
    "    \"\"\"Computes the arithmetic mean of a list of numbers.\n",
    "\n",
    "    >>> print(average([20, 30, 70]))\n",
    "    40.0\n",
    "    \"\"\"\n",
    "    return sum(values) / len(values)\n",
    "\n",
    "import doctest\n",
    "doctest.testmod()   # automatically validate the embedded tests"
   ]
  },
  {
   "cell_type": "markdown",
   "metadata": {
    "slideshow": {
     "slide_type": "slide"
    }
   },
   "source": [
    "## Python’s standard library is very extensive\n",
    "- Containers and iterators: `collections`, `itertools`\n",
    "- Internet access: `urllib, email, mailbox, cgi, ftplib`\n",
    "- Dates and Times: `datetime, calendar, `\n",
    "- Data Compression: `zlib, gzip, bz2, lzma, zipfile, tarfile`\n",
    "- File formats: `csv, configparser, netrc, xdrlib, plistlib` \n",
    "- Cryptographic Services: `hashlib, hmac, secrets`\n",
    "- Structure Markup Processing Tools: `html, xml`\n",
    "\n",
    "Check the [The Python Standard Library](https://docs.python.org/3/library/index.html)"
   ]
  }
 ],
 "metadata": {
  "@webio": {
   "lastCommId": null,
   "lastKernelId": null
  },
  "kernelspec": {
   "display_name": "Python 3",
   "language": "python",
   "name": "python3"
  },
  "language_info": {
   "codemirror_mode": {
    "name": "ipython",
    "version": 3
   },
   "file_extension": ".py",
   "mimetype": "text/x-python",
   "name": "python",
   "nbconvert_exporter": "python",
   "pygments_lexer": "ipython3",
   "version": "3.8.5"
  }
 },
 "nbformat": 4,
 "nbformat_minor": 4
}
