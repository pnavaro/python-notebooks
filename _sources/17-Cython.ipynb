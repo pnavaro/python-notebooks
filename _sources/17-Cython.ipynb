{
 "cells": [
  {
   "cell_type": "markdown",
   "metadata": {
    "slideshow": {
     "slide_type": "slide"
    }
   },
   "source": [
    "# Cython"
   ]
  },
  {
   "cell_type": "code",
   "execution_count": null,
   "metadata": {
    "slideshow": {
     "slide_type": "fragment"
    }
   },
   "outputs": [],
   "source": [
    "%matplotlib inline\n",
    "import matplotlib.pyplot as plt\n",
    "plt.rcParams['figure.figsize'] = (10,6)\n",
    "%config InlineBackend.figure_format = 'retina'\n",
    "import numpy as np"
   ]
  },
  {
   "cell_type": "code",
   "execution_count": null,
   "metadata": {
    "slideshow": {
     "slide_type": "fragment"
    }
   },
   "outputs": [],
   "source": [
    "import warnings\n",
    "warnings.filterwarnings(\"ignore\")"
   ]
  },
  {
   "cell_type": "markdown",
   "metadata": {
    "slideshow": {
     "slide_type": "slide"
    }
   },
   "source": [
    "![Cython logo](images/440px-Cython-logo.svg.png)"
   ]
  },
  {
   "cell_type": "markdown",
   "metadata": {
    "slideshow": {
     "slide_type": "fragment"
    }
   },
   "source": [
    "* Cython  provides extra syntax allowing for static type declarations (remember: Python is generally dynamically typed)\n",
    "* Python code gets translated into optimised C/C++ code and compiled as Python extension modules\n",
    "* Cython allows you to write fast C code in a Python-like syntax. \n",
    "* Furthermore, linking to existing C libraries is simplified."
   ]
  },
  {
   "cell_type": "markdown",
   "metadata": {
    "slideshow": {
     "slide_type": "slide"
    }
   },
   "source": [
    "- Pure Python Function\n",
    "\n",
    "\n",
    "$f(x)=-2x^3+5x^2+x$,"
   ]
  },
  {
   "cell_type": "code",
   "execution_count": null,
   "metadata": {
    "slideshow": {
     "slide_type": "fragment"
    }
   },
   "outputs": [],
   "source": [
    "def f(x):\n",
    "    return -4*x**3 +3*x**2 +2*x\n",
    "\n",
    "x = np.linspace(-1,1,100)\n",
    "ax = plt.subplot(1,1,1)\n",
    "ax.plot(x, f(x))\n",
    "ax.fill_between(x, 0, f(x));"
   ]
  },
  {
   "cell_type": "markdown",
   "metadata": {
    "slideshow": {
     "slide_type": "slide"
    }
   },
   "source": [
    " we compute integral $\\int_a^b f(x)dx$ numerically with $N$ points."
   ]
  },
  {
   "cell_type": "code",
   "execution_count": null,
   "metadata": {
    "slideshow": {
     "slide_type": "fragment"
    }
   },
   "outputs": [],
   "source": [
    "def integrate_f_py(a,b,N):\n",
    "    s  = 0\n",
    "    dx = (b - a) / (N-1)\n",
    "    for i in range(N-1): # we intentionally use the bad way to do this with a loop\n",
    "        x = a + i*dx\n",
    "        s += (f(x)+f(x+dx))/2\n",
    "    return s*dx"
   ]
  },
  {
   "cell_type": "code",
   "execution_count": null,
   "metadata": {
    "slideshow": {
     "slide_type": "fragment"
    }
   },
   "outputs": [],
   "source": [
    "%timeit integrate_f_py(-1,1,10**3)\n",
    "print(integrate_f_py(-1,1,1000))"
   ]
  },
  {
   "cell_type": "code",
   "execution_count": null,
   "metadata": {
    "slideshow": {
     "slide_type": "slide"
    }
   },
   "outputs": [],
   "source": [
    "%load_ext heat"
   ]
  },
  {
   "cell_type": "code",
   "execution_count": null,
   "metadata": {
    "slideshow": {
     "slide_type": "fragment"
    }
   },
   "outputs": [],
   "source": [
    "%%heat\n",
    "def f(x):\n",
    "    return -4*x**3 +3*x**2 +2*x\n",
    "def integrate_f(a, b, N):\n",
    "    s  = 0\n",
    "    dx = (b - a) / (N-1)\n",
    "    for i in range(N-1):\n",
    "        x = a + i*dx\n",
    "        s += (f(x)+f(x+dx))/2\n",
    "    return s*dx\n",
    "\n",
    "integrate_f(0, 10, 1000)"
   ]
  },
  {
   "cell_type": "markdown",
   "metadata": {
    "slideshow": {
     "slide_type": "slide"
    }
   },
   "source": [
    "- Pure C function\n"
   ]
  },
  {
   "cell_type": "code",
   "execution_count": null,
   "metadata": {
    "lines_to_next_cell": 2,
    "slideshow": {
     "slide_type": "slide"
    }
   },
   "outputs": [],
   "source": [
    "%%file integral_f_c.c\n",
    "\n",
    "#include <stdlib.h>\n",
    "#include <stdio.h>\n",
    "#include <time.h>\n",
    "\n",
    "#define NB_RUNS 1000\n",
    "\n",
    "double f(double x) {\n",
    "    return -4*x*x*x +3*x*x +2*x;\n",
    "}\n",
    "\n",
    "double integrate_f_c(double a, double b, int N) {\n",
    "    double s  = 0;\n",
    "    double dx = (b - a) / (N-1);\n",
    "    for(int i=0; i<N-1; ++i){\n",
    "        double x = a + i*dx;\n",
    "        s += (f(x)+f(x+dx))/2.0;\n",
    "    }\n",
    "    return s*dx;\n",
    "}\n",
    "\n",
    "int main(int argc, char **argv)\n",
    "{\n",
    "  \n",
    "  double a =  atof(argv[1]);\n",
    "  double b =  atof(argv[2]);\n",
    "  int N    =  atoi(argv[3]);\n",
    "  double  res = 0;\n",
    "\n",
    "  clock_t begin = clock();\n",
    "\n",
    "  for (int i=0; i<NB_RUNS; ++i)\n",
    "      res += integrate_f_c( a, b, N );\n",
    "    \n",
    "  clock_t end = clock();\n",
    "     \n",
    "  fprintf( stdout, \"integral_f(%3.1f, %3.1f, %d) = %f \\n\", a, b, N, res / NB_RUNS );\n",
    "  fprintf( stdout, \"time = %e ms \\n\",  (double)(end - begin) / CLOCKS_PER_SEC );\n",
    "\n",
    "  return 0;\n",
    "}"
   ]
  },
  {
   "cell_type": "code",
   "execution_count": null,
   "metadata": {
    "slideshow": {
     "slide_type": "subslide"
    }
   },
   "outputs": [],
   "source": [
    "!gcc -O3 integral_f_c.c; ./a.out -1 1 1000"
   ]
  },
  {
   "cell_type": "markdown",
   "metadata": {
    "slideshow": {
     "slide_type": "slide"
    }
   },
   "source": [
    "## Cython compilation: Generating C code\n",
    "\n",
    "Load Cython in jupyter notebook."
   ]
  },
  {
   "cell_type": "code",
   "execution_count": null,
   "metadata": {
    "slideshow": {
     "slide_type": "fragment"
    }
   },
   "outputs": [],
   "source": [
    "%load_ext Cython"
   ]
  },
  {
   "cell_type": "markdown",
   "metadata": {
    "slideshow": {
     "slide_type": "fragment"
    }
   },
   "source": [
    "### C Variable and Type definitions\n",
    "\n",
    "In general, use `cdef` to declare C variables. \n",
    "The command :\n",
    "```sh\n",
    "$ cython -a mycode.pyx\n",
    "```\n",
    "outputs an html file. It shows what parts of your code are C, which parts are Python, and where C-Python conversion occurs."
   ]
  },
  {
   "cell_type": "code",
   "execution_count": null,
   "metadata": {
    "slideshow": {
     "slide_type": "slide"
    }
   },
   "outputs": [],
   "source": [
    "%%cython -a\n",
    "cdef int i, j = 2, k = 3      # assigning values at declaration\n",
    "i = 1                         # assigning values afterwards\n",
    "# avoid Python-C conversion! It's expensive:\n",
    "a = 5\n",
    "i = a\n",
    "# same with C-Python conversion:\n",
    "b = j\n",
    "print(\"a = %d\" % a)\n",
    "print(\"i = %d\" % i)\n",
    "print(\"b = %d\" % b)"
   ]
  },
  {
   "cell_type": "markdown",
   "metadata": {
    "slideshow": {
     "slide_type": "slide"
    }
   },
   "source": [
    "### Another Python vs. Cython coloring guide"
   ]
  },
  {
   "cell_type": "code",
   "execution_count": null,
   "metadata": {
    "slideshow": {
     "slide_type": "fragment"
    }
   },
   "outputs": [],
   "source": [
    "%%cython -a\n",
    "cdef int m, n\n",
    "cdef double cy_total = 0.0\n",
    "for m in range(10):\n",
    "    n = 2*m\n",
    "    cy_total += n\n",
    "a, b = 0, 0\n",
    "py_total = 0.0\n",
    "for a in range(10):\n",
    "    b = 2*a\n",
    "    py_total += b\n",
    "print(cy_total, py_total)"
   ]
  },
  {
   "cell_type": "code",
   "execution_count": null,
   "metadata": {
    "slideshow": {
     "slide_type": "slide"
    }
   },
   "outputs": [],
   "source": [
    "%%cython -a\n",
    "cdef struct Grail:\n",
    "    int age\n",
    "    float volume\n",
    "cdef union Food:\n",
    "    char *spam\n",
    "    float *eggs\n",
    "cdef enum CheeseType:\n",
    "    cheddar, edam,\n",
    "    camembert\n",
    "cdef enum CheeseState:\n",
    "    hard = 1\n",
    "    soft = 2\n",
    "    runny = 3\n",
    "cdef Grail holy\n",
    "holy.age    = 500\n",
    "holy.volume = 10.0\n",
    "print (holy.age, holy.volume)"
   ]
  },
  {
   "cell_type": "markdown",
   "metadata": {
    "slideshow": {
     "slide_type": "slide"
    }
   },
   "source": [
    "## Cython Functions\n",
    "\n",
    "Use **cdef** to define a Cython function.   \n",
    " - Cython function can accept either (inclusive) Python and C values as well as return either Python or C values,\n",
    " - *Within a Cython module* Python and Cython functions can call each other freely. However, only **Python** functions can be called from outside the module by Python code. (i.e. importing/exporting a Cython module into some Python code)\n",
    "\n",
    "**cpdef** define a Cython function with a simple Python wrapper. However, when called from Cython the Cython / C code is called directly, bypassing the Python wrapper.  "
   ]
  },
  {
   "cell_type": "markdown",
   "metadata": {
    "slideshow": {
     "slide_type": "slide"
    }
   },
   "source": [
    "Writing pure code in Cython gives a small speed boost. Note that none of the code below is Cython-specific. Just add `.pyx` instead of `.py` extension."
   ]
  },
  {
   "cell_type": "code",
   "execution_count": null,
   "metadata": {
    "slideshow": {
     "slide_type": "fragment"
    }
   },
   "outputs": [],
   "source": [
    "%%file cython_f_example.pyx\n",
    "def f(x):\n",
    "    return -4*x**3 +3*x**2 +2*x\n",
    "def integrate_f(a, b, N):\n",
    "    s  = 0\n",
    "    dx = (b - a) / (N-1)\n",
    "    for i in range(N-1):\n",
    "        x = a + i*dx\n",
    "        s += (f(x)+f(x+dx))/2\n",
    "    return s*dx"
   ]
  },
  {
   "cell_type": "markdown",
   "metadata": {
    "slideshow": {
     "slide_type": "slide"
    }
   },
   "source": [
    "## Cython Compilation\n",
    "\n",
    "- The .pyx source file is compiled by Cython to a .c file.\n",
    "- The .c source file contains the code of a Python extension module.\n",
    "- The .c file is compiled by a C compiler to a .so (shared object library) file which can be imported directly into a Python session."
   ]
  },
  {
   "cell_type": "markdown",
   "metadata": {
    "slideshow": {
     "slide_type": "fragment"
    }
   },
   "source": [
    "### Build with CMake\n",
    "```cmake\n",
    "project(cython_f_example CXX)\n",
    "include(UseCython)  # Load Cython functions\n",
    "# Set C++ output\n",
    "set_source_file_properties(cython_f_example.pyx PROPERTIES CYTHON_IS_CXX TRUE )\n",
    "# Build the extension module\n",
    "cython_add_module( modname cython_f_example.pyx cython_f_example.cpp )\n",
    "```"
   ]
  },
  {
   "cell_type": "markdown",
   "metadata": {
    "slideshow": {
     "slide_type": "slide"
    }
   },
   "source": [
    "### C/C++ generation with cython application\n",
    "```sh\n",
    "cython -3 cython_f_example.pyx   # create the C file for Python 3\n",
    "cython -3 --cplus cython_f_example.pyx  # create the C++ file for Python 3\n",
    "```"
   ]
  },
  {
   "cell_type": "markdown",
   "metadata": {
    "slideshow": {
     "slide_type": "fragment"
    }
   },
   "source": [
    "\n",
    "### build with a C/C++ compiler\n",
    "To build use the Makefile:\n",
    "```make\n",
    "CC=gcc\n",
    "CFLAGS=`python-config --cflags` \n",
    "LDFLAGS=`python-config --ldflags`\n",
    "cython_f_example:\n",
    "\t ${CC} -c $@.c ${CFLAGS}\n",
    "\t ${CC} $@.o -o $@.so -shared ${LDFLAGS}\n",
    "```\n",
    "Import the module in Python session\n",
    "```python\n",
    "import cython_f_example\n",
    "```\n",
    "\n"
   ]
  },
  {
   "cell_type": "markdown",
   "metadata": {
    "slideshow": {
     "slide_type": "slide"
    }
   },
   "source": [
    "## pyximport\n",
    "\n",
    "import Cython .pyx files as if they were .py files:"
   ]
  },
  {
   "cell_type": "code",
   "execution_count": null,
   "metadata": {
    "slideshow": {
     "slide_type": "fragment"
    }
   },
   "outputs": [],
   "source": [
    "import pyximport\n",
    "pyximport.install()\n",
    "import cython_f_example\n",
    "%timeit cython_f_example.integrate_f(-1,1,10**3)\n",
    "print(cython_f_example.integrate_f(-1,1,1000))"
   ]
  },
  {
   "cell_type": "markdown",
   "metadata": {
    "slideshow": {
     "slide_type": "slide"
    }
   },
   "source": [
    "## Building a Cython module using distutils\n",
    "\n",
    "Create the setup.py script:"
   ]
  },
  {
   "cell_type": "code",
   "execution_count": null,
   "metadata": {
    "slideshow": {
     "slide_type": "fragment"
    }
   },
   "outputs": [],
   "source": [
    "%%file setup.py\n",
    "from distutils.core import setup\n",
    "from Cython.Build import cythonize\n",
    "\n",
    "setup(\n",
    "  name = 'Cython Example Integrate f Function',\n",
    "  ext_modules = cythonize(\"cython_f_example.pyx\"),\n",
    ")"
   ]
  },
  {
   "cell_type": "code",
   "execution_count": null,
   "metadata": {
    "slideshow": {
     "slide_type": "slide"
    }
   },
   "outputs": [],
   "source": [
    "%run setup.py  build_ext --inplace --quiet"
   ]
  },
  {
   "cell_type": "code",
   "execution_count": null,
   "metadata": {
    "slideshow": {
     "slide_type": "fragment"
    }
   },
   "outputs": [],
   "source": [
    "from cython_f_example import integrate_f\n",
    "%timeit integrate_f(-1,1,10**3)\n",
    "integrate_f(-1,1,10**3)"
   ]
  },
  {
   "cell_type": "markdown",
   "metadata": {
    "slideshow": {
     "slide_type": "slide"
    }
   },
   "source": [
    "## Why is it faster with Cython ?\n",
    "\n",
    "- Python code is interpreted at every execution to machine code.\n",
    "- Compiled C code is already in machine code.\n",
    "- C is a statically-typed language. It gives to the compiler more information which allows it to optimize both computations and memory access.\n",
    "- To add two variables, Python checks the type before calling the right __add__ function and store it to a value that can be new.\n",
    "- C just add the variables and return the result.\n"
   ]
  },
  {
   "cell_type": "markdown",
   "metadata": {
    "slideshow": {
     "slide_type": "slide"
    }
   },
   "source": [
    "## Add Cython types \n",
    "We coerce Python types to C types when calling the function. Still a \"Python function\" so callable from the global namespace."
   ]
  },
  {
   "cell_type": "code",
   "execution_count": null,
   "metadata": {
    "slideshow": {
     "slide_type": "fragment"
    }
   },
   "outputs": [],
   "source": [
    "%%cython\n",
    "def f(x):\n",
    "    return -4*x**3 +3*x**2 +2*x\n",
    "def cy_integrate_f(double a, double b, int N):\n",
    "    cdef int i\n",
    "    cdef double s, x, dx\n",
    "    s  = 0\n",
    "    dx = (b - a) / (N-1)\n",
    "    for i in range(N-1):\n",
    "        x = a + i*dx\n",
    "        s += (f(x)+f(x+dx))/2\n",
    "    return s*dx"
   ]
  },
  {
   "cell_type": "markdown",
   "metadata": {
    "slideshow": {
     "slide_type": "slide"
    }
   },
   "source": [
    "* typing the iterator variable i with C semantics, tells Cython to compile the for-loop to pure C code.\n",
    "* typing a, s and dx is important as they are involved in arithmetic within the for-loop\n",
    "\n",
    "* Cython type declarations can make the source code less readable\n",
    "* Do not use them without good reason, i.e. only in performance critical sections."
   ]
  },
  {
   "cell_type": "code",
   "execution_count": null,
   "metadata": {
    "slideshow": {
     "slide_type": "fragment"
    }
   },
   "outputs": [],
   "source": [
    "%timeit cy_integrate_f(-1,1,10**3)\n",
    "print(cy_integrate_f(-1,1,1000))"
   ]
  },
  {
   "cell_type": "markdown",
   "metadata": {
    "slideshow": {
     "slide_type": "slide"
    }
   },
   "source": [
    "Finally, we integrate a Cython function instead of a Python function. \n",
    "This eliminates the Python-C conversion at the function call as seen \n",
    "above thus giving a pure Cython/C algorithm.\n",
    "\n",
    "The primary downside is not being allowed to call\n",
    "the function `cy_f`, from Python unless `cpdef` is used. "
   ]
  },
  {
   "cell_type": "code",
   "execution_count": null,
   "metadata": {
    "slideshow": {
     "slide_type": "fragment"
    }
   },
   "outputs": [],
   "source": [
    "%%cython\n",
    "cdef double cy_f(double x):\n",
    "    return -4*x**3 +3*x**2 +2*x\n",
    "def cycy_integrate_f(double a, double b, int N):\n",
    "    cdef int i\n",
    "    cdef double s, x, dx\n",
    "    s  = 0\n",
    "    dx = (b - a) / (N-1)\n",
    "    for i in range(N-1):\n",
    "        x = a + i*dx\n",
    "        s += (cy_f(x)+cy_f(x+dx))/2\n",
    "    return s*dx"
   ]
  },
  {
   "cell_type": "code",
   "execution_count": null,
   "metadata": {
    "slideshow": {
     "slide_type": "fragment"
    }
   },
   "outputs": [],
   "source": [
    "%timeit cycy_integrate_f(-1,1,10**3)\n",
    "print(cycy_integrate_f(-1,1,1000))"
   ]
  },
  {
   "cell_type": "markdown",
   "metadata": {
    "slideshow": {
     "slide_type": "slide"
    }
   },
   "source": [
    "## Exercise : Cythonize the trivial exponential function."
   ]
  },
  {
   "cell_type": "code",
   "execution_count": null,
   "metadata": {
    "slideshow": {
     "slide_type": "fragment"
    }
   },
   "outputs": [],
   "source": [
    "%%cython -a\n",
    "def exp_python(x,terms=50):\n",
    "    sum = 0.\n",
    "    power = 1.\n",
    "    fact = 1.\n",
    "    for i in range(terms):\n",
    "        sum += power/fact\n",
    "        power *= x\n",
    "        fact *= i+1\n",
    "    return sum"
   ]
  },
  {
   "cell_type": "code",
   "execution_count": null,
   "metadata": {
    "slideshow": {
     "slide_type": "fragment"
    }
   },
   "outputs": [],
   "source": [
    "%timeit exp_python(1.,50)"
   ]
  },
  {
   "cell_type": "code",
   "execution_count": null,
   "metadata": {
    "slideshow": {
     "slide_type": "skip"
    }
   },
   "outputs": [],
   "source": [
    "%%cython\n",
    "\n",
    "# %load solutions/cython/exponential.pyx\n",
    "#cython: profile=False\n",
    "#cython: cdivision=True\n",
    "def exp_cython(double x, int terms = 50):\n",
    "   cdef double sum\n",
    "   cdef double power\n",
    "   cdef double fact\n",
    "   cdef int i\n",
    "   sum = 0.\n",
    "   power = 1.\n",
    "   fact = 1.\n",
    "   for i in range(terms):\n",
    "      sum += power/fact\n",
    "      power *= x\n",
    "      fact *= i+1\n",
    "   return sum\n"
   ]
  },
  {
   "cell_type": "code",
   "execution_count": null,
   "metadata": {
    "slideshow": {
     "slide_type": "skip"
    }
   },
   "outputs": [],
   "source": [
    "%timeit exp_cython(1.,50)"
   ]
  },
  {
   "cell_type": "markdown",
   "metadata": {
    "slideshow": {
     "slide_type": "slide"
    }
   },
   "source": [
    "## Cython and Numpy\n",
    "\n",
    "The Numpy library contains many fast numerics routines. Their speed comes \n",
    "from manipulating the low-level C-arrays that the numpy.array object wraps \n",
    "rather than computing over slow Python lists. Using Cython one can access \n",
    "those low-level arrays and implement their own fast algorithms while allowing \n",
    "the easy interaction afforded by Python + Numpy.\n",
    "\n",
    "The examples below are various implementations of the naive matrix multiplication \n",
    "algorithm. We will start with a pure Python implementation and then incrementally \n",
    "add structures that allow Cython to exploit the low-level speed of the numpy.array \n",
    "object."
   ]
  },
  {
   "cell_type": "markdown",
   "metadata": {
    "slideshow": {
     "slide_type": "slide"
    }
   },
   "source": [
    "### Pure Python implementation compiled in Cython without specific optimizations."
   ]
  },
  {
   "cell_type": "code",
   "execution_count": null,
   "metadata": {
    "slideshow": {
     "slide_type": "fragment"
    }
   },
   "outputs": [],
   "source": [
    "%%cython\n",
    "def matmul1(A, B, out=None):\n",
    "    assert A.shape[1] == B.shape[0]\n",
    "    for i in range(A.shape[0]):\n",
    "        for j in range(B.shape[1]):\n",
    "            s = 0\n",
    "            for k in range(A.shape[1]):\n",
    "                s += A[i,k] * B[k,j]\n",
    "            out[i,j] = s\n",
    "    return out"
   ]
  },
  {
   "cell_type": "markdown",
   "metadata": {
    "slideshow": {
     "slide_type": "slide"
    }
   },
   "source": [
    "### Import numpy as a Cython module\n",
    "\n",
    "We now take advantage of the ability to access the underlying C arrays in the `numpy.array` object from Cython, thanks to a special `numpy.pxd` file included with Cython. (The Cython developers worked closely with Numpy developers to make this optimal.) \n",
    "\n",
    "To begin with, we have to `cimport` numpy: that is, import numpy as a **Cython** module rather than a **Python** module. To do so, simply type:\n",
    "\n",
    "```python\n",
    "cimport numpy as np\n",
    "```\n",
    "Another important thing to note is the type of Numpy indexers. There is a special Numpy variable type used for `numpy.array` indices called `Py_ssize_t`. To take full advantage of the speedups that Cython can provide we should make sure to type the variables used for indexing as such.\n"
   ]
  },
  {
   "cell_type": "code",
   "execution_count": null,
   "metadata": {
    "slideshow": {
     "slide_type": "slide"
    }
   },
   "outputs": [],
   "source": [
    "%%cython\n",
    "import numpy as np\n",
    "cimport numpy as np\n",
    "ctypedef np.float64_t dtype_t      # shorthand type. easy to change\n",
    "def matmul2(np.ndarray[dtype_t, ndim=2] A,\n",
    "            np.ndarray[dtype_t, ndim=2] B,\n",
    "            np.ndarray[dtype_t, ndim=2] out=None):\n",
    "    cdef Py_ssize_t i, j, k\n",
    "    cdef dtype_t s\n",
    "    assert A.shape[1] == B.shape[0]\n",
    "    for i in range(A.shape[0]):\n",
    "        for j in range(B.shape[1]):\n",
    "            s = 0\n",
    "            for k in range(A.shape[1]):\n",
    "                s += A[i,k] * B[k,j]\n",
    "            out[i,j] = s\n",
    "    return out"
   ]
  },
  {
   "cell_type": "code",
   "execution_count": null,
   "metadata": {
    "slideshow": {
     "slide_type": "slide"
    }
   },
   "outputs": [],
   "source": [
    "import numpy as np\n",
    "from timeit import timeit\n",
    "A = np.random.random_sample((64,64))\n",
    "B = np.random.random_sample((64,64))\n",
    "C = np.zeros((64,64))"
   ]
  },
  {
   "cell_type": "code",
   "execution_count": null,
   "metadata": {
    "slideshow": {
     "slide_type": "fragment"
    }
   },
   "outputs": [],
   "source": [
    "%timeit matmul1(A,B,C)"
   ]
  },
  {
   "cell_type": "code",
   "execution_count": null,
   "metadata": {
    "slideshow": {
     "slide_type": "fragment"
    }
   },
   "outputs": [],
   "source": [
    "%timeit matmul2(A,B,C)"
   ]
  },
  {
   "cell_type": "markdown",
   "metadata": {
    "slideshow": {
     "slide_type": "slide"
    }
   },
   "source": [
    "### Tuning indexing\n",
    "The array lookups are still slowed down by two factors:\n",
    "  * Bounds checking is performed.\n",
    "  * Negative indices are checked for and handled correctly. \n",
    "  \n",
    "The code doesn’t use negative indices, and always access to arrays within bounds. We can add a decorator to disable bounds checking:"
   ]
  },
  {
   "cell_type": "code",
   "execution_count": null,
   "metadata": {
    "slideshow": {
     "slide_type": "slide"
    }
   },
   "outputs": [],
   "source": [
    "%%cython\n",
    "cimport cython                                       # cython tools\n",
    "import numpy as np\n",
    "cimport numpy as np\n",
    "ctypedef np.float64_t dtype_t\n",
    "@cython.boundscheck(False) # turn off bounds-checking for entire function\n",
    "@cython.wraparound(False)  # turn off negative index wrapping for entire function\n",
    "def matmul3(np.ndarray[dtype_t, ndim=2] A,\n",
    "            np.ndarray[dtype_t, ndim=2] B,\n",
    "            np.ndarray[dtype_t, ndim=2] out=None):\n",
    "    cdef Py_ssize_t i, j, k\n",
    "    cdef dtype_t s\n",
    "    assert A.shape[1] == B.shape[0]\n",
    "    for i in range(A.shape[0]):\n",
    "        for j in range(B.shape[1]):\n",
    "            s = 0\n",
    "            for k in range(A.shape[1]):\n",
    "                s += A[i,k] * B[k,j]\n",
    "            out[i,j] = s\n",
    "    return out"
   ]
  },
  {
   "cell_type": "code",
   "execution_count": null,
   "metadata": {
    "slideshow": {
     "slide_type": "fragment"
    }
   },
   "outputs": [],
   "source": [
    "%timeit matmul3(A,B,C)"
   ]
  },
  {
   "cell_type": "markdown",
   "metadata": {
    "slideshow": {
     "slide_type": "slide"
    }
   },
   "source": [
    "## Cython Build Options\n",
    "\n",
    "- boundcheck(True,False) : array bounds checking\n",
    "- wraparound(True,False) : negative indexing.\n",
    "- initializedcheck(True,False): checks that a memoryview is initialized \n",
    "- nonecheck(True,False) : Check if one argument is  None\n",
    "- overflowcheck(True,False) : Check if int are too big\n",
    "- cdivision(True,False) : If False, adjust the remainder and quotient operators C types to match those of Python ints. Could be very effective when it is set to True.\n",
    "- profile (True / False) : Write hooks for Python profilers into the compiled C code. Default is False.\n",
    "\n",
    "[Cython Compiler directives](http://docs.cython.org/en/latest/src/reference/compilation.html#compiler-directives)"
   ]
  },
  {
   "cell_type": "markdown",
   "metadata": {
    "slideshow": {
     "slide_type": "slide"
    }
   },
   "source": [
    "## Numpy objects with external C program. \n",
    "\n",
    "Note that this can actually be slower \n",
    "because the C function is not the best implementation of matrix multiplication. Call cblas with same technique is an interesting exercise."
   ]
  },
  {
   "cell_type": "code",
   "execution_count": null,
   "metadata": {
    "slideshow": {
     "slide_type": "fragment"
    }
   },
   "outputs": [],
   "source": [
    "%%file mydgemm.c \n",
    "void my_dgemm( int m, int n, int k, \n",
    "              double a[m][n], double b[n][k], float c[m][k] )\n",
    "{\n",
    "  double ab = 0;\n",
    "  for( int j = 0 ; j < m ; j++ ) {\n",
    "    for( int i = 0 ; i < k ; i++ ) {\n",
    "      for( int l = 0 ; l < n ; l++ ){\n",
    "        ab += a[j][l] * b[l][i];\n",
    "      }\n",
    "      c[j][i] = ab ;\n",
    "      ab = 0;\n",
    "    }\n",
    "  }\n",
    "}"
   ]
  },
  {
   "cell_type": "markdown",
   "metadata": {
    "slideshow": {
     "slide_type": "slide"
    }
   },
   "source": [
    "- The `np.ndarray[double, ndim=2, mode=\"c\"]` assures that you get a C-contiguous numpy array of doubles \n",
    "- The `&input[0,0]` passed in the address of the beginning of the data array."
   ]
  },
  {
   "cell_type": "code",
   "execution_count": null,
   "metadata": {},
   "outputs": [],
   "source": [
    "from pyximport import install\n",
    "import os\n",
    "here = os.getcwd()"
   ]
  },
  {
   "cell_type": "code",
   "execution_count": null,
   "metadata": {
    "slideshow": {
     "slide_type": "fragment"
    }
   },
   "outputs": [],
   "source": [
    "%%cython -I {here}\n",
    "# do not forget to change the file path\n",
    "cdef extern from \"mydgemm.c\":\n",
    "    void my_dgemm (int m, int n, int k, \n",
    "                          double *A, double *B, double *C)\n",
    "cimport cython\n",
    "import numpy as np\n",
    "cimport numpy as np\n",
    "ctypedef np.float64_t dtype_t\n",
    "@cython.boundscheck(False)\n",
    "@cython.wraparound(False) \n",
    "def matmul4(np.ndarray[dtype_t, ndim=2, mode=\"c\"] A,\n",
    "            np.ndarray[dtype_t, ndim=2, mode=\"c\"] B,\n",
    "            np.ndarray[dtype_t, ndim=2, mode=\"c\"] C=None):\n",
    "    cdef int m = A.shape[0]\n",
    "    cdef int n = A.shape[1]\n",
    "    cdef int k = B.shape[1]\n",
    "    cdef dtype_t s\n",
    "    \n",
    "    my_dgemm(m, n, k, &A[0,0], &B[0,0], &C[0,0])\n",
    "                                                  \n",
    "    return C"
   ]
  },
  {
   "cell_type": "code",
   "execution_count": null,
   "metadata": {},
   "outputs": [],
   "source": [
    "%timeit matmul4(A,B,C)"
   ]
  },
  {
   "cell_type": "markdown",
   "metadata": {
    "slideshow": {
     "slide_type": "slide"
    }
   },
   "source": [
    "### Exercise : Find prime numbers < 10000"
   ]
  },
  {
   "cell_type": "code",
   "execution_count": null,
   "metadata": {
    "slideshow": {
     "slide_type": "fragment"
    }
   },
   "outputs": [],
   "source": [
    "# %load solutions/cython/is_prime0.py\n",
    "\n",
    "def is_prime0(n):\n",
    "    if n < 4: return True\n",
    "    if n % 2 == 0 : return False\n",
    "    k = 3\n",
    "    while k*k <= n:\n",
    "        if n % k == 0: return False\n",
    "        k += 2\n",
    "    return True"
   ]
  },
  {
   "cell_type": "code",
   "execution_count": null,
   "metadata": {
    "slideshow": {
     "slide_type": "fragment"
    }
   },
   "outputs": [],
   "source": [
    "[ p for p in range(20) if is_prime0(p)]"
   ]
  },
  {
   "cell_type": "code",
   "execution_count": null,
   "metadata": {
    "slideshow": {
     "slide_type": "fragment"
    }
   },
   "outputs": [],
   "source": [
    "L = list(range(10000))\n",
    "%timeit [ p for p in L if is_prime0(p)]"
   ]
  },
  {
   "cell_type": "code",
   "execution_count": null,
   "metadata": {
    "slideshow": {
     "slide_type": "slide"
    }
   },
   "outputs": [],
   "source": [
    "%%cython\n",
    "def is_prime1(n):\n",
    "    if n < 4: return True\n",
    "    if n % 2 == 0 : return False\n",
    "    k = 3\n",
    "    while k*k <= n:\n",
    "        if n % k == 0: return False\n",
    "        k += 2\n",
    "    return True"
   ]
  },
  {
   "cell_type": "code",
   "execution_count": null,
   "metadata": {
    "slideshow": {
     "slide_type": "fragment"
    }
   },
   "outputs": [],
   "source": [
    "[ p for p in range(20) if is_prime1(p)]"
   ]
  },
  {
   "cell_type": "code",
   "execution_count": null,
   "metadata": {
    "slideshow": {
     "slide_type": "fragment"
    }
   },
   "outputs": [],
   "source": [
    "%timeit [p  for p in L if is_prime1(p)]"
   ]
  },
  {
   "cell_type": "markdown",
   "metadata": {
    "slideshow": {
     "slide_type": "slide"
    }
   },
   "source": [
    "### Add Cython types without modifying the Python Code"
   ]
  },
  {
   "cell_type": "code",
   "execution_count": null,
   "metadata": {
    "slideshow": {
     "slide_type": "fragment"
    }
   },
   "outputs": [],
   "source": [
    "%%cython\n",
    "import cython\n",
    "@cython.locals(n=int, k=int)\n",
    "def is_prime2(n):\n",
    "    if n < 4: return True\n",
    "    if n % 2 == 0 : return False\n",
    "    k = 3\n",
    "    while k*k <= n:\n",
    "        if n % k == 0: return False\n",
    "        k += 2\n",
    "    return True"
   ]
  },
  {
   "cell_type": "code",
   "execution_count": null,
   "metadata": {
    "slideshow": {
     "slide_type": "fragment"
    }
   },
   "outputs": [],
   "source": [
    "[ p for p in range(20) if is_prime2(p)]"
   ]
  },
  {
   "cell_type": "code",
   "execution_count": null,
   "metadata": {
    "slideshow": {
     "slide_type": "fragment"
    }
   },
   "outputs": [],
   "source": [
    "%timeit [p for p in L if is_prime2(p) ]"
   ]
  },
  {
   "cell_type": "markdown",
   "metadata": {
    "slideshow": {
     "slide_type": "slide"
    }
   },
   "source": [
    "### Cython function "
   ]
  },
  {
   "cell_type": "code",
   "execution_count": null,
   "metadata": {
    "slideshow": {
     "slide_type": "fragment"
    }
   },
   "outputs": [],
   "source": [
    "%%cython\n",
    "import cython\n",
    "cdef bint is_prime3(int n):\n",
    "    if n < 4: return True\n",
    "    if n % 2 == 0: return False\n",
    "    cdef int k = 3\n",
    "    while k*k <= n:\n",
    "        if n % k == 0: return False\n",
    "        k += 2\n",
    "    return True\n",
    "def prime_list(L):\n",
    "    return [p for p in L if is_prime3(p)]"
   ]
  },
  {
   "cell_type": "code",
   "execution_count": null,
   "metadata": {
    "slideshow": {
     "slide_type": "fragment"
    }
   },
   "outputs": [],
   "source": [
    "prime_list(list(range(20)))"
   ]
  },
  {
   "cell_type": "code",
   "execution_count": null,
   "metadata": {
    "slideshow": {
     "slide_type": "fragment"
    }
   },
   "outputs": [],
   "source": [
    "%timeit prime_list(L)"
   ]
  },
  {
   "cell_type": "code",
   "execution_count": null,
   "metadata": {
    "slideshow": {
     "slide_type": "slide"
    }
   },
   "outputs": [],
   "source": [
    "%%cython\n",
    "import cython\n",
    "from numpy cimport ndarray\n",
    "import numpy\n",
    "\n",
    "cdef bint is_prime3(int n):\n",
    "    if n < 4: return True\n",
    "    if n % 2 == 0: return False\n",
    "    cdef int k = 3\n",
    "    while k*k <= n:\n",
    "        if n % k == 0: return False\n",
    "        k += 2\n",
    "    return True\n",
    "\n",
    "def prime_array(ndarray[int, ndim=1] L):\n",
    "    cdef ndarray[int, ndim=1] res = ndarray(shape=(L.shape[0]),dtype=numpy.int32)\n",
    "    cdef int i\n",
    "    for i in range(L.shape[0]):\n",
    "        res[i] = is_prime3(L[i])\n",
    "    return L[res==1]"
   ]
  },
  {
   "cell_type": "code",
   "execution_count": null,
   "metadata": {
    "slideshow": {
     "slide_type": "fragment"
    }
   },
   "outputs": [],
   "source": [
    "import numpy as np\n",
    "prime_array(np.arange(20,dtype=np.int32))"
   ]
  },
  {
   "cell_type": "code",
   "execution_count": null,
   "metadata": {
    "slideshow": {
     "slide_type": "fragment"
    }
   },
   "outputs": [],
   "source": [
    "npL = numpy.array(L,dtype=np.int32)\n",
    "%timeit prime_array(npL)"
   ]
  },
  {
   "cell_type": "markdown",
   "metadata": {
    "slideshow": {
     "slide_type": "slide"
    }
   },
   "source": [
    "## Using Parallelism\n",
    "\n",
    "* Cython supports native parallelism via OpenMP\n",
    "* by default, Python’s Global Interpreter Lock (GIL) prevents that several threads use the Python interpreter simultaneously\n",
    "* to use this kind of parallelism, the GIL must be released\n",
    "\n",
    "If you have a default compiler with openmp support you can use\n",
    "this magic command in your notebook.\n",
    "```cython\n",
    "%%cython --compile-args=-fopenmp --link-args=-fopenmp\n",
    "```"
   ]
  },
  {
   "cell_type": "code",
   "execution_count": null,
   "metadata": {
    "slideshow": {
     "slide_type": "slide"
    }
   },
   "outputs": [],
   "source": [
    "%%file cython_omp.pyx\n",
    "import cython\n",
    "from cython.parallel cimport parallel, prange  # import parallel functions\n",
    "import numpy as np\n",
    "from numpy cimport ndarray\n",
    "\n",
    "cdef bint is_prime4(int n) nogil:      #release the gil \n",
    "    if n < 4: return True\n",
    "    if n % 2 == 0: return False\n",
    "    cdef int k = 3\n",
    "    while k*k <= n:\n",
    "        if n % k == 0: return False\n",
    "        k += 2\n",
    "    return True\n",
    "\n",
    "@cython.boundscheck(False)\n",
    "def prime_array_omp(ndarray[int, ndim=1] L):\n",
    "    cdef ndarray[int, ndim=1] res = ndarray(shape=(L.shape[0]),dtype=np.int32)\n",
    "    cdef Py_ssize_t i\n",
    "    with nogil, parallel(num_threads=4):\n",
    "        for i in prange(L.shape[0]):     #Parallel loop\n",
    "            res[i] = is_prime4(L[i])\n",
    "    return L[res==1]"
   ]
  },
  {
   "cell_type": "markdown",
   "metadata": {
    "slideshow": {
     "slide_type": "slide"
    }
   },
   "source": [
    "To use the OpenMP support, you need to enable OpenMP. For gcc this can be done as follows in a setup.py:"
   ]
  },
  {
   "cell_type": "code",
   "execution_count": null,
   "metadata": {
    "slideshow": {
     "slide_type": "fragment"
    }
   },
   "outputs": [],
   "source": [
    "%%file setup.py\n",
    "from distutils.core import setup\n",
    "from distutils.extension import Extension\n",
    "from Cython.Build import cythonize\n",
    "import os, sys\n",
    "import numpy\n",
    "\n",
    "if sys.platform == \"darwin\": # for omp, use gcc installed with brew\n",
    "    os.environ[\"CC\"]=\"gcc-10\"\n",
    "    os.environ[\"CXX\"]=\"g++-10\"\n",
    "\n",
    "ext_modules = [\n",
    "    Extension(\n",
    "        \"cython_omp\",\n",
    "        [\"cython_omp.pyx\"],\n",
    "        extra_compile_args=['-fopenmp'],\n",
    "        extra_link_args=['-fopenmp'],\n",
    "        include_dirs=[numpy.get_include()]\n",
    "    )\n",
    "]\n",
    "\n",
    "setup(\n",
    "    name='Cython OpenMP Example',\n",
    "    ext_modules=cythonize(ext_modules),\n",
    ")\n",
    "# python setup.py build_ext --inplace"
   ]
  },
  {
   "cell_type": "code",
   "execution_count": null,
   "metadata": {
    "slideshow": {
     "slide_type": "slide"
    }
   },
   "outputs": [],
   "source": [
    "%run setup.py build_ext --inplace --quiet"
   ]
  },
  {
   "cell_type": "code",
   "execution_count": null,
   "metadata": {
    "slideshow": {
     "slide_type": "fragment"
    }
   },
   "outputs": [],
   "source": [
    "from cython_omp import prime_array_omp"
   ]
  },
  {
   "cell_type": "code",
   "execution_count": null,
   "metadata": {
    "slideshow": {
     "slide_type": "fragment"
    }
   },
   "outputs": [],
   "source": [
    "prime_array_omp(np.arange(20,dtype=np.int32))"
   ]
  },
  {
   "cell_type": "code",
   "execution_count": null,
   "metadata": {
    "slideshow": {
     "slide_type": "fragment"
    }
   },
   "outputs": [],
   "source": [
    "%timeit prime_array_omp(npL)"
   ]
  },
  {
   "cell_type": "markdown",
   "metadata": {
    "slideshow": {
     "slide_type": "skip"
    }
   },
   "source": [
    "## References\n",
    "* [Cython documentation](http://docs.cython.org/en/latest/)\n",
    "* [An Interactive Introduction to Cython by Chris Swierczewski](http://www.cswiercz.info)\n",
    "* [Introduction To Python by Michael Kraus](http://michael-kraus.org/introduction-to-python.html)\n",
    "* [Cython by Xavier Juvigny 🇫🇷](http://calcul.math.cnrs.fr/IMG/pdf/cythontalk.pdf)\n",
    "* [Cython: C-Extensions for Python, Wiki](https://github.com/cython/cython/wiki)\n",
    "* Kurt W. Smith\n",
    "    - [Cython A Guide for Python Programmers](http://shop.oreilly.com/product/0636920033431.do)\n",
    "    - [Cython: Blend the Best of Python and C++ | SciPy 2015 Tutorial | Kurt Smith\n",
    "](https://youtu.be/gMvkiQ-gOW8)\n",
    "    - [Cython: Speed up Python and NumPy, Pythonize C, C++, and Fortran, SciPy2013 Kurt W. Smith](https://youtu.be/JKCjsRDffXo)\n",
    "    - [SciPy 2017 - Cython by ](https://youtu.be/FepqwPI6U80)\n",
    "    - [Cython Book examples](https://github.com/cythonbook)\n",
    "    \n",
    "* [Parallel computing in Cython/threads - Neal Hughes](http://nealhughes.net/parallelcomp2/)"
   ]
  }
 ],
 "metadata": {
  "kernelspec": {
   "display_name": "Python 3",
   "language": "python",
   "name": "python3"
  }
 },
 "nbformat": 4,
 "nbformat_minor": 4
}
