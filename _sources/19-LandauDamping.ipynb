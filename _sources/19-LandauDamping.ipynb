{
 "cells": [
  {
   "cell_type": "markdown",
   "metadata": {
    "slideshow": {
     "slide_type": "slide"
    }
   },
   "source": [
    "# Semi-Lagrangian method\n",
    "\n",
    "Let us consider an abstract scalar advection equation of the form\n",
    "\n",
    "$$\n",
    "\\frac{\\partial f}{\\partial t}+ a(x, t) \\cdot \\nabla f = 0. \n",
    "$$\n",
    "\n",
    "The characteristic curves associated to this equation are the solutions of the ordinary differential equations\n",
    "\n",
    "$$\n",
    "\\frac{dX}{dt} = a(X(t), t)\n",
    "$$\n",
    "\n",
    "We shall denote by $X(t, x, s)$ the unique solution of this equation associated to the initial condition $X(s) = x$.\n",
    "\n",
    "The classical semi-Lagrangian method is based on a backtracking of characteristics. Two steps are needed to update the distribution function $f^{n+1}$ at $t^{n+1}$ from its value $f^n$ at time $t^n$ :\n",
    "1. For each grid point $x_i$ compute $X(t^n; x_i, t^{n+1})$ the value of the characteristic at $t^n$ which takes the value $x_i$ at $t^{n+1}$.\n",
    "2. As the distribution solution of first equation verifies \n",
    "\n",
    "$$f^{n+1}(x_i) = f^n(X(t^n; x_i, t^{n+1})),$$\n",
    "\n",
    "we obtain the desired value of $f^{n+1}(x_i)$ by computing $f^n(X(t^n;x_i,t^{n+1})$ by interpolation as $X(t^n; x_i, t^{n+1})$ is in general not a grid point.\n",
    "\n",
    "*[Eric Sonnendrücker - Numerical methods for the Vlasov equations](http://www-m16.ma.tum.de/foswiki/pub/M16/Allgemeines/NumMethVlasov/Num-Meth-Vlasov-Notes.pdf)*"
   ]
  },
  {
   "cell_type": "code",
   "execution_count": null,
   "metadata": {
    "slideshow": {
     "slide_type": "slide"
    }
   },
   "outputs": [],
   "source": [
    "%matplotlib inline\n",
    "%config InlineBackend.figure_format = 'retina'\n",
    "import matplotlib.pyplot as plt\n",
    "plt.rcParams['figure.figsize'] = (10.0, 6.0)"
   ]
  },
  {
   "cell_type": "code",
   "execution_count": null,
   "metadata": {
    "slideshow": {
     "slide_type": "fragment"
    }
   },
   "outputs": [],
   "source": [
    "# Disable the pager for lprun\n",
    "from IPython.core import page\n",
    "page.page = print"
   ]
  },
  {
   "cell_type": "markdown",
   "metadata": {
    "slideshow": {
     "slide_type": "slide"
    }
   },
   "source": [
    "## Bspline interpolator\n",
    "\n",
    "- [De Boor's Algorithm - Wikipedia](https://en.wikipedia.org/wiki/De_Boor%27s_algorithm)\n",
    "\n",
    "### Numpy"
   ]
  },
  {
   "cell_type": "code",
   "execution_count": null,
   "metadata": {
    "slideshow": {
     "slide_type": "slide"
    }
   },
   "outputs": [],
   "source": [
    "def bspline_python(p, j, x):\n",
    "        \"\"\"Return the value at x in [0,1[ of the B-spline with \n",
    "        integer nodes of degree p with support starting at j.\n",
    "        Implemented recursively using the de Boor's recursion formula\"\"\"\n",
    "        assert (x >= 0.0) & (x <= 1.0)\n",
    "        assert (type(p) == int) & (type(j) == int)\n",
    "        if p == 0:\n",
    "            if j == 0:\n",
    "                return 1.0\n",
    "            else:\n",
    "                return 0.0\n",
    "        else:\n",
    "            w = (x - j) / p\n",
    "            w1 = (x - j - 1) / p\n",
    "        return w * bspline_python(p - 1, j, x) + (1 - w1) * bspline_python(p - 1, j + 1, x)"
   ]
  },
  {
   "cell_type": "code",
   "execution_count": null,
   "metadata": {
    "slideshow": {
     "slide_type": "slide"
    }
   },
   "outputs": [],
   "source": [
    "import numpy as np\n",
    "from scipy.fftpack import fft, ifft \n",
    "\n",
    "class BSplineNumpy:\n",
    "    \n",
    "    \"\"\" Class to compute BSL advection of 1d function \"\"\"\n",
    "    \n",
    "    def __init__(self, p, xmin, xmax, ncells):\n",
    "        assert p & 1 == 1  # check that p is odd\n",
    "        self.p = p\n",
    "        self.ncells = ncells\n",
    "        # compute eigenvalues of degree p b-spline matrix\n",
    "        self.modes = 2 * np.pi * np.arange(ncells) / ncells\n",
    "        self.deltax = (xmax - xmin) / ncells\n",
    "        \n",
    "        self.eig_bspl = bspline_python(p, -(p + 1) // 2, 0.0)\n",
    "        for j in range(1, (p + 1) // 2):\n",
    "            self.eig_bspl += bspline_python(p, j - (p + 1) // 2, 0.0) * 2 * np.cos(j * self.modes)\n",
    "            \n",
    "        self.eigalpha = np.zeros(ncells, dtype=complex)\n",
    "    \n",
    "    def interpolate_disp(self, f, alpha):\n",
    "        \"\"\"compute the interpolating spline of degree p of odd degree \n",
    "        of a function f on a periodic uniform mesh, at\n",
    "        all points xi-alpha\"\"\"\n",
    "        p = self.p\n",
    "        assert (np.size(f) == self.ncells)\n",
    "        # compute eigenvalues of cubic splines evaluated at displaced points\n",
    "        ishift = np.floor(-alpha / self.deltax)\n",
    "        beta = -ishift - alpha / self.deltax\n",
    "        self.eigalpha.fill(0.)\n",
    "        for j in range(-(p-1)//2, (p+1)//2 + 1):\n",
    "            self.eigalpha += bspline_python(p, j-(p+1)//2, beta) * np.exp((ishift+j)*1j*self.modes)\n",
    "            \n",
    "        # compute interpolating spline using fft and properties of circulant matrices\n",
    "        return np.real(ifft(fft(f) * self.eigalpha / self.eig_bspl))"
   ]
  },
  {
   "cell_type": "markdown",
   "metadata": {
    "slideshow": {
     "slide_type": "slide"
    }
   },
   "source": [
    "### Interpolation test\n",
    "$\\sin$ function after a displacement of alpha"
   ]
  },
  {
   "cell_type": "code",
   "execution_count": null,
   "metadata": {
    "slideshow": {
     "slide_type": "fragment"
    }
   },
   "outputs": [],
   "source": [
    "def interpolation_test(BSplineClass):\n",
    "    \"\"\" Test to check interpolation\"\"\"\n",
    "    n = 64\n",
    "    cs = BSplineClass(3,0,1,n)\n",
    "    x = np.linspace(0,1,n, endpoint=False)\n",
    "    f = np.sin(x*4*np.pi)\n",
    "    alpha = 0.2\n",
    "    return np.allclose(np.sin((x-alpha)*4*np.pi), cs.interpolate_disp(f, alpha))\n",
    "    \n",
    "\n",
    "interpolation_test(BSplineNumpy)"
   ]
  },
  {
   "cell_type": "markdown",
   "metadata": {
    "slideshow": {
     "slide_type": "slide"
    }
   },
   "source": [
    "### Profiling the code"
   ]
  },
  {
   "cell_type": "code",
   "execution_count": null,
   "metadata": {
    "slideshow": {
     "slide_type": "fragment"
    }
   },
   "outputs": [],
   "source": [
    "%load_ext line_profiler"
   ]
  },
  {
   "cell_type": "code",
   "execution_count": null,
   "metadata": {
    "slideshow": {
     "slide_type": "fragment"
    }
   },
   "outputs": [],
   "source": [
    "n =1024\n",
    "cs = BSplineNumpy(3,0,1,n)\n",
    "x = np.linspace(0,1,n, endpoint=False)\n",
    "f = np.sin(x*4*np.pi)\n",
    "alpha = 0.2;"
   ]
  },
  {
   "cell_type": "code",
   "execution_count": null,
   "metadata": {
    "slideshow": {
     "slide_type": "slide"
    }
   },
   "outputs": [],
   "source": [
    "%lprun -s -f cs.interpolate_disp -T lp_results.txt cs.interpolate_disp(f, alpha);"
   ]
  },
  {
   "cell_type": "markdown",
   "metadata": {
    "slideshow": {
     "slide_type": "slide"
    }
   },
   "source": [
    "### Fortran\n",
    "\n",
    "Replace the bspline computation by a fortran function, call it **bspline_fortran**."
   ]
  },
  {
   "cell_type": "code",
   "execution_count": null,
   "metadata": {
    "slideshow": {
     "slide_type": "fragment"
    }
   },
   "outputs": [],
   "source": [
    "%load_ext fortranmagic"
   ]
  },
  {
   "cell_type": "code",
   "execution_count": null,
   "metadata": {
    "slideshow": {
     "slide_type": "skip"
    }
   },
   "outputs": [],
   "source": [
    "%%fortran\n",
    "recursive function bspline_fortran(p, j, x) result(res)\n",
    "    integer :: p, j\n",
    "    real(8) :: x, w, w1\n",
    "    real(8) :: res\n",
    "\n",
    "    if (p == 0) then\n",
    "        if (j == 0) then\n",
    "            res = 1.0\n",
    "            return\n",
    "        else\n",
    "            res = 0.0\n",
    "            return\n",
    "        end if\n",
    "    else\n",
    "        w = (x - j) / p\n",
    "        w1 = (x - j - 1) / p\n",
    "    end if\n",
    "    \n",
    "    res = w * bspline_fortran(p-1,j,x) &\n",
    "    +(1-w1)*bspline_fortran(p-1,j+1,x)\n",
    "\n",
    "end function bspline_fortran"
   ]
  },
  {
   "cell_type": "code",
   "execution_count": null,
   "metadata": {
    "slideshow": {
     "slide_type": "slide"
    }
   },
   "outputs": [],
   "source": [
    "import numpy as np\n",
    "from scipy.fftpack import fft, ifft\n",
    "\n",
    "class BSplineFortran:\n",
    "    \n",
    "    def __init__(self, p, xmin, xmax, ncells):\n",
    "        assert p & 1 == 1  # check that p is odd\n",
    "        self.p = p\n",
    "        self.ncells = ncells\n",
    "        # compute eigenvalues of degree p b-spline matrix\n",
    "        self.modes = 2 * np.pi * np.arange(ncells) / ncells\n",
    "        self.deltax = (xmax - xmin) / ncells\n",
    "        \n",
    "        self.eig_bspl = bspline_fortran(p, -(p+1)//2, 0.0)\n",
    "        for j in range(1, (p+1)//2):\n",
    "            self.eig_bspl += bspline_fortran(p, j-(p+1)//2,0.0)*2*np.cos(j*self.modes)\n",
    "            \n",
    "        self.eigalpha = np.zeros(ncells, dtype=complex)\n",
    "    \n",
    "    def interpolate_disp(self, f, alpha):\n",
    "        \"\"\"compute the interpolating spline of degree p of odd degree \n",
    "        of a function f on a periodic uniform mesh, at\n",
    "        all points xi-alpha\"\"\"\n",
    "        p = self.p\n",
    "        assert (np.size(f) == self.ncells)\n",
    "        # compute eigenvalues of cubic splines evaluated at displaced points\n",
    "        ishift = np.floor(-alpha / self.deltax)\n",
    "        beta = -ishift - alpha / self.deltax\n",
    "        self.eigalpha.fill(0.)\n",
    "        for j in range(-(p-1)//2, (p+1)//2 + 1):\n",
    "            self.eigalpha += bspline_fortran(p, j-(p+1)//2, beta) * np.exp((ishift+j)*1j*self.modes)\n",
    "            \n",
    "        # compute interpolating spline using fft and properties of circulant matrices\n",
    "        return np.real(ifft(fft(f) * self.eigalpha / self.eig_bspl))\n"
   ]
  },
  {
   "cell_type": "code",
   "execution_count": null,
   "metadata": {
    "slideshow": {
     "slide_type": "slide"
    }
   },
   "outputs": [],
   "source": [
    "interpolation_test(BSplineFortran)"
   ]
  },
  {
   "cell_type": "markdown",
   "metadata": {
    "slideshow": {
     "slide_type": "slide"
    }
   },
   "source": [
    "### Numba\n",
    "\n",
    "Create a optimized function of bspline python function with Numba. Call it bspline_numba."
   ]
  },
  {
   "cell_type": "code",
   "execution_count": null,
   "metadata": {
    "slideshow": {
     "slide_type": "skip"
    }
   },
   "outputs": [],
   "source": [
    "# %load solutions/landau_damping/bspline_numba.py\n",
    "from numba import jit,  int32, float64\n",
    "from scipy.fftpack import fft, ifft\n",
    "\n",
    "@jit(\"float64(int32,int32,float64)\",nopython=True)\n",
    "def bspline_numba(p, j, x):\n",
    "    \n",
    "        \"\"\"Return the value at x in [0,1[ of the B-spline with \n",
    "        integer nodes of degree p with support starting at j.\n",
    "        Implemented recursively using the de Boor's recursion formula\"\"\"\n",
    "        \n",
    "        assert ((x >= 0.0) & (x <= 1.0))\n",
    "        if p == 0:\n",
    "            if j == 0:\n",
    "                return 1.0\n",
    "            else:\n",
    "                return 0.0\n",
    "        else:\n",
    "            w = (x-j)/p\n",
    "            w1 = (x-j-1)/p\n",
    "        return w * bspline_numba(p-1,j,x)+(1-w1)*bspline_numba(p-1,j+1,x)"
   ]
  },
  {
   "cell_type": "code",
   "execution_count": null,
   "metadata": {},
   "outputs": [],
   "source": [
    "class BSplineNumba:\n",
    "    \n",
    "    def __init__(self, p, xmin, xmax, ncells):\n",
    "        assert p & 1 == 1  # check that p is odd\n",
    "        self.p = p\n",
    "        self.ncells = ncells\n",
    "        # compute eigenvalues of degree p b-spline matrix\n",
    "        self.modes = 2 * np.pi * np.arange(ncells) / ncells\n",
    "        self.deltax = (xmax - xmin) / ncells\n",
    "        \n",
    "        self.eig_bspl = bspline_numba(p, -(p+1)//2, 0.0)\n",
    "        for j in range(1, (p + 1) // 2):\n",
    "            self.eig_bspl += bspline_numba(p,j-(p+1)//2,0.0)*2*np.cos(j*self.modes)\n",
    "            \n",
    "        self.eigalpha = np.zeros(ncells, dtype=complex)\n",
    "        \n",
    "    def interpolate_disp(self, f, alpha):\n",
    "        \"\"\"compute the interpolating spline of degree p of odd degree \n",
    "        of a function f on a periodic uniform mesh, at\n",
    "        all points xi-alpha\"\"\"\n",
    "        \n",
    "        p = self.p\n",
    "        assert (np.size(f) == self.ncells)\n",
    "        # compute eigenvalues of cubic splines evaluated at displaced points\n",
    "        ishift = np.floor(-alpha / self.deltax)\n",
    "        beta = -ishift - alpha / self.deltax\n",
    "        self.eigalpha.fill(0.)\n",
    "        for j in range(-(p-1)//2, (p+1)//2+1):\n",
    "            self.eigalpha += bspline_numba(p, j-(p+1)//2, beta)*np.exp((ishift+j)*1j*self.modes)\n",
    "            \n",
    "        # compute interpolating spline using fft and properties of circulant matrices\n",
    "        return np.real(ifft(fft(f) * self.eigalpha / self.eig_bspl))"
   ]
  },
  {
   "cell_type": "code",
   "execution_count": null,
   "metadata": {},
   "outputs": [],
   "source": [
    "interpolation_test(BSplineNumba)"
   ]
  },
  {
   "cell_type": "markdown",
   "metadata": {
    "slideshow": {
     "slide_type": "slide"
    }
   },
   "source": [
    "### Pythran"
   ]
  },
  {
   "cell_type": "code",
   "execution_count": null,
   "metadata": {
    "slideshow": {
     "slide_type": "fragment"
    }
   },
   "outputs": [],
   "source": [
    "import pythran"
   ]
  },
  {
   "cell_type": "code",
   "execution_count": null,
   "metadata": {
    "slideshow": {
     "slide_type": "fragment"
    }
   },
   "outputs": [],
   "source": [
    "%load_ext pythran.magic"
   ]
  },
  {
   "cell_type": "code",
   "execution_count": null,
   "metadata": {
    "slideshow": {
     "slide_type": "fragment"
    }
   },
   "outputs": [],
   "source": [
    "# %load solutions/landau_damping/bspline_pythran.py\n",
    "\n",
    "#pythran export bspline_pythran(int,int,float64)\n",
    "def bspline_pythran(p, j, x):\n",
    "    if p == 0:\n",
    "        if j == 0:\n",
    "            return 1.0\n",
    "        else:\n",
    "            return 0.0\n",
    "    else:\n",
    "        w = (x-j)/p\n",
    "        w1 = (x-j-1)/p\n",
    "    return w * bspline_pythran(p-1,j,x)+(1-w1)*bspline_pythran(p-1,j+1,x)"
   ]
  },
  {
   "cell_type": "code",
   "execution_count": null,
   "metadata": {
    "slideshow": {
     "slide_type": "slide"
    }
   },
   "outputs": [],
   "source": [
    "class BSplinePythran:\n",
    "    \n",
    "    def __init__(self, p, xmin, xmax, ncells):\n",
    "        assert p & 1 == 1  # check that p is odd\n",
    "        self.p = p\n",
    "        self.ncells = ncells\n",
    "        # compute eigenvalues of degree p b-spline matrix\n",
    "        self.modes = 2 * np.pi * np.arange(ncells) / ncells\n",
    "        self.deltax = (xmax - xmin) / ncells\n",
    "        \n",
    "        self.eig_bspl = bspline_pythran(p, -(p+1)//2, 0.0)\n",
    "        for j in range(1, (p + 1) // 2):\n",
    "            self.eig_bspl += bspline_pythran(p,j-(p+1)//2,0.0)*2*np.cos(j*self.modes)\n",
    "            \n",
    "        self.eigalpha = np.zeros(ncells, dtype=complex)\n",
    "        \n",
    "    def interpolate_disp(self, f, alpha):\n",
    "        \"\"\"compute the interpolating spline of degree p of odd degree \n",
    "        of a function f on a periodic uniform mesh, at\n",
    "        all points xi-alpha\"\"\"\n",
    "        \n",
    "        p = self.p\n",
    "        assert (f.size == self.ncells)\n",
    "        # compute eigenvalues of cubic splines evaluated at displaced points\n",
    "        ishift = np.floor(-alpha / self.deltax)\n",
    "        beta = -ishift - alpha / self.deltax\n",
    "        self.eigalpha.fill(0.)\n",
    "        for j in range(-(p-1)//2, (p+1)//2+1):\n",
    "            self.eigalpha += bspline_pythran(p, j-(p+1)//2, beta)*np.exp((ishift+j)*1j*self.modes)\n",
    "            \n",
    "        # compute interpolating spline using fft and properties of circulant matrices\n",
    "        return np.real(ifft(fft(f) * self.eigalpha / self.eig_bspl))\n"
   ]
  },
  {
   "cell_type": "code",
   "execution_count": null,
   "metadata": {
    "slideshow": {
     "slide_type": "slide"
    }
   },
   "outputs": [],
   "source": [
    "interpolation_test(BSplinePythran)"
   ]
  },
  {
   "cell_type": "markdown",
   "metadata": {
    "slideshow": {
     "slide_type": "slide"
    }
   },
   "source": [
    "### Cython\n",
    "\n",
    "- Create **bspline_cython** function."
   ]
  },
  {
   "cell_type": "code",
   "execution_count": null,
   "metadata": {
    "slideshow": {
     "slide_type": "fragment"
    }
   },
   "outputs": [],
   "source": [
    "%load_ext cython"
   ]
  },
  {
   "cell_type": "code",
   "execution_count": null,
   "metadata": {
    "slideshow": {
     "slide_type": "slide"
    }
   },
   "outputs": [],
   "source": [
    "%%cython -a\n",
    "def bspline_cython(p, j, x):\n",
    "        \"\"\"Return the value at x in [0,1[ of the B-spline with \n",
    "        integer nodes of degree p with support starting at j.\n",
    "        Implemented recursively using the de Boor's recursion formula\"\"\"\n",
    "        assert (x >= 0.0) & (x <= 1.0)\n",
    "        assert (type(p) == int) & (type(j) == int)\n",
    "        if p == 0:\n",
    "            if j == 0:\n",
    "                return 1.0\n",
    "            else:\n",
    "                return 0.0\n",
    "        else:\n",
    "            w = (x - j) / p\n",
    "            w1 = (x - j - 1) / p\n",
    "        return w * bspline_cython(p - 1, j, x) + (1 - w1) * bspline_cython(p - 1, j + 1, x)\n"
   ]
  },
  {
   "cell_type": "code",
   "execution_count": null,
   "metadata": {
    "slideshow": {
     "slide_type": "skip"
    }
   },
   "outputs": [],
   "source": [
    "%%cython\n",
    "import cython\n",
    "import numpy as np\n",
    "cimport numpy as np\n",
    "from scipy.fftpack import fft, ifft\n",
    "\n",
    "@cython.cdivision(True)\n",
    "cdef double bspline_cython(int p, int j, double x):\n",
    "        \"\"\"Return the value at x in [0,1[ of the B-spline with \n",
    "        integer nodes of degree p with support starting at j.\n",
    "        Implemented recursively using the de Boor's recursion formula\"\"\"\n",
    "        cdef double w, w1\n",
    "        if p == 0:\n",
    "            if j == 0:\n",
    "                return 1.0\n",
    "            else:\n",
    "                return 0.0\n",
    "        else:\n",
    "            w = (x - j) / p\n",
    "            w1 = (x - j - 1) / p\n",
    "        return w * bspline_cython(p-1,j,x)+(1-w1)*bspline_cython(p-1,j+1,x)\n",
    "\n",
    "class BSplineCython:\n",
    "    \n",
    "    def __init__(self, p, xmin, xmax, ncells):\n",
    "        self.p = p\n",
    "        self.ncells = ncells\n",
    "        # compute eigenvalues of degree p b-spline matrix\n",
    "        self.modes = 2 * np.pi * np.arange(ncells) / ncells\n",
    "        self.deltax = (xmax - xmin) / ncells\n",
    "        \n",
    "        self.eig_bspl = bspline_cython(p,-(p+1)//2, 0.0)\n",
    "        for j in range(1, (p + 1) // 2):\n",
    "            self.eig_bspl += bspline_cython(p,j-(p+1)//2,0.0)*2*np.cos(j*self.modes)\n",
    "            \n",
    "        self.eigalpha = np.zeros(ncells, dtype=complex)\n",
    "    \n",
    "    @cython.boundscheck(False)\n",
    "    @cython.wraparound(False)\n",
    "    def interpolate_disp(self,  f,  alpha):\n",
    "        \"\"\"compute the interpolating spline of degree p of odd degree \n",
    "        of a function f on a periodic uniform mesh, at\n",
    "        all points xi-alpha\"\"\"\n",
    "        cdef Py_ssize_t j\n",
    "        cdef int p = self.p\n",
    "        # compute eigenvalues of cubic splines evaluated at displaced points\n",
    "        cdef int ishift = np.floor(-alpha / self.deltax)\n",
    "        cdef double beta = -ishift - alpha / self.deltax\n",
    "        self.eigalpha.fill(0)\n",
    "        for j in range(-(p-1)//2, (p+1)//2+1):\n",
    "            self.eigalpha += bspline_cython(p,j-(p+1)//2,beta)*np.exp((ishift+j)*1j*self.modes)\n",
    "            \n",
    "        # compute interpolating spline using fft and properties of circulant matrices\n",
    "        return np.real(ifft(fft(f) * self.eigalpha / self.eig_bspl))\n"
   ]
  },
  {
   "cell_type": "code",
   "execution_count": null,
   "metadata": {
    "slideshow": {
     "slide_type": "slide"
    }
   },
   "outputs": [],
   "source": [
    "interpolation_test(BSplineCython)"
   ]
  },
  {
   "cell_type": "code",
   "execution_count": null,
   "metadata": {
    "slideshow": {
     "slide_type": "slide"
    }
   },
   "outputs": [],
   "source": [
    "import seaborn; seaborn.set()\n",
    "from tqdm.notebook import tqdm\n",
    "Mrange = (2 ** np.arange(5, 10)).astype(int)\n",
    "\n",
    "t_numpy = []\n",
    "t_fortran = []\n",
    "t_numba = []\n",
    "t_pythran = []\n",
    "t_cython = []\n",
    "\n",
    "for M in tqdm(Mrange):\n",
    "    x = np.linspace(0,1,M, endpoint=False)\n",
    "    f = np.sin(x*4*np.pi)\n",
    "    cs1 = BSplineNumpy(5,0,1,M)\n",
    "    cs2 = BSplineFortran(5,0,1,M)\n",
    "    cs3 = BSplineNumba(5,0,1,M)\n",
    "    cs4 = BSplinePythran(5,0,1,M)\n",
    "    cs5 = BSplineCython(5,0,1,M)\n",
    "    \n",
    "    alpha = 0.1\n",
    "    t1 = %timeit -oq cs1.interpolate_disp(f, alpha)\n",
    "    t2 = %timeit -oq cs2.interpolate_disp(f, alpha)\n",
    "    t3 = %timeit -oq cs3.interpolate_disp(f, alpha)\n",
    "    t4 = %timeit -oq cs4.interpolate_disp(f, alpha)\n",
    "    t5 = %timeit -oq cs5.interpolate_disp(f, alpha)\n",
    "    \n",
    "    t_numpy.append(t1.best)\n",
    "    t_fortran.append(t2.best)\n",
    "    t_numba.append(t3.best)\n",
    "    t_pythran.append(t4.best)\n",
    "    t_cython.append(t5.best)\n",
    "\n",
    "plt.loglog(Mrange, t_numpy, label='numpy')\n",
    "plt.loglog(Mrange, t_fortran, label='fortran')\n",
    "plt.loglog(Mrange, t_numba, label='numba')\n",
    "plt.loglog(Mrange, t_pythran, label='pythran')\n",
    "plt.loglog(Mrange, t_cython, label='cython')\n",
    "plt.legend(loc='lower right')\n",
    "plt.xlabel('Number of points')\n",
    "plt.ylabel('Execution Time (s)');"
   ]
  },
  {
   "cell_type": "markdown",
   "metadata": {
    "slideshow": {
     "slide_type": "slide"
    }
   },
   "source": [
    "## Vlasov-Poisson equation\n",
    "We consider the dimensionless Vlasov-Poisson equation for one species\n",
    "with a neutralizing background.\n",
    "\n",
    "$$ \n",
    "\\frac{\\partial f}{\\partial t}+ v\\cdot \\nabla_x f + E(t,x) \\cdot \\nabla_v f = 0, \\\\\n",
    "- \\Delta \\phi = 1 - \\rho, E = - \\nabla \\phi \\\\\n",
    "\\rho(t,x)  =  \\int f(t,x,v)dv.\n",
    "$$\n",
    "\n",
    "- [Vlasov Equation - Wikipedia](https://en.wikipedia.org/wiki/Vlasov_equation)"
   ]
  },
  {
   "cell_type": "code",
   "execution_count": null,
   "metadata": {
    "slideshow": {
     "slide_type": "slide"
    }
   },
   "outputs": [],
   "source": [
    "BSpline = dict(numpy=BSplineNumpy,\n",
    "               fortran=BSplineFortran,\n",
    "               cython=BSplineCython,\n",
    "               numba=BSplineNumba,\n",
    "               pythran=BSplinePythran)\n",
    "\n",
    "class VlasovPoisson:\n",
    "    \n",
    "    def __init__(self, xmin, xmax, nx, vmin, vmax, nv, opt='numpy'):\n",
    "        \n",
    "        # Grid\n",
    "        self.nx = nx\n",
    "        self.x, self.dx = np.linspace(xmin, xmax, nx, endpoint=False, retstep=True)\n",
    "        self.nv = nv\n",
    "        self.v, self.dv = np.linspace(vmin, vmax, nv, endpoint=False, retstep=True)\n",
    "        \n",
    "        # Distribution function\n",
    "        self.f = np.zeros((nx,nv)) \n",
    "        \n",
    "        # Interpolators for advection\n",
    "        BSplineClass = BSpline[opt]\n",
    "        self.cs_x = BSplineClass(3, xmin, xmax, nx)\n",
    "        self.cs_v = BSplineClass(3, vmin, vmax, nv)\n",
    "        \n",
    "        # Modes for Poisson equation\n",
    "        self.modes = np.zeros(nx)\n",
    "        k =  2* np.pi / (xmax - xmin)\n",
    "        self.modes[:nx//2] = k * np.arange(nx//2)\n",
    "        self.modes[nx//2:] = - k * np.arange(nx//2,0,-1)\n",
    "        self.modes += self.modes == 0 # avoid division by zero \n",
    "        \n",
    "    def advection_x(self, dt):\n",
    "        for j in range(self.nv):\n",
    "            alpha = dt * self.v[j]\n",
    "            self.f[j,:] = self.cs_x.interpolate_disp(self.f[j,:], alpha)\n",
    "            \n",
    "    def advection_v(self, e, dt):\n",
    "        for i in range(self.nx):\n",
    "            alpha = dt * e[i] \n",
    "            self.f[:,i] = self.cs_v.interpolate_disp(self.f[:,i], alpha)\n",
    "            \n",
    "    def compute_rho(self):\n",
    "        rho = self.dv * np.sum(self.f, axis=0)\n",
    "        return  rho - rho.mean()\n",
    "            \n",
    "    def compute_e(self, rho):\n",
    "        # compute Ex using that ik*Ex = rho\n",
    "        rhok = fft(rho)/self.modes\n",
    "        return np.real(ifft(-1j*rhok))\n",
    "    \n",
    "    def run(self, f, nstep, dt):\n",
    "        self.f = f\n",
    "        nrj = []\n",
    "        self.advection_x(0.5*dt)\n",
    "        for istep in tqdm(range(nstep)):\n",
    "            rho = self.compute_rho()\n",
    "            e = self.compute_e(rho)\n",
    "            self.advection_v(e, dt)\n",
    "            self.advection_x(dt)\n",
    "            nrj.append( 0.5*np.log(np.sum(e*e)*self.dx))\n",
    "                \n",
    "        return nrj"
   ]
  },
  {
   "cell_type": "markdown",
   "metadata": {
    "slideshow": {
     "slide_type": "slide"
    }
   },
   "source": [
    "## Landau Damping\n",
    "\n",
    "[Landau damping - Wikipedia](https://en.wikipedia.org/wiki/Landau_damping)"
   ]
  },
  {
   "cell_type": "code",
   "execution_count": null,
   "metadata": {
    "slideshow": {
     "slide_type": "slide"
    }
   },
   "outputs": [],
   "source": [
    "from time import time\n",
    "\n",
    "elapsed_time = {}\n",
    "fig, axes = plt.subplots()\n",
    "for opt in ('numpy', 'fortran', 'numba', 'cython','pythran'):\n",
    "    \n",
    "    # Set grid\n",
    "    nx, nv = 32, 64\n",
    "    xmin, xmax = 0.0, 4*np.pi\n",
    "    vmin, vmax = -6., 6.\n",
    "    \n",
    "    # Create Vlasov-Poisson simulation\n",
    "    sim = VlasovPoisson(xmin, xmax, nx, vmin, vmax, nv, opt=opt)\n",
    "\n",
    "    # Initialize distribution function\n",
    "    X, V = np.meshgrid(sim.x, sim.v)\n",
    "    eps, kx = 0.001, 0.5\n",
    "    f = (1.0+eps*np.cos(kx*X))/np.sqrt(2.0*np.pi)* np.exp(-0.5*V*V)\n",
    "\n",
    "    # Set time domain\n",
    "    nstep = 600\n",
    "    t, dt = np.linspace(0.0, 60.0, nstep, retstep=True)\n",
    "    \n",
    "    # Run simulation\n",
    "    etime = time()\n",
    "    nrj = sim.run(f, nstep, dt)\n",
    "    print(\" {0:12s} : {1:.4f} \".format(opt, time()-etime))\n",
    "    \n",
    "    # Plot energy\n",
    "    axes.plot(t, nrj, label=opt)\n",
    "\n",
    "    \n",
    "axes.plot(t, -0.1533*t-5.50)\n",
    "plt.legend();"
   ]
  },
  {
   "cell_type": "markdown",
   "metadata": {
    "slideshow": {
     "slide_type": "skip"
    }
   },
   "source": [
    "## References\n",
    "- [Optimizing Python with NumPy and Numba](https://jakevdp.github.io/blog/2015/02/24/optimizing-python-with-numpy-and-numba/)\n"
   ]
  }
 ],
 "metadata": {
  "kernelspec": {
   "display_name": "Python 3",
   "language": "python",
   "name": "python3"
  },
  "language_info": {
   "codemirror_mode": {
    "name": "ipython",
    "version": 3
   },
   "file_extension": ".py",
   "mimetype": "text/x-python",
   "name": "python",
   "nbconvert_exporter": "python",
   "pygments_lexer": "ipython3",
   "version": "3.8.5"
  }
 },
 "nbformat": 4,
 "nbformat_minor": 4
}
