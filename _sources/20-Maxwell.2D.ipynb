{
 "cells": [
  {
   "cell_type": "markdown",
   "metadata": {
    "slideshow": {
     "slide_type": "slide"
    }
   },
   "source": [
    "# Maxwell solver in two dimensions with FDTD scheme\n",
    "\n",
    "$$\n",
    "\\frac{\\partial H_z}{\\partial t} = \\frac{\\partial E_x}{\\partial y} - \\frac{\\partial E_y}{\\partial x}\n",
    ";\\qquad\n",
    "\\frac{\\partial E_x}{\\partial t} = \\frac{\\partial H_z}{\\partial y}\n",
    ";\\qquad\n",
    "\\frac{\\partial E_y}{\\partial t} = - \\frac{\\partial H_z}{\\partial x} \n",
    "$$\n",
    "![fdtd](images/fdtd.png)\n",
    "$$\n",
    "H_z \\big|^{n+1/2}_{i+1/2,j+1/2} = H_z \\big|^{n-1/2}_{i+1/2,j+1/2} + \n",
    "\\frac{dt}{dy} \\big(E_x \\big|^{n}_{i+1/2,j+1} - E_x \\big|^{n}_{i+1/2,j} \\big)\n",
    "- \\frac{dt}{dx} \\big( E_y \\big|^{n}_{i+1,j+1/2} - E_y \\big|^{n}_{i,j+1/2} \\big)\n",
    "$$\n",
    "\n",
    "$$\n",
    "E_x \\big|^{n+1}_{i+1/2,j} = E_x \\big|^{n}_{i+1/2,j} + \\frac{dt}{dy} \\big( H_z \\big|^{n+1/2}_{i+1/2,j+1/2} - H_z \\big|^{n+1/2}_{i-1/2, j-1/2} \\big)\n",
    "$$\n",
    "\n",
    "$$\n",
    "E_y \\big|^{n+1}_{i,j+1/2} = E_y \\big|^{n}_{i,j+1/2} - \\frac{dt}{dx} \\big( H_z \\big|^{n+1/2}_{i+1/2,j+1/2} - H_z \\big|^{n+1/2}_{i-1/2, j+1/2} \\big)\n",
    "$$\n",
    "\n",
    "[Description of the scheme](https://en.wikipedia.org/wiki/Finite-difference_time-domain_method)"
   ]
  },
  {
   "cell_type": "code",
   "execution_count": null,
   "metadata": {
    "slideshow": {
     "slide_type": "slide"
    }
   },
   "outputs": [],
   "source": [
    "%matplotlib inline\n",
    "%config InlineBackend.figure_format = 'retina'\n",
    "\n",
    "import matplotlib.pyplot as plt\n",
    "import numpy as np\n",
    "from mpl_toolkits.mplot3d import axes3d\n",
    "import matplotlib.animation as animation\n",
    "from IPython.display import HTML\n",
    "\n",
    "plt.rcParams['figure.figsize'] = (10,6)"
   ]
  },
  {
   "cell_type": "code",
   "execution_count": null,
   "metadata": {
    "slideshow": {
     "slide_type": "slide"
    }
   },
   "outputs": [],
   "source": [
    "# Mesh parameters\n",
    "nx, ny = 101, 101\n",
    "vx, dx = np.linspace(0, 1, nx, endpoint=True, retstep=True)\n",
    "vy, dy = np.linspace(0, 1, ny, endpoint=True, retstep=True)\n",
    "\n",
    "#Initialize Ex, Ey when time = 0\n",
    "ex = np.zeros((nx-1, ny), dtype=np.double)  \n",
    "ey = np.zeros((nx, ny-1), dtype=np.double) \n",
    "nbiter = 500   # time loop size\n",
    "dt = 0.001     # time step\n",
    "m, n = 2, 2\n",
    "omega = np.sqrt((m*np.pi)**2+(n*np.pi)**2)\n",
    "# Create the staggered grid for Bz\n",
    "x, y = np.meshgrid(0.5*(vx[:-1]+vx[1:]), 0.5*(vy[:-1]+vy[1:]))"
   ]
  },
  {
   "cell_type": "code",
   "execution_count": null,
   "metadata": {
    "slideshow": {
     "slide_type": "slide"
    }
   },
   "outputs": [],
   "source": [
    "fig = plt.figure()\n",
    "ax = axes3d.Axes3D(fig)\n",
    "\n",
    "#Initialize Bz when time = - dt / 2\n",
    "hz = - np.cos(m*np.pi*y) * np.cos(n*np.pi*x) * np.cos(omega*(-0.5*dt))\n",
    "wframe = ax.plot_wireframe(x, y, hz, rstride=2, cstride=2)\n",
    "ax.set_zlim(-1,1);"
   ]
  },
  {
   "cell_type": "markdown",
   "metadata": {
    "slideshow": {
     "slide_type": "slide"
    }
   },
   "source": [
    "## numpy"
   ]
  },
  {
   "cell_type": "code",
   "execution_count": null,
   "metadata": {
    "slideshow": {
     "slide_type": "fragment"
    }
   },
   "outputs": [],
   "source": [
    "def faraday( ex, ey, hz ) : \n",
    "    \"faraday equation Bz(t+dt/2) -> Bz(t-dt/2) + dt f(E(t))\"\n",
    "    return hz + dt * ((ex[:, 1:]-ex[:, :-1]) / dy - (ey[1:, :]-ey[:-1, :]) / dx)\n",
    "\n",
    "def ampere_maxwell( hz, ex, ey):\n",
    "    \" Ampere-Maxwell equation E(t+dt) -> E(t) + dt g(Bz(t+dt/2)) \"\n",
    "    ex[:, 1:-1] += dt*(hz[:, 1:]-hz[:, :-1]) / dy\n",
    "    ey[1:-1, :] += - dt*(hz[1:, :]-hz[:-1, :]) / dx\n",
    "\n",
    "    # periodic boundary conditions\n",
    "    ex[:, 0] += dt*(hz[:, 0]-hz[:, -1]) / dy\n",
    "    ex[:, -1] = ex[:, 0]\n",
    "    ey[0, :] += - dt*(hz[0, :]-hz[-1, :]) / dx\n",
    "    ey[-1, :] = ey[0, :]\n",
    "    \n",
    "    return ex, ey"
   ]
  },
  {
   "cell_type": "code",
   "execution_count": null,
   "metadata": {
    "slideshow": {
     "slide_type": "slide"
    }
   },
   "outputs": [],
   "source": [
    "def update(i, ax, fig):\n",
    "    ax.cla()\n",
    "\n",
    "    global ex, ey, hz\n",
    "\n",
    "    hz = faraday( ex, ey, hz)\n",
    "    ex, ey = ampere_maxwell( hz, ex, ey)\n",
    "    \n",
    "    wframe = ax.plot_wireframe(x, y, hz, rstride=2, cstride=2)\n",
    "    ax.set_zlim(-1, 1)\n",
    "    return wframe,"
   ]
  },
  {
   "cell_type": "code",
   "execution_count": null,
   "metadata": {
    "slideshow": {
     "slide_type": "fragment"
    }
   },
   "outputs": [],
   "source": [
    "ani = animation.FuncAnimation(fig, update,\n",
    "                              frames=range(200),\n",
    "                              fargs=(ax, fig), interval=100)"
   ]
  },
  {
   "cell_type": "code",
   "execution_count": null,
   "metadata": {
    "slideshow": {
     "slide_type": "slide"
    }
   },
   "outputs": [],
   "source": [
    "%%time\n",
    "HTML(ani.to_html5_video())"
   ]
  },
  {
   "cell_type": "code",
   "execution_count": null,
   "metadata": {
    "lines_to_next_cell": 2,
    "slideshow": {
     "slide_type": "slide"
    }
   },
   "outputs": [],
   "source": [
    "%%time\n",
    "\n",
    "from tqdm.notebook import tqdm\n",
    "\n",
    "nx, ny = 512, 512\n",
    "vx, dx = np.linspace(0, 1, nx, endpoint=True, retstep=True)\n",
    "vy, dy = np.linspace(0, 1, ny, endpoint=True, retstep=True)\n",
    "\n",
    "ex = np.zeros((nx-1, ny), dtype=np.double)  \n",
    "ey = np.zeros((nx, ny-1), dtype=np.double) \n",
    "dt = 0.001     # time step\n",
    "m, n = 2, 2\n",
    "omega = np.sqrt((m*np.pi)**2+(n*np.pi)**2)\n",
    "x, y = np.meshgrid(0.5*(vx[:-1]+vx[1:]), 0.5*(vy[:-1]+vy[1:]))\n",
    "\n",
    "hz = - np.cos(m*np.pi*y) * np.cos(n*np.pi*x) * np.cos(omega*(-0.5*dt))\n",
    "\n",
    "for t in tqdm(range(1000)):\n",
    "    \n",
    "    hz = faraday( ex, ey, hz)\n",
    "    ex, ey = ampere_maxwell( hz, ex, ey)\n",
    "    "
   ]
  },
  {
   "cell_type": "code",
   "execution_count": null,
   "metadata": {
    "slideshow": {
     "slide_type": "slide"
    }
   },
   "outputs": [],
   "source": [
    "%load_ext fortranmagic"
   ]
  },
  {
   "cell_type": "markdown",
   "metadata": {
    "slideshow": {
     "slide_type": "slide"
    }
   },
   "source": [
    "## fortran"
   ]
  },
  {
   "cell_type": "code",
   "execution_count": null,
   "metadata": {
    "slideshow": {
     "slide_type": "fragment"
    }
   },
   "outputs": [],
   "source": [
    "%%fortran \n",
    "\n",
    "subroutine faraday_fortran( ex, ey, bz, dx, dy, dt, nx, ny)\n",
    "implicit none\n",
    "\n",
    "real(8), intent(in) :: ex(nx-1,ny)\n",
    "real(8), intent(in) :: ey(nx,ny-1)\n",
    "real(8), intent(inout) :: bz(nx-1,ny-1)\n",
    "integer, intent(in) :: nx, ny\n",
    "real(8), intent(in) :: dx, dy, dt\n",
    "\n",
    "integer :: i, j\n",
    "real(8) :: dex_dx, dey_dy\n",
    "real(8) :: dex_dy, dey_dx\n",
    "        \n",
    "do j=1,ny-1\n",
    "do i=1,nx-1\n",
    "   dex_dy  = (ex(i,j+1)-ex(i,j)) / dy\n",
    "   dey_dx  = (ey(i+1,j)-ey(i,j)) / dx\n",
    "   bz(i,j) = bz(i,j) +  dt * (dex_dy - dey_dx)\n",
    "end do\n",
    "end do\n",
    "\n",
    "end subroutine faraday_fortran"
   ]
  },
  {
   "cell_type": "code",
   "execution_count": null,
   "metadata": {
    "slideshow": {
     "slide_type": "slide"
    }
   },
   "outputs": [],
   "source": [
    "%%fortran\n",
    "\n",
    "subroutine amperemaxwell_fortran(ex, ey, bz, dx, dy, dt, nx, ny)\n",
    "\n",
    "    implicit none\n",
    "    integer, intent(in):: nx, ny\n",
    "    real(8), intent(in):: dx, dy, dt\n",
    "    real(8), dimension(nx-1, ny-1), intent(inout) :: bz\n",
    "    real(8), dimension(nx-1, ny),   intent(inout) :: ex\n",
    "    real(8), dimension(nx, ny-1),   intent(inout) :: ey\n",
    "    integer:: i, j\n",
    "    real(8):: dbz_dx, dbz_dy\n",
    "    real(8), parameter:: csq = 1d0\n",
    "    \n",
    "    do i = 1, nx-1\n",
    "       dbz_dy = (bz(i, 1)-bz(i, ny-1)) / dy ! periodic BC\n",
    "       ex(i, 1) = ex(i, 1) + dt*csq*dbz_dy\n",
    "       ex(i, ny) = ex(i, 1)\n",
    "    end do\n",
    "    \n",
    "    do j = 1, ny-1\n",
    "       dbz_dx = (bz(1,j)-bz(nx-1,j)) / dx  ! periodic BC\n",
    "       ey(1,j) = ey(1,j) - dt*csq*dbz_dx\n",
    "       ey(nx,j) = ey(1,j)\n",
    "    end do\n",
    "    \n",
    "    do j=2,ny-1\n",
    "        do i=1,nx-1\n",
    "           dbz_dy = (bz(i,j)-bz(i,j-1)) / dy\n",
    "           ex(i,j) = ex(i,j) + dt*csq*dbz_dy \n",
    "        end do\n",
    "    end do\n",
    "    \n",
    "    do j=1,ny-1\n",
    "        do i=2,nx-1\n",
    "           dbz_dx = (bz(i,j)-bz(i-1,j)) / dx\n",
    "           ey(i,j) = ey(i,j) - dt*csq*dbz_dx \n",
    "        end do\n",
    "    end do\n",
    "\n",
    "end subroutine amperemaxwell_fortran"
   ]
  },
  {
   "cell_type": "code",
   "execution_count": null,
   "metadata": {
    "slideshow": {
     "slide_type": "slide"
    }
   },
   "outputs": [],
   "source": [
    "%%time\n",
    "\n",
    "from tqdm.notebook import tqdm\n",
    "\n",
    "ex.fill(0.0)\n",
    "ey.fill(0.0)\n",
    "hz = - np.cos(m*np.pi*y) * np.cos(n*np.pi*x) * np.cos(omega*(-0.5*dt))\n",
    "ex = np.asfortranarray(ex)\n",
    "ey = np.asfortranarray(ey)\n",
    "hz = np.asfortranarray(hz)\n",
    "\n",
    "for t in tqdm(range(1000)):\n",
    "    \n",
    "    faraday_fortran( ex, ey, hz, dx, dy, dt, nx, ny)\n",
    "    amperemaxwell_fortran(ex, ey, hz, dx, dy, dt, nx, ny)\n",
    "\n"
   ]
  }
 ],
 "metadata": {
  "kernelspec": {
   "display_name": "Python 3",
   "language": "python",
   "name": "python3"
  }
 },
 "nbformat": 4,
 "nbformat_minor": 4
}
