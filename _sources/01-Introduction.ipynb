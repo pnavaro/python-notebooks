{
 "cells": [
  {
   "cell_type": "markdown",
   "metadata": {},
   "source": [
    "# Introduction"
   ]
  },
  {
   "cell_type": "markdown",
   "metadata": {},
   "source": [
    "![jkvdp_tweet](images/jkvdp_tweet.png)"
   ]
  },
  {
   "cell_type": "markdown",
   "metadata": {},
   "source": [
    "## History\n",
    "\n",
    "- Project initiated by Guido Von Rossum in 1990\n",
    "- Interpreted language written in C.\n",
    "- Widely used in all domains (Web, Data Science, Scientific Computation).\n",
    "- This is a high level language with a simple syntax. \n",
    "- Python types are numerously and powerful.\n",
    "- Bind Python with other languages is easy.\n",
    "- You can perform a lot of operations with very few lines.\n",
    "- Available on all platforms Unix, Windows, Mac OS X...\n",
    "- Many libraries offer Python bindings.\n",
    "- Python 2 is retired use only Python 3\n"
   ]
  },
  {
   "cell_type": "markdown",
   "metadata": {},
   "source": [
    "## Python distributions\n",
    "\n",
    " Python packages are available with all linux distributions but you can get standalone bundles:\n",
    "\n",
    "- [Anaconda](https://www.continuum.io/downloads)\n",
    "- [Enthought Tools Suite](https://docs.enthought.com/ets/)\n",
    "- [Astropy](http://www.astropy.org)\n",
    "- [SAGEMATH](http://sagemath.org/)\n",
    "- [Pyzo](http://www.pyzo.org)\n"
   ]
  },
  {
   "cell_type": "markdown",
   "metadata": {},
   "source": [
    "## Performances\n",
    " Python is not fast... but:\n",
    "- Sometimes it is. \n",
    "- Most of operations are optimized.\n",
    "- Package like numpy can reduce the CPU time.\n",
    "- With Python you can save time to achieve your project.\n",
    "\n",
    "Some advices:\n",
    "- Write your program with Python language. \n",
    "- If it is fast enough, be happy.\n",
    "- After profiling, optimize costly parts of your code.\n",
    "\n",
    "\"Premature optimization is the root of all evil\" (Donald Knuth 1974)\n"
   ]
  },
  {
   "cell_type": "markdown",
   "metadata": {},
   "source": [
    "## Jupyter - Start The Notebook\n",
    "\n",
    "Open the notebook\n",
    "```\n",
    "git clone https:://github.com/pnavaro/python-notebooks\n",
    "cd python-notebooks/notebooks\n",
    "jupyter notebook\n",
    "```\n",
    "You should see the notebook open in your browser. If not, go to http://localhost:8888\n",
    "\n",
    "The Jupyter Notebook is an interactive environment for writing and running code. The notebook is capable of running code in a wide range of languages. However, each notebook is associated with Python3 kernel."
   ]
  },
  {
   "cell_type": "markdown",
   "metadata": {},
   "source": [
    "## Code cells allow you to enter and run code\n",
    "\n",
    "**Make a copy of this notebook by using the File menu.**\n",
    "\n",
    "Run a code cell using `Shift-Enter` or pressing the <button class='btn btn-default btn-xs'><i class=\"icon-step-forward fa fa-step-forward\"></i></button> button in the toolbar above:\n",
    "\n",
    "There are two other keyboard shortcuts for running code:\n",
    "\n",
    "* `Alt-Enter` runs the current cell and inserts a new one below.\n",
    "* `Ctrl-Enter` run the current cell and enters command mode."
   ]
  },
  {
   "cell_type": "markdown",
   "metadata": {},
   "source": [
    "\n",
    "\n",
    "## Managing the Kernel\n",
    "\n",
    "Code is run in a separate process called the Kernel.  The Kernel can be interrupted or restarted.  Try running the following cell and then hit the <button class='btn btn-default btn-xs'><i class='icon-stop fa fa-stop'></i></button> button in the toolbar above.\n",
    "\n",
    "The \"Cell\" menu has a number of menu items for running code in different ways. These includes:\n",
    "\n",
    "* Run and Select Below\n",
    "* Run and Insert Below\n",
    "* Run All\n",
    "* Run All Above\n",
    "* Run All Below\n",
    "\n"
   ]
  },
  {
   "cell_type": "markdown",
   "metadata": {},
   "source": [
    "## Restarting the kernels\n",
    "\n",
    "The kernel maintains the state of a notebook's computations. You can reset this state by restarting the kernel. This is done by clicking on the <button class='btn btn-default btn-xs'><i class='fa fa-repeat icon-repeat'></i></button> in the toolbar above.\n",
    "\n",
    "\n",
    "Check the [documentation](https://jupyter-notebook.readthedocs.io/en/latest/examples/Notebook/Notebook%20Basics.html)."
   ]
  },
  {
   "cell_type": "markdown",
   "metadata": {},
   "source": [
    "## First program\n",
    "\n",
    "- Print out the string \"Hello world!\" and its type.\n",
    "- Print out the value of `a` variable set to 6625 and its type."
   ]
  },
  {
   "cell_type": "code",
   "execution_count": null,
   "metadata": {},
   "outputs": [],
   "source": [
    "s = \"Hello World!\"\n",
    "print(type(s),s)"
   ]
  },
  {
   "cell_type": "code",
   "execution_count": null,
   "metadata": {},
   "outputs": [],
   "source": [
    "a = 6625\n",
    "print(type(a),a)"
   ]
  },
  {
   "cell_type": "code",
   "execution_count": null,
   "metadata": {},
   "outputs": [],
   "source": [
    "# a+s"
   ]
  },
  {
   "cell_type": "markdown",
   "metadata": {},
   "source": [
    "## Execute using python"
   ]
  },
  {
   "cell_type": "code",
   "execution_count": null,
   "metadata": {},
   "outputs": [],
   "source": [
    "%%file hello.py\n",
    "\n",
    "s = \"Hello World!\"\n",
    "print(type(s),s)\n",
    "a = 6625\n",
    "print(type(a),a)"
   ]
  },
  {
   "cell_type": "markdown",
   "metadata": {},
   "source": [
    "```bash\n",
    "$ python3 hello.py\n",
    "<class 'str'> Hello World!\n",
    "<class 'int'> 6625\n",
    "```"
   ]
  },
  {
   "cell_type": "markdown",
   "metadata": {},
   "source": [
    "## Execute with ipython\n",
    "```ipython\n",
    "(my-env) $ ipython\n",
    "Python 3.6.3 | packaged by conda-forge | (default, Nov  4 2017, 10:13:32)\n",
    "Type 'copyright', 'credits' or 'license' for more information\n",
    "IPython 6.2.1 -- An enhanced Interactive Python. Type '?' for help.\n",
    "\n",
    "In [1]: run hello.py\n",
    "<class 'str'> Hello World!\n",
    "<class 'int'> 6625\n",
    "```"
   ]
  },
  {
   "cell_type": "code",
   "execution_count": null,
   "metadata": {},
   "outputs": [],
   "source": [
    "%run hello.py"
   ]
  },
  {
   "cell_type": "markdown",
   "metadata": {},
   "source": [
    "## Python Types\n",
    "- Most of Python types are classes, typing is dynamic.\n",
    "- ; symbol can be used to split two Python commands on the same line."
   ]
  },
  {
   "cell_type": "code",
   "execution_count": null,
   "metadata": {},
   "outputs": [],
   "source": [
    "s = int(2010); print(type(s))\n",
    "s = 3.14; print(type(s))\n",
    "s = True; print(type(s))\n",
    "s = None; print(type(s))\n",
    "s = 1.0j; print(type(s))\n",
    "s = type(type(s)); print(type(s))"
   ]
  },
  {
   "cell_type": "markdown",
   "metadata": {},
   "source": [
    "## Calculate with Python"
   ]
  },
  {
   "cell_type": "code",
   "execution_count": null,
   "metadata": {},
   "outputs": [],
   "source": [
    "x = 45        # This is a comment!\n",
    "x += 2        # equivalent to x = x + 2\n",
    "print(x, x > 45)"
   ]
  },
  {
   "cell_type": "code",
   "execution_count": null,
   "metadata": {},
   "outputs": [],
   "source": [
    "y = 2.5\n",
    "print(\"x+y=\",x+y, type(x+y))  # Add float to integer, result will be a float"
   ]
  },
  {
   "cell_type": "code",
   "execution_count": null,
   "metadata": {},
   "outputs": [],
   "source": [
    "print(x*10/y)   # true division returns a float\n",
    "print(x*10//3)  # floor division discards the fractional part"
   ]
  },
  {
   "cell_type": "code",
   "execution_count": null,
   "metadata": {},
   "outputs": [],
   "source": [
    "print( x % 8) # the % operator returns the remainder of the division"
   ]
  },
  {
   "cell_type": "code",
   "execution_count": null,
   "metadata": {},
   "outputs": [],
   "source": [
    "print( f\" x = {x:05d} \") # You can use C format rules to improve print output"
   ]
  },
  {
   "cell_type": "markdown",
   "metadata": {},
   "source": [
    "## Multiple Assignment\n",
    "- Variables can simultaneously get new values. \n",
    "- Expressions on the right-hand side are all evaluated first before assignments take place. \n",
    "- The right-hand side expressions are evaluated from the left to the right.\n",
    "- Use it very carefully"
   ]
  },
  {
   "cell_type": "code",
   "execution_count": null,
   "metadata": {},
   "outputs": [],
   "source": [
    "a = b = c = 1\n",
    "print(a, b, c) "
   ]
  },
  {
   "cell_type": "code",
   "execution_count": null,
   "metadata": {},
   "outputs": [],
   "source": [
    "a, b, c = 1, 2, 3\n",
    "print (a, b, c)"
   ]
  },
  {
   "cell_type": "code",
   "execution_count": null,
   "metadata": {},
   "outputs": [],
   "source": [
    "a, c = c, a     # Nice way to permute values\n",
    "print (a, b, c) "
   ]
  },
  {
   "cell_type": "code",
   "execution_count": null,
   "metadata": {},
   "outputs": [],
   "source": [
    "a < b < c, a > b > c"
   ]
  },
  {
   "cell_type": "markdown",
   "metadata": {},
   "source": [
    "## `input` Function\n",
    "\n",
    "- Value returned by input is a string.\n",
    "\n",
    "- You must cast input call to get the type you want.\n",
    "```py\n",
    "name = input(\"Please enter your name: \")\n",
    "x = int(input(\"Please enter an integer: \"))\n",
    "L = list(input(\"Please enter 3 integers \"))\n",
    "```\n",
    "Copy-pase code above in three different cells and print returned values.\n"
   ]
  }
 ],
 "metadata": {
  "kernelspec": {
   "display_name": "Python 3",
   "language": "python",
   "name": "python3"
  },
  "language_info": {
   "codemirror_mode": {
    "name": "ipython",
    "version": 3
   },
   "file_extension": ".py",
   "mimetype": "text/x-python",
   "name": "python",
   "nbconvert_exporter": "python",
   "pygments_lexer": "ipython3",
   "version": "3.8.5"
  }
 },
 "nbformat": 4,
 "nbformat_minor": 4
}
