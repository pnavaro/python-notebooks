{
 "cells": [
  {
   "cell_type": "markdown",
   "metadata": {
    "slideshow": {
     "slide_type": "slide"
    }
   },
   "source": [
    "# Classes\n",
    "- Classes provide a means of bundling data and functionality together.\n",
    "- Creating a new class creates a **new type** of object.\n",
    "- Assigned variables are new **instances** of that type.\n",
    "- Each class instance can have **attributes** attached to it.\n",
    "- Class instances can also have **methods** for modifying its state.\n",
    "- Python classes provide the class **inheritance** mechanism.\n"
   ]
  },
  {
   "cell_type": "markdown",
   "metadata": {
    "slideshow": {
     "slide_type": "slide"
    }
   },
   "source": [
    "## Use class to store data\n",
    "\n",
    "- A empty class can be used to bundle together a few named data items. \n",
    "- You can easily save this class containing your data in JSON file."
   ]
  },
  {
   "cell_type": "code",
   "execution_count": 1,
   "metadata": {
    "execution": {
     "iopub.execute_input": "2020-09-12T13:51:08.786614Z",
     "iopub.status.busy": "2020-09-12T13:51:08.785644Z",
     "iopub.status.idle": "2020-09-12T13:51:08.788267Z",
     "shell.execute_reply": "2020-09-12T13:51:08.788888Z"
    },
    "slideshow": {
     "slide_type": "fragment"
    }
   },
   "outputs": [],
   "source": [
    "class Car:\n",
    "    pass\n",
    "\n",
    "mycar = Car()  # Create an empty car record\n",
    "\n",
    "# Fill the fields of the record\n",
    "mycar.brand = 'Peugeot'\n",
    "mycar.model = 308\n",
    "mycar.year = 2015"
   ]
  },
  {
   "cell_type": "code",
   "execution_count": 2,
   "metadata": {
    "execution": {
     "iopub.execute_input": "2020-09-12T13:51:08.801882Z",
     "iopub.status.busy": "2020-09-12T13:51:08.800837Z",
     "iopub.status.idle": "2020-09-12T13:51:08.805281Z",
     "shell.execute_reply": "2020-09-12T13:51:08.805872Z"
    },
    "slideshow": {
     "slide_type": "fragment"
    }
   },
   "outputs": [
    {
     "data": {
      "text/plain": [
       "{'brand': 'Peugeot', 'model': 308, 'year': 2015}"
      ]
     },
     "execution_count": 2,
     "metadata": {},
     "output_type": "execute_result"
    }
   ],
   "source": [
    "mycar.__dict__"
   ]
  },
  {
   "cell_type": "markdown",
   "metadata": {
    "slideshow": {
     "slide_type": "slide"
    }
   },
   "source": [
    "## namedtuple"
   ]
  },
  {
   "cell_type": "code",
   "execution_count": 3,
   "metadata": {
    "execution": {
     "iopub.execute_input": "2020-09-12T13:51:08.811021Z",
     "iopub.status.busy": "2020-09-12T13:51:08.810030Z",
     "iopub.status.idle": "2020-09-12T13:51:08.812590Z",
     "shell.execute_reply": "2020-09-12T13:51:08.813205Z"
    },
    "slideshow": {
     "slide_type": "fragment"
    }
   },
   "outputs": [],
   "source": [
    "from collections import namedtuple\n",
    "\n",
    "Car = namedtuple('Car', 'brand, model, year')"
   ]
  },
  {
   "cell_type": "code",
   "execution_count": 4,
   "metadata": {
    "execution": {
     "iopub.execute_input": "2020-09-12T13:51:08.818621Z",
     "iopub.status.busy": "2020-09-12T13:51:08.817696Z",
     "iopub.status.idle": "2020-09-12T13:51:08.821193Z",
     "shell.execute_reply": "2020-09-12T13:51:08.821813Z"
    },
    "slideshow": {
     "slide_type": "fragment"
    }
   },
   "outputs": [
    {
     "data": {
      "text/plain": [
       "Car(brand='Peugeot', model=308, year=2015)"
      ]
     },
     "execution_count": 4,
     "metadata": {},
     "output_type": "execute_result"
    }
   ],
   "source": [
    "mycar = Car('Peugeot', 308, 2015)\n",
    "mycar"
   ]
  },
  {
   "cell_type": "code",
   "execution_count": 5,
   "metadata": {
    "execution": {
     "iopub.execute_input": "2020-09-12T13:51:08.826836Z",
     "iopub.status.busy": "2020-09-12T13:51:08.825856Z",
     "iopub.status.idle": "2020-09-12T13:51:08.829418Z",
     "shell.execute_reply": "2020-09-12T13:51:08.830029Z"
    },
    "slideshow": {
     "slide_type": "fragment"
    }
   },
   "outputs": [
    {
     "data": {
      "text/plain": [
       "2015"
      ]
     },
     "execution_count": 5,
     "metadata": {},
     "output_type": "execute_result"
    }
   ],
   "source": [
    "mycar.year"
   ]
  },
  {
   "cell_type": "code",
   "execution_count": 6,
   "metadata": {
    "execution": {
     "iopub.execute_input": "2020-09-12T13:51:08.835618Z",
     "iopub.status.busy": "2020-09-12T13:51:08.834648Z",
     "iopub.status.idle": "2020-09-12T13:51:08.838217Z",
     "shell.execute_reply": "2020-09-12T13:51:08.838808Z"
    },
    "slideshow": {
     "slide_type": "fragment"
    }
   },
   "outputs": [
    {
     "name": "stdout",
     "output_type": "stream",
     "text": [
      "<class 'AttributeError'>\n"
     ]
    }
   ],
   "source": [
    "# Like tuples, namedtuples are immutable:\n",
    "import sys\n",
    "try:\n",
    "    mycar.model = 3008\n",
    "except:\n",
    "    print(sys.exc_info()[0])"
   ]
  },
  {
   "cell_type": "code",
   "execution_count": 7,
   "metadata": {
    "execution": {
     "iopub.execute_input": "2020-09-12T13:51:08.845057Z",
     "iopub.status.busy": "2020-09-12T13:51:08.844169Z",
     "iopub.status.idle": "2020-09-12T13:51:08.847290Z",
     "shell.execute_reply": "2020-09-12T13:51:08.846634Z"
    },
    "slideshow": {
     "slide_type": "slide"
    }
   },
   "outputs": [],
   "source": [
    "class Car:\n",
    "\n",
    "    \"A simple example class Animal with its name, weight and age\"\n",
    "\n",
    "    def __init__(self, brand, model, year):  # constructor\n",
    "        self.brand = brand\n",
    "        self.model = model\n",
    "        self.year = year\n",
    "\n",
    "    def age(self):  # method\n",
    "        import datetime\n",
    "        now = datetime.datetime.now()\n",
    "        return now.year - self.year"
   ]
  },
  {
   "cell_type": "code",
   "execution_count": 8,
   "metadata": {
    "execution": {
     "iopub.execute_input": "2020-09-12T13:51:08.852654Z",
     "iopub.status.busy": "2020-09-12T13:51:08.851791Z",
     "iopub.status.idle": "2020-09-12T13:51:08.855155Z",
     "shell.execute_reply": "2020-09-12T13:51:08.855770Z"
    },
    "slideshow": {
     "slide_type": "fragment"
    }
   },
   "outputs": [
    {
     "name": "stdout",
     "output_type": "stream",
     "text": [
      " Peugeot 308 2015\n",
      " 5 years old\n"
     ]
    }
   ],
   "source": [
    "mycar = Car('Peugeot', 308, 2015) # Instance\n",
    "print(f' {mycar.brand} {mycar.model} {mycar.year}')\n",
    "print(f' {mycar.age()} years old')"
   ]
  },
  {
   "cell_type": "code",
   "execution_count": 9,
   "metadata": {
    "execution": {
     "iopub.execute_input": "2020-09-12T13:51:08.861290Z",
     "iopub.status.busy": "2020-09-12T13:51:08.860331Z",
     "iopub.status.idle": "2020-09-12T13:51:08.863674Z",
     "shell.execute_reply": "2020-09-12T13:51:08.864368Z"
    },
    "slideshow": {
     "slide_type": "slide"
    }
   },
   "outputs": [
    {
     "data": {
      "text/plain": [
       "3"
      ]
     },
     "execution_count": 9,
     "metadata": {},
     "output_type": "execute_result"
    }
   ],
   "source": [
    "mycar.year = 2017\n",
    "mycar.age()"
   ]
  },
  {
   "cell_type": "markdown",
   "metadata": {
    "slideshow": {
     "slide_type": "fragment"
    }
   },
   "source": [
    "- `mycar` is an *instance* of Car Class.\n",
    "- `mycar.age()` is a *method* of `Car` instance `mycar`.\n",
    "- `brand` and `model` are attributes of `Car` instance `mycar`."
   ]
  },
  {
   "cell_type": "markdown",
   "metadata": {
    "slideshow": {
     "slide_type": "slide"
    }
   },
   "source": [
    "## Convert method to attribute\n",
    "\n",
    "Use the `property` decorator "
   ]
  },
  {
   "cell_type": "code",
   "execution_count": 10,
   "metadata": {
    "execution": {
     "iopub.execute_input": "2020-09-12T13:51:08.870718Z",
     "iopub.status.busy": "2020-09-12T13:51:08.869716Z",
     "iopub.status.idle": "2020-09-12T13:51:08.872104Z",
     "shell.execute_reply": "2020-09-12T13:51:08.872718Z"
    },
    "slideshow": {
     "slide_type": "fragment"
    }
   },
   "outputs": [],
   "source": [
    "class Car:\n",
    "\n",
    "    \"A simple example class Car with its model, brand and year\"\n",
    "\n",
    "    def __init__(self, brand, model, year):  # constructor\n",
    "        self.model = model\n",
    "        self.brand = brand\n",
    "        self.year = year\n",
    "\n",
    "    @property\n",
    "    def age(self):  # method\n",
    "        import datetime\n",
    "        now = datetime.datetime.now()\n",
    "        return now.year - self.year"
   ]
  },
  {
   "cell_type": "code",
   "execution_count": 11,
   "metadata": {
    "execution": {
     "iopub.execute_input": "2020-09-12T13:51:08.877938Z",
     "iopub.status.busy": "2020-09-12T13:51:08.876970Z",
     "iopub.status.idle": "2020-09-12T13:51:08.880569Z",
     "shell.execute_reply": "2020-09-12T13:51:08.881171Z"
    },
    "slideshow": {
     "slide_type": "fragment"
    }
   },
   "outputs": [
    {
     "data": {
      "text/plain": [
       "5"
      ]
     },
     "execution_count": 11,
     "metadata": {},
     "output_type": "execute_result"
    }
   ],
   "source": [
    "mycar = Car('Peugeot', 308, 2015)\n",
    "mycar.age  # age can now be used as an attribute"
   ]
  },
  {
   "cell_type": "code",
   "execution_count": 12,
   "metadata": {
    "execution": {
     "iopub.execute_input": "2020-09-12T13:51:08.886635Z",
     "iopub.status.busy": "2020-09-12T13:51:08.885659Z",
     "iopub.status.idle": "2020-09-12T13:51:08.889041Z",
     "shell.execute_reply": "2020-09-12T13:51:08.889636Z"
    },
    "slideshow": {
     "slide_type": "fragment"
    }
   },
   "outputs": [
    {
     "name": "stdout",
     "output_type": "stream",
     "text": [
      "<class 'AttributeError'>\n"
     ]
    }
   ],
   "source": [
    "try:\n",
    "    mycar.age = 3 # a protected attribute\n",
    "except:\n",
    "    print(sys.exc_info()[0])"
   ]
  },
  {
   "cell_type": "markdown",
   "metadata": {
    "slideshow": {
     "slide_type": "slide"
    }
   },
   "source": [
    "## The new Python 3.7 DataClass"
   ]
  },
  {
   "cell_type": "code",
   "execution_count": 13,
   "metadata": {
    "execution": {
     "iopub.execute_input": "2020-09-12T13:51:08.895529Z",
     "iopub.status.busy": "2020-09-12T13:51:08.894662Z",
     "iopub.status.idle": "2020-09-12T13:51:08.899673Z",
     "shell.execute_reply": "2020-09-12T13:51:08.900288Z"
    },
    "slideshow": {
     "slide_type": "fragment"
    }
   },
   "outputs": [],
   "source": [
    "from dataclasses import dataclass\n",
    "\n",
    "@dataclass\n",
    "class Car:\n",
    "\n",
    "    brand: str\n",
    "    model: int\n",
    "    year: int\n",
    "\n",
    "    @property\n",
    "    def age(self) -> int:\n",
    "        import datetime\n",
    "        now = datetime.datetime.now()\n",
    "        return now.year - self.year"
   ]
  },
  {
   "cell_type": "code",
   "execution_count": 14,
   "metadata": {
    "execution": {
     "iopub.execute_input": "2020-09-12T13:51:08.905537Z",
     "iopub.status.busy": "2020-09-12T13:51:08.904661Z",
     "iopub.status.idle": "2020-09-12T13:51:08.908195Z",
     "shell.execute_reply": "2020-09-12T13:51:08.908809Z"
    },
    "slideshow": {
     "slide_type": "slide"
    }
   },
   "outputs": [
    {
     "data": {
      "text/plain": [
       "Car(brand='Peugeot', model=308, year=2015)"
      ]
     },
     "execution_count": 14,
     "metadata": {},
     "output_type": "execute_result"
    }
   ],
   "source": [
    "mycar = Car('Peugeot', 308, 2015)\n",
    "mycar"
   ]
  },
  {
   "cell_type": "code",
   "execution_count": 15,
   "metadata": {
    "execution": {
     "iopub.execute_input": "2020-09-12T13:51:08.914287Z",
     "iopub.status.busy": "2020-09-12T13:51:08.913290Z",
     "iopub.status.idle": "2020-09-12T13:51:08.917574Z",
     "shell.execute_reply": "2020-09-12T13:51:08.916981Z"
    },
    "slideshow": {
     "slide_type": "fragment"
    }
   },
   "outputs": [
    {
     "data": {
      "text/plain": [
       "Car(brand='BMW', model='1 Series', year=2009)"
      ]
     },
     "execution_count": 15,
     "metadata": {},
     "output_type": "execute_result"
    }
   ],
   "source": [
    "myothercar = Car('BMW', \"1 Series\", 2009)\n",
    "myothercar"
   ]
  },
  {
   "cell_type": "markdown",
   "metadata": {
    "slideshow": {
     "slide_type": "slide"
    }
   },
   "source": [
    "## Method Overriding\n",
    "- Every Python classes has a `__repr__()` method used when you call `print()` function."
   ]
  },
  {
   "cell_type": "code",
   "execution_count": 16,
   "metadata": {
    "execution": {
     "iopub.execute_input": "2020-09-12T13:51:08.924068Z",
     "iopub.status.busy": "2020-09-12T13:51:08.923067Z",
     "iopub.status.idle": "2020-09-12T13:51:08.925485Z",
     "shell.execute_reply": "2020-09-12T13:51:08.926095Z"
    },
    "slideshow": {
     "slide_type": "fragment"
    }
   },
   "outputs": [],
   "source": [
    "class Car:\n",
    "    \"\"\"Simple example class with method overriding \"\"\"\n",
    "\n",
    "    def __init__(self, brand, model, year):\n",
    "        self.brand = brand\n",
    "        self.model = model\n",
    "        self.year = year\n",
    "\n",
    "    def __repr__(self):\n",
    "        return f\"{self.year} {self.brand} {self.model} {self.__class__.__name__}\""
   ]
  },
  {
   "cell_type": "code",
   "execution_count": 17,
   "metadata": {
    "execution": {
     "iopub.execute_input": "2020-09-12T13:51:08.931177Z",
     "iopub.status.busy": "2020-09-12T13:51:08.930248Z",
     "iopub.status.idle": "2020-09-12T13:51:08.933589Z",
     "shell.execute_reply": "2020-09-12T13:51:08.934192Z"
    },
    "slideshow": {
     "slide_type": "fragment"
    }
   },
   "outputs": [
    {
     "name": "stdout",
     "output_type": "stream",
     "text": [
      "2015 Peugeot 308 Car\n"
     ]
    }
   ],
   "source": [
    "mycar = Car('Peugeot', 308, 2015)\n",
    "print(mycar)"
   ]
  },
  {
   "cell_type": "markdown",
   "metadata": {
    "slideshow": {
     "slide_type": "slide"
    }
   },
   "source": [
    "## Inheritance"
   ]
  },
  {
   "cell_type": "code",
   "execution_count": 18,
   "metadata": {
    "execution": {
     "iopub.execute_input": "2020-09-12T13:51:08.942264Z",
     "iopub.status.busy": "2020-09-12T13:51:08.941271Z",
     "iopub.status.idle": "2020-09-12T13:51:08.944691Z",
     "shell.execute_reply": "2020-09-12T13:51:08.945271Z"
    },
    "slideshow": {
     "slide_type": "fragment"
    }
   },
   "outputs": [
    {
     "name": "stdout",
     "output_type": "stream",
     "text": [
      "Rectangle area \t =   6.000\n",
      "Square area \t =  16.000\n"
     ]
    }
   ],
   "source": [
    "class Rectangle():  # Parent class is defined here\n",
    "\n",
    "    def __init__(self, width, height):\n",
    "        self.width, self.height = width, height\n",
    "    @property\n",
    "    def area(self):\n",
    "        return self.width * self.height\n",
    "    \n",
    "class Square(Rectangle):\n",
    "    \n",
    "    def __init__(self, edge):\n",
    "        super().__init__(edge, edge)  # Call method in the parent class\n",
    "\n",
    "\n",
    "r = Rectangle(2, 3)\n",
    "print(f\"Rectangle area \\t = {r.area:7.3f}\")\n",
    "s = Square(4)\n",
    "print(f\"Square area \\t = {s.area:7.3f}\")"
   ]
  },
  {
   "cell_type": "markdown",
   "metadata": {
    "slideshow": {
     "slide_type": "slide"
    }
   },
   "source": [
    "## Private Variables and Methods"
   ]
  },
  {
   "cell_type": "code",
   "execution_count": 19,
   "metadata": {
    "execution": {
     "iopub.execute_input": "2020-09-12T13:51:08.950830Z",
     "iopub.status.busy": "2020-09-12T13:51:08.949970Z",
     "iopub.status.idle": "2020-09-12T13:51:08.952487Z",
     "shell.execute_reply": "2020-09-12T13:51:08.953140Z"
    },
    "slideshow": {
     "slide_type": "fragment"
    }
   },
   "outputs": [],
   "source": [
    "class DemoClass:\n",
    "    \" Demo class for name mangling \"\n",
    "\n",
    "    def public_method(self):\n",
    "        return 'public!'\n",
    "\n",
    "    def __private_method(self):  # Note the use of leading underscores\n",
    "        return 'private!'\n",
    "\n",
    "\n",
    "object3 = DemoClass()"
   ]
  },
  {
   "cell_type": "code",
   "execution_count": 20,
   "metadata": {
    "execution": {
     "iopub.execute_input": "2020-09-12T13:51:08.958219Z",
     "iopub.status.busy": "2020-09-12T13:51:08.957241Z",
     "iopub.status.idle": "2020-09-12T13:51:08.960789Z",
     "shell.execute_reply": "2020-09-12T13:51:08.961388Z"
    },
    "slideshow": {
     "slide_type": "slide"
    }
   },
   "outputs": [
    {
     "data": {
      "text/plain": [
       "'public!'"
      ]
     },
     "execution_count": 20,
     "metadata": {},
     "output_type": "execute_result"
    }
   ],
   "source": [
    "object3.public_method()"
   ]
  },
  {
   "cell_type": "code",
   "execution_count": 21,
   "metadata": {
    "execution": {
     "iopub.execute_input": "2020-09-12T13:51:08.966464Z",
     "iopub.status.busy": "2020-09-12T13:51:08.965615Z",
     "iopub.status.idle": "2020-09-12T13:51:08.968701Z",
     "shell.execute_reply": "2020-09-12T13:51:08.969316Z"
    },
    "slideshow": {
     "slide_type": "fragment"
    }
   },
   "outputs": [
    {
     "name": "stdout",
     "output_type": "stream",
     "text": [
      "<class 'AttributeError'>\n"
     ]
    }
   ],
   "source": [
    "try:\n",
    "    object3.__private_method()\n",
    "except:\n",
    "    print(sys.exc_info()[0])"
   ]
  },
  {
   "cell_type": "code",
   "execution_count": 22,
   "metadata": {
    "execution": {
     "iopub.execute_input": "2020-09-12T13:51:08.974819Z",
     "iopub.status.busy": "2020-09-12T13:51:08.973812Z",
     "iopub.status.idle": "2020-09-12T13:51:08.977314Z",
     "shell.execute_reply": "2020-09-12T13:51:08.978031Z"
    },
    "slideshow": {
     "slide_type": "fragment"
    }
   },
   "outputs": [
    {
     "data": {
      "text/plain": [
       "['_DemoClass__private_method', 'public_method']"
      ]
     },
     "execution_count": 22,
     "metadata": {},
     "output_type": "execute_result"
    }
   ],
   "source": [
    "[ s for s in dir(object3) if \"method\" in s]"
   ]
  },
  {
   "cell_type": "code",
   "execution_count": 23,
   "metadata": {
    "execution": {
     "iopub.execute_input": "2020-09-12T13:51:08.983268Z",
     "iopub.status.busy": "2020-09-12T13:51:08.982303Z",
     "iopub.status.idle": "2020-09-12T13:51:08.985636Z",
     "shell.execute_reply": "2020-09-12T13:51:08.986486Z"
    },
    "slideshow": {
     "slide_type": "fragment"
    }
   },
   "outputs": [
    {
     "data": {
      "text/plain": [
       "'private!'"
      ]
     },
     "execution_count": 23,
     "metadata": {},
     "output_type": "execute_result"
    }
   ],
   "source": [
    "object3._DemoClass__private_method()"
   ]
  },
  {
   "cell_type": "code",
   "execution_count": 24,
   "metadata": {
    "execution": {
     "iopub.execute_input": "2020-09-12T13:51:08.991673Z",
     "iopub.status.busy": "2020-09-12T13:51:08.990527Z",
     "iopub.status.idle": "2020-09-12T13:51:08.994231Z",
     "shell.execute_reply": "2020-09-12T13:51:08.994828Z"
    },
    "slideshow": {
     "slide_type": "fragment"
    }
   },
   "outputs": [
    {
     "data": {
      "text/plain": [
       "<bound method DemoClass.public_method of <__main__.DemoClass object at 0x107aef430>>"
      ]
     },
     "execution_count": 24,
     "metadata": {},
     "output_type": "execute_result"
    }
   ],
   "source": [
    "object3.public_method"
   ]
  },
  {
   "cell_type": "markdown",
   "metadata": {
    "slideshow": {
     "slide_type": "slide"
    }
   },
   "source": [
    "## Use `class` as a Function."
   ]
  },
  {
   "cell_type": "code",
   "execution_count": 25,
   "metadata": {
    "execution": {
     "iopub.execute_input": "2020-09-12T13:51:09.002688Z",
     "iopub.status.busy": "2020-09-12T13:51:09.001329Z",
     "iopub.status.idle": "2020-09-12T13:51:09.005389Z",
     "shell.execute_reply": "2020-09-12T13:51:09.005979Z"
    },
    "slideshow": {
     "slide_type": "fragment"
    }
   },
   "outputs": [
    {
     "data": {
      "text/plain": [
       "6"
      ]
     },
     "execution_count": 25,
     "metadata": {},
     "output_type": "execute_result"
    }
   ],
   "source": [
    "class Polynomial:\n",
    "    \n",
    "   \" Class representing a polynom P(x) -> c_0+c_1*x+c_2*x^2+...\"\n",
    "    \n",
    "   def __init__(self, coeffs):\n",
    "      self.coeffs = coeffs\n",
    "        \n",
    "   def __call__(self, x):\n",
    "      return sum(coef*x**exp for exp,coef in enumerate(self.coeffs))\n",
    "\n",
    "p = Polynomial([2,4,-1])\n",
    "p(2) "
   ]
  },
  {
   "cell_type": "markdown",
   "metadata": {
    "slideshow": {
     "slide_type": "slide"
    }
   },
   "source": [
    "### Exercise: Polynomial\n",
    "\n",
    "- Improve the class above called Polynomial by creating a method `diff(n)` to compute the nth derivative.\n",
    "- Override the `__repr__()` method to output a pretty printing.\n",
    "\n",
    "Hint: `f\"{coeff:+d}\"` forces to print sign before the value of an integer."
   ]
  },
  {
   "cell_type": "markdown",
   "metadata": {
    "slideshow": {
     "slide_type": "slide"
    }
   },
   "source": [
    "## Operators Overriding "
   ]
  },
  {
   "cell_type": "code",
   "execution_count": 26,
   "metadata": {
    "execution": {
     "iopub.execute_input": "2020-09-12T13:51:09.017415Z",
     "iopub.status.busy": "2020-09-12T13:51:09.016501Z",
     "iopub.status.idle": "2020-09-12T13:51:09.019171Z",
     "shell.execute_reply": "2020-09-12T13:51:09.019827Z"
    },
    "slideshow": {
     "slide_type": "slide"
    }
   },
   "outputs": [],
   "source": [
    "class MyComplex:\n",
    "    \" Simple class representing a complex\"\n",
    "    width = 7\n",
    "    precision = 3\n",
    "\n",
    "    def __init__(self, real=0, imag=0):\n",
    "        self.real = real\n",
    "        self.imag = imag\n",
    "\n",
    "    def __repr__(self): \n",
    "        return (f\"({self.real:{self.width}.{self.precision}f},\"\n",
    "                f\"{self.imag:+{self.width}.{self.precision}f}j)\")\n",
    "\n",
    "    def __eq__(self, other):  # override '=='\n",
    "        return (self.real == other.real) and (self.imag == other.imag)\n",
    "\n",
    "    def __add__(self, other):  # override '+'\n",
    "        return MyComplex(self.real+other.real, self.imag+other.imag)\n",
    "\n",
    "    def __sub__(self, other):  # override '-'\n",
    "        return MyComplex(self.real-other.real, self.imag-other.imag)\n",
    "\n",
    "    def __mul__(self, other):  # override '*'\n",
    "        if isinstance(other, MyComplex):\n",
    "            return MyComplex(self.real * other.real - self.imag * other.imag,\n",
    "                             self.real * other.imag + self.imag * other.real)\n",
    "\n",
    "        else:\n",
    "            return MyComplex(other*self.real, other*self.imag)"
   ]
  },
  {
   "cell_type": "code",
   "execution_count": 27,
   "metadata": {
    "execution": {
     "iopub.execute_input": "2020-09-12T13:51:09.025290Z",
     "iopub.status.busy": "2020-09-12T13:51:09.024309Z",
     "iopub.status.idle": "2020-09-12T13:51:09.027854Z",
     "shell.execute_reply": "2020-09-12T13:51:09.028530Z"
    },
    "slideshow": {
     "slide_type": "slide"
    }
   },
   "outputs": [
    {
     "name": "stdout",
     "output_type": "stream",
     "text": [
      "u= (  0.000, +1.000j) ; v= (  1.000, +0.000j)\n"
     ]
    }
   ],
   "source": [
    "u = MyComplex(0, 1)\n",
    "v = MyComplex(1, 0)\n",
    "print('u=', u, \"; v=\", v)"
   ]
  },
  {
   "cell_type": "code",
   "execution_count": 28,
   "metadata": {
    "execution": {
     "iopub.execute_input": "2020-09-12T13:51:09.034193Z",
     "iopub.status.busy": "2020-09-12T13:51:09.033254Z",
     "iopub.status.idle": "2020-09-12T13:51:09.036716Z",
     "shell.execute_reply": "2020-09-12T13:51:09.037300Z"
    },
    "slideshow": {
     "slide_type": "fragment"
    }
   },
   "outputs": [
    {
     "data": {
      "text/plain": [
       "((  1.000, +1.000j), ( -1.000, +1.000j), (  0.000, +1.000j), False)"
      ]
     },
     "execution_count": 28,
     "metadata": {},
     "output_type": "execute_result"
    }
   ],
   "source": [
    "u+v, u-v, u*v, u==v"
   ]
  },
  {
   "cell_type": "markdown",
   "metadata": {
    "slideshow": {
     "slide_type": "fragment"
    }
   },
   "source": [
    "We can change the *class* attribute precision."
   ]
  },
  {
   "cell_type": "code",
   "execution_count": 29,
   "metadata": {
    "execution": {
     "iopub.execute_input": "2020-09-12T13:51:09.042409Z",
     "iopub.status.busy": "2020-09-12T13:51:09.041555Z",
     "iopub.status.idle": "2020-09-12T13:51:09.044973Z",
     "shell.execute_reply": "2020-09-12T13:51:09.045586Z"
    },
    "slideshow": {
     "slide_type": "fragment"
    }
   },
   "outputs": [
    {
     "name": "stdout",
     "output_type": "stream",
     "text": [
      "2\n",
      "(   0.00,  +1.00j)\n"
     ]
    }
   ],
   "source": [
    "MyComplex.precision=2\n",
    "print(u.precision)\n",
    "print(u)"
   ]
  },
  {
   "cell_type": "code",
   "execution_count": 30,
   "metadata": {
    "execution": {
     "iopub.execute_input": "2020-09-12T13:51:09.050862Z",
     "iopub.status.busy": "2020-09-12T13:51:09.049791Z",
     "iopub.status.idle": "2020-09-12T13:51:09.053410Z",
     "shell.execute_reply": "2020-09-12T13:51:09.054051Z"
    },
    "slideshow": {
     "slide_type": "fragment"
    }
   },
   "outputs": [
    {
     "data": {
      "text/plain": [
       "2"
      ]
     },
     "execution_count": 30,
     "metadata": {},
     "output_type": "execute_result"
    }
   ],
   "source": [
    "v.precision"
   ]
  },
  {
   "cell_type": "markdown",
   "metadata": {
    "slideshow": {
     "slide_type": "slide"
    }
   },
   "source": [
    "We can change the *instance* attribute precision."
   ]
  },
  {
   "cell_type": "code",
   "execution_count": 31,
   "metadata": {
    "execution": {
     "iopub.execute_input": "2020-09-12T13:51:09.059063Z",
     "iopub.status.busy": "2020-09-12T13:51:09.058144Z",
     "iopub.status.idle": "2020-09-12T13:51:09.061352Z",
     "shell.execute_reply": "2020-09-12T13:51:09.061952Z"
    },
    "slideshow": {
     "slide_type": "fragment"
    }
   },
   "outputs": [
    {
     "name": "stdout",
     "output_type": "stream",
     "text": [
      "(    0.0,   +1.0j)\n"
     ]
    }
   ],
   "source": [
    "u.precision=1\n",
    "print(u)"
   ]
  },
  {
   "cell_type": "code",
   "execution_count": 32,
   "metadata": {
    "execution": {
     "iopub.execute_input": "2020-09-12T13:51:09.066740Z",
     "iopub.status.busy": "2020-09-12T13:51:09.065739Z",
     "iopub.status.idle": "2020-09-12T13:51:09.069169Z",
     "shell.execute_reply": "2020-09-12T13:51:09.069934Z"
    },
    "slideshow": {
     "slide_type": "fragment"
    }
   },
   "outputs": [
    {
     "name": "stdout",
     "output_type": "stream",
     "text": [
      "(   1.00,  +0.00j)\n"
     ]
    }
   ],
   "source": [
    "print(v)"
   ]
  },
  {
   "cell_type": "code",
   "execution_count": 33,
   "metadata": {
    "execution": {
     "iopub.execute_input": "2020-09-12T13:51:09.075066Z",
     "iopub.status.busy": "2020-09-12T13:51:09.074115Z",
     "iopub.status.idle": "2020-09-12T13:51:09.077687Z",
     "shell.execute_reply": "2020-09-12T13:51:09.078367Z"
    },
    "slideshow": {
     "slide_type": "fragment"
    }
   },
   "outputs": [
    {
     "data": {
      "text/plain": [
       "(    0.0,   +1.0j)"
      ]
     },
     "execution_count": 33,
     "metadata": {},
     "output_type": "execute_result"
    }
   ],
   "source": [
    "MyComplex.precision=5\n",
    "u # set attribute keeps its value"
   ]
  },
  {
   "cell_type": "code",
   "execution_count": 34,
   "metadata": {
    "execution": {
     "iopub.execute_input": "2020-09-12T13:51:09.083449Z",
     "iopub.status.busy": "2020-09-12T13:51:09.082453Z",
     "iopub.status.idle": "2020-09-12T13:51:09.086044Z",
     "shell.execute_reply": "2020-09-12T13:51:09.086631Z"
    },
    "slideshow": {
     "slide_type": "fragment"
    }
   },
   "outputs": [
    {
     "data": {
      "text/plain": [
       "(1.00000,+0.00000j)"
      ]
     },
     "execution_count": 34,
     "metadata": {},
     "output_type": "execute_result"
    }
   ],
   "source": [
    "v # unset attribute is set to the new value"
   ]
  },
  {
   "cell_type": "markdown",
   "metadata": {
    "slideshow": {
     "slide_type": "slide"
    }
   },
   "source": [
    "## Rational example"
   ]
  },
  {
   "cell_type": "code",
   "execution_count": 35,
   "metadata": {
    "execution": {
     "iopub.execute_input": "2020-09-12T13:51:09.097866Z",
     "iopub.status.busy": "2020-09-12T13:51:09.096857Z",
     "iopub.status.idle": "2020-09-12T13:51:09.099409Z",
     "shell.execute_reply": "2020-09-12T13:51:09.100023Z"
    },
    "slideshow": {
     "slide_type": "slide"
    }
   },
   "outputs": [],
   "source": [
    "class Rational:\n",
    "    \" Class representing a rational number\"\n",
    "\n",
    "    def __init__(self, n, d):\n",
    "        assert isinstance(n, int) and isinstance(d, int)\n",
    "\n",
    "        def gcd(x, y):\n",
    "            if x == 0:\n",
    "                return y\n",
    "            elif x < 0:\n",
    "                return gcd(-x, y)\n",
    "            elif y < 0:\n",
    "                return -gcd(x, -y)\n",
    "            else:\n",
    "                return gcd(y % x, x)\n",
    "\n",
    "        g = gcd(n, d)\n",
    "        self.numer, self.denom = n//g, d//g\n",
    "\n",
    "    def __add__(self, other):\n",
    "        return Rational(self.numer * other.denom + other.numer * self.denom,\n",
    "                        self.denom * other.denom)\n",
    "\n",
    "    def __sub__(self, other):\n",
    "        return Rational(self.numer * other.denom - other.numer * self.denom,\n",
    "                        self.denom * other.denom)\n",
    "\n",
    "    def __mul__(self, other):\n",
    "        return Rational(self.numer * other.numer, self.denom * other.denom)\n",
    "\n",
    "    def __truediv__(self, other):\n",
    "        return Rational(self.numer * other.denom, self.denom * other.numer)\n",
    "\n",
    "    def __repr__(self):\n",
    "        return f\"{self.numer:d}/{self.denom:d}\""
   ]
  },
  {
   "cell_type": "code",
   "execution_count": 36,
   "metadata": {
    "execution": {
     "iopub.execute_input": "2020-09-12T13:51:09.106156Z",
     "iopub.status.busy": "2020-09-12T13:51:09.105230Z",
     "iopub.status.idle": "2020-09-12T13:51:09.108659Z",
     "shell.execute_reply": "2020-09-12T13:51:09.109276Z"
    },
    "slideshow": {
     "slide_type": "slide"
    }
   },
   "outputs": [
    {
     "data": {
      "text/plain": [
       "(17/12, -1/12, 1/2, 8/9)"
      ]
     },
     "execution_count": 36,
     "metadata": {},
     "output_type": "execute_result"
    }
   ],
   "source": [
    "r1 = Rational(2,3)\n",
    "r2 = Rational(3,4)\n",
    "r1+r2, r1-r2, r1*r2, r1/r2"
   ]
  },
  {
   "cell_type": "markdown",
   "metadata": {
    "slideshow": {
     "slide_type": "slide"
    }
   },
   "source": [
    "### Exercise \n",
    "Improve the class Polynomial by implementing operations:\n",
    "- Overrides '+' operator (__add__)\n",
    "- Overrides '-' operator (__neg__)\n",
    "- Overrides '==' operator (__eq__)\n",
    "- Overrides '*' operator (__mul__)"
   ]
  }
 ],
 "metadata": {
  "kernelspec": {
   "display_name": "Python 3",
   "language": "python",
   "name": "python3"
  },
  "language_info": {
   "codemirror_mode": {
    "name": "ipython",
    "version": 3
   },
   "file_extension": ".py",
   "mimetype": "text/x-python",
   "name": "python",
   "nbconvert_exporter": "python",
   "pygments_lexer": "ipython3",
   "version": "3.8.5"
  }
 },
 "nbformat": 4,
 "nbformat_minor": 4
}
