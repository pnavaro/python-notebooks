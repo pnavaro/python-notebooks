{
 "cells": [
  {
   "cell_type": "markdown",
   "metadata": {
    "slideshow": {
     "slide_type": "slide"
    }
   },
   "source": [
    "# Python lists and tuples\n",
    "\n",
    "- List is the most versatile Python data type to group values with others\n",
    "- Can be written as a list of comma-separated values (items) between square brackets. \n",
    "- Tuples are written between parenthesis. They are read-only lists.\n",
    "- Lists can contain items of different types.\n",
    "- Like strings, lists can be indexed and sliced.\n",
    "- Lists also support operations like concatenation.\n"
   ]
  },
  {
   "cell_type": "markdown",
   "metadata": {
    "slideshow": {
     "slide_type": "slide"
    }
   },
   "source": [
    "## Indexing"
   ]
  },
  {
   "cell_type": "code",
   "execution_count": 1,
   "metadata": {
    "execution": {
     "iopub.execute_input": "2020-09-12T13:29:12.745779Z",
     "iopub.status.busy": "2020-09-12T13:29:12.744869Z",
     "iopub.status.idle": "2020-09-12T13:29:12.748472Z",
     "shell.execute_reply": "2020-09-12T13:29:12.749090Z"
    },
    "slideshow": {
     "slide_type": "fragment"
    }
   },
   "outputs": [
    {
     "name": "stdout",
     "output_type": "stream",
     "text": [
      "[1, 4, 9, 16, 25]\n"
     ]
    }
   ],
   "source": [
    "squares = [1, 4, 9, 16, 25]\n",
    "print(squares)"
   ]
  },
  {
   "cell_type": "code",
   "execution_count": 2,
   "metadata": {
    "execution": {
     "iopub.execute_input": "2020-09-12T13:29:12.754254Z",
     "iopub.status.busy": "2020-09-12T13:29:12.753403Z",
     "iopub.status.idle": "2020-09-12T13:29:12.756788Z",
     "shell.execute_reply": "2020-09-12T13:29:12.757376Z"
    },
    "slideshow": {
     "slide_type": "fragment"
    }
   },
   "outputs": [
    {
     "name": "stdout",
     "output_type": "stream",
     "text": [
      "1\n"
     ]
    }
   ],
   "source": [
    "print(squares[0])  # indexing returns the item"
   ]
  },
  {
   "cell_type": "code",
   "execution_count": 3,
   "metadata": {
    "execution": {
     "iopub.execute_input": "2020-09-12T13:29:12.769889Z",
     "iopub.status.busy": "2020-09-12T13:29:12.768834Z",
     "iopub.status.idle": "2020-09-12T13:29:12.772598Z",
     "shell.execute_reply": "2020-09-12T13:29:12.773214Z"
    },
    "slideshow": {
     "slide_type": "fragment"
    }
   },
   "outputs": [
    {
     "data": {
      "text/plain": [
       "25"
      ]
     },
     "execution_count": 3,
     "metadata": {},
     "output_type": "execute_result"
    }
   ],
   "source": [
    "squares[-1]"
   ]
  },
  {
   "cell_type": "code",
   "execution_count": 4,
   "metadata": {
    "execution": {
     "iopub.execute_input": "2020-09-12T13:29:12.778543Z",
     "iopub.status.busy": "2020-09-12T13:29:12.777553Z",
     "iopub.status.idle": "2020-09-12T13:29:12.781187Z",
     "shell.execute_reply": "2020-09-12T13:29:12.781793Z"
    },
    "slideshow": {
     "slide_type": "fragment"
    }
   },
   "outputs": [
    {
     "data": {
      "text/plain": [
       "[9, 16, 25]"
      ]
     },
     "execution_count": 4,
     "metadata": {},
     "output_type": "execute_result"
    }
   ],
   "source": [
    "squares[-3:] # slicing returns a new list"
   ]
  },
  {
   "cell_type": "code",
   "execution_count": 5,
   "metadata": {
    "execution": {
     "iopub.execute_input": "2020-09-12T13:29:12.787020Z",
     "iopub.status.busy": "2020-09-12T13:29:12.786015Z",
     "iopub.status.idle": "2020-09-12T13:29:12.789480Z",
     "shell.execute_reply": "2020-09-12T13:29:12.790070Z"
    },
    "slideshow": {
     "slide_type": "fragment"
    }
   },
   "outputs": [
    {
     "name": "stdout",
     "output_type": "stream",
     "text": [
      "[1, 4, 9, 16, 25, 36, 49, 64, 81, 100]\n"
     ]
    }
   ],
   "source": [
    "squares += [36, 49, 64, 81, 100]\n",
    "print(squares)"
   ]
  },
  {
   "cell_type": "markdown",
   "metadata": {
    "slideshow": {
     "slide_type": "slide"
    }
   },
   "source": [
    "- Unlike strings, which are immutable, lists are a mutable type."
   ]
  },
  {
   "cell_type": "code",
   "execution_count": 6,
   "metadata": {
    "execution": {
     "iopub.execute_input": "2020-09-12T13:29:12.795701Z",
     "iopub.status.busy": "2020-09-12T13:29:12.794693Z",
     "iopub.status.idle": "2020-09-12T13:29:12.798023Z",
     "shell.execute_reply": "2020-09-12T13:29:12.798905Z"
    },
    "slideshow": {
     "slide_type": "fragment"
    }
   },
   "outputs": [
    {
     "name": "stdout",
     "output_type": "stream",
     "text": [
      "[1, 8, 27, 64, 125]\n"
     ]
    }
   ],
   "source": [
    "cubes = [1, 8, 27, 65, 125]  # something's wrong here  \n",
    "cubes[3] = 64  # replace the wrong value, the cube of 4 is 64, not 65!\n",
    "print(cubes)"
   ]
  },
  {
   "cell_type": "code",
   "execution_count": 7,
   "metadata": {
    "execution": {
     "iopub.execute_input": "2020-09-12T13:29:12.804054Z",
     "iopub.status.busy": "2020-09-12T13:29:12.803072Z",
     "iopub.status.idle": "2020-09-12T13:29:12.806388Z",
     "shell.execute_reply": "2020-09-12T13:29:12.806971Z"
    },
    "slideshow": {
     "slide_type": "fragment"
    }
   },
   "outputs": [
    {
     "name": "stdout",
     "output_type": "stream",
     "text": [
      "[1, 8, 27, 64, 125, 216]\n"
     ]
    }
   ],
   "source": [
    "cubes.append(216)  # add the cube of 6\n",
    "print(cubes)"
   ]
  },
  {
   "cell_type": "code",
   "execution_count": 8,
   "metadata": {
    "execution": {
     "iopub.execute_input": "2020-09-12T13:29:12.811662Z",
     "iopub.status.busy": "2020-09-12T13:29:12.810801Z",
     "iopub.status.idle": "2020-09-12T13:29:12.814099Z",
     "shell.execute_reply": "2020-09-12T13:29:12.814722Z"
    },
    "slideshow": {
     "slide_type": "fragment"
    }
   },
   "outputs": [
    {
     "name": "stdout",
     "output_type": "stream",
     "text": [
      "[8, 27, 64, 125, 216]\n"
     ]
    }
   ],
   "source": [
    "cubes.remove(1)\n",
    "print(cubes)"
   ]
  },
  {
   "cell_type": "markdown",
   "metadata": {
    "slideshow": {
     "slide_type": "slide"
    }
   },
   "source": [
    "## Assignment \n",
    "\n",
    "- You can change the size of the list or clear it entirely.\n",
    "- The built-in function len() returns list size.\n",
    "- It is possible to create lists containing other lists."
   ]
  },
  {
   "cell_type": "code",
   "execution_count": 9,
   "metadata": {
    "execution": {
     "iopub.execute_input": "2020-09-12T13:29:12.820266Z",
     "iopub.status.busy": "2020-09-12T13:29:12.819266Z",
     "iopub.status.idle": "2020-09-12T13:29:12.822565Z",
     "shell.execute_reply": "2020-09-12T13:29:12.823166Z"
    },
    "slideshow": {
     "slide_type": "fragment"
    }
   },
   "outputs": [
    {
     "name": "stdout",
     "output_type": "stream",
     "text": [
      "['a', 'b', 'C', 'D', 'E', 'f', 'g']\n"
     ]
    }
   ],
   "source": [
    "letters = ['a', 'b', 'c', 'd', 'e', 'f', 'g']\n",
    "letters[2:5] = ['C', 'D', 'E'] # replace some values\n",
    "print(letters)"
   ]
  },
  {
   "cell_type": "code",
   "execution_count": 10,
   "metadata": {
    "execution": {
     "iopub.execute_input": "2020-09-12T13:29:12.828204Z",
     "iopub.status.busy": "2020-09-12T13:29:12.827288Z",
     "iopub.status.idle": "2020-09-12T13:29:12.830560Z",
     "shell.execute_reply": "2020-09-12T13:29:12.831184Z"
    },
    "slideshow": {
     "slide_type": "fragment"
    }
   },
   "outputs": [
    {
     "name": "stdout",
     "output_type": "stream",
     "text": [
      "['a', 'b', 'f', 'g']\n"
     ]
    }
   ],
   "source": [
    "letters[2:5] = [] # now remove them\n",
    "print(letters)"
   ]
  },
  {
   "cell_type": "code",
   "execution_count": 11,
   "metadata": {
    "execution": {
     "iopub.execute_input": "2020-09-12T13:29:12.836289Z",
     "iopub.status.busy": "2020-09-12T13:29:12.835444Z",
     "iopub.status.idle": "2020-09-12T13:29:12.838009Z",
     "shell.execute_reply": "2020-09-12T13:29:12.838730Z"
    },
    "slideshow": {
     "slide_type": "slide"
    }
   },
   "outputs": [],
   "source": [
    "a = ['a', 'b', 'c']\n",
    "n = [1, 2, 3]\n",
    "x = [a, n]"
   ]
  },
  {
   "cell_type": "code",
   "execution_count": 12,
   "metadata": {
    "execution": {
     "iopub.execute_input": "2020-09-12T13:29:12.843836Z",
     "iopub.status.busy": "2020-09-12T13:29:12.842876Z",
     "iopub.status.idle": "2020-09-12T13:29:12.846357Z",
     "shell.execute_reply": "2020-09-12T13:29:12.847061Z"
    },
    "slideshow": {
     "slide_type": "fragment"
    }
   },
   "outputs": [
    {
     "data": {
      "text/plain": [
       "[['a', 'b', 'c'], [1, 2, 3]]"
      ]
     },
     "execution_count": 12,
     "metadata": {},
     "output_type": "execute_result"
    }
   ],
   "source": [
    "x"
   ]
  },
  {
   "cell_type": "code",
   "execution_count": 13,
   "metadata": {
    "execution": {
     "iopub.execute_input": "2020-09-12T13:29:12.852505Z",
     "iopub.status.busy": "2020-09-12T13:29:12.851527Z",
     "iopub.status.idle": "2020-09-12T13:29:12.855065Z",
     "shell.execute_reply": "2020-09-12T13:29:12.855676Z"
    },
    "slideshow": {
     "slide_type": "fragment"
    }
   },
   "outputs": [
    {
     "data": {
      "text/plain": [
       "['a', 'b', 'c']"
      ]
     },
     "execution_count": 13,
     "metadata": {},
     "output_type": "execute_result"
    }
   ],
   "source": [
    "x[0]"
   ]
  },
  {
   "cell_type": "code",
   "execution_count": 14,
   "metadata": {
    "execution": {
     "iopub.execute_input": "2020-09-12T13:29:12.861181Z",
     "iopub.status.busy": "2020-09-12T13:29:12.860214Z",
     "iopub.status.idle": "2020-09-12T13:29:12.863580Z",
     "shell.execute_reply": "2020-09-12T13:29:12.864191Z"
    },
    "slideshow": {
     "slide_type": "fragment"
    }
   },
   "outputs": [
    {
     "data": {
      "text/plain": [
       "('b', 2)"
      ]
     },
     "execution_count": 14,
     "metadata": {},
     "output_type": "execute_result"
    }
   ],
   "source": [
    "x[0][1], len(x)"
   ]
  },
  {
   "cell_type": "markdown",
   "metadata": {
    "slideshow": {
     "slide_type": "slide"
    }
   },
   "source": [
    "## Assignment, Copy and Reference"
   ]
  },
  {
   "cell_type": "code",
   "execution_count": 15,
   "metadata": {
    "execution": {
     "iopub.execute_input": "2020-09-12T13:29:12.869398Z",
     "iopub.status.busy": "2020-09-12T13:29:12.868528Z",
     "iopub.status.idle": "2020-09-12T13:29:12.871666Z",
     "shell.execute_reply": "2020-09-12T13:29:12.872317Z"
    },
    "slideshow": {
     "slide_type": "fragment"
    }
   },
   "outputs": [
    {
     "name": "stdout",
     "output_type": "stream",
     "text": [
      "b =  [0, 1, 2, 3, 4]\n"
     ]
    }
   ],
   "source": [
    "a = [0, 1, 2, 3, 4]\n",
    "b = a\n",
    "print(\"b = \",b)"
   ]
  },
  {
   "cell_type": "code",
   "execution_count": 16,
   "metadata": {
    "execution": {
     "iopub.execute_input": "2020-09-12T13:29:12.877167Z",
     "iopub.status.busy": "2020-09-12T13:29:12.876246Z",
     "iopub.status.idle": "2020-09-12T13:29:12.879591Z",
     "shell.execute_reply": "2020-09-12T13:29:12.880297Z"
    },
    "slideshow": {
     "slide_type": "fragment"
    }
   },
   "outputs": [
    {
     "name": "stdout",
     "output_type": "stream",
     "text": [
      "a =  [0, 20, 2, 3, 4]\n"
     ]
    }
   ],
   "source": [
    "b[1] = 20        # Change one value in b\n",
    "print(\"a = \",a) # Y"
   ]
  },
  {
   "cell_type": "markdown",
   "metadata": {
    "slideshow": {
     "slide_type": "fragment"
    }
   },
   "source": [
    "**b is a reference to a, they occupy same space memory**"
   ]
  },
  {
   "cell_type": "code",
   "execution_count": 17,
   "metadata": {
    "execution": {
     "iopub.execute_input": "2020-09-12T13:29:12.885869Z",
     "iopub.status.busy": "2020-09-12T13:29:12.884903Z",
     "iopub.status.idle": "2020-09-12T13:29:12.888204Z",
     "shell.execute_reply": "2020-09-12T13:29:12.888832Z"
    },
    "slideshow": {
     "slide_type": "fragment"
    }
   },
   "outputs": [
    {
     "name": "stdout",
     "output_type": "stream",
     "text": [
      "b =  [0, 20, 10, 3, 4]\n",
      "a =  [0, 20, 2, 3, 4]\n"
     ]
    }
   ],
   "source": [
    "b = a[:] # assign a slice of a and you create a new list\n",
    "b[2] = 10\n",
    "print(\"b = \",b)\n",
    "print(\"a = \",a)   "
   ]
  },
  {
   "cell_type": "markdown",
   "metadata": {
    "slideshow": {
     "slide_type": "slide"
    }
   },
   "source": [
    "## Some useful List Methods"
   ]
  },
  {
   "cell_type": "code",
   "execution_count": 18,
   "metadata": {
    "execution": {
     "iopub.execute_input": "2020-09-12T13:29:12.894142Z",
     "iopub.status.busy": "2020-09-12T13:29:12.893229Z",
     "iopub.status.idle": "2020-09-12T13:29:12.896989Z",
     "shell.execute_reply": "2020-09-12T13:29:12.897631Z"
    },
    "slideshow": {
     "slide_type": "fragment"
    }
   },
   "outputs": [
    {
     "data": {
      "text/plain": [
       "['P', 'y', 't', 'h', 'o', 'n', '-', '2', '0', '2', '0']"
      ]
     },
     "execution_count": 18,
     "metadata": {},
     "output_type": "execute_result"
    }
   ],
   "source": [
    "a = list(\"Python-2020\")\n",
    "a"
   ]
  },
  {
   "cell_type": "code",
   "execution_count": 19,
   "metadata": {
    "execution": {
     "iopub.execute_input": "2020-09-12T13:29:12.902916Z",
     "iopub.status.busy": "2020-09-12T13:29:12.901969Z",
     "iopub.status.idle": "2020-09-12T13:29:12.905498Z",
     "shell.execute_reply": "2020-09-12T13:29:12.906111Z"
    },
    "slideshow": {
     "slide_type": "fragment"
    }
   },
   "outputs": [
    {
     "data": {
      "text/plain": [
       "['-', '0', '0', '2', '2', 'P', 'h', 'n', 'o', 't', 'y']"
      ]
     },
     "execution_count": 19,
     "metadata": {},
     "output_type": "execute_result"
    }
   ],
   "source": [
    "a.sort()\n",
    "a"
   ]
  },
  {
   "cell_type": "code",
   "execution_count": 20,
   "metadata": {
    "execution": {
     "iopub.execute_input": "2020-09-12T13:29:12.911751Z",
     "iopub.status.busy": "2020-09-12T13:29:12.910806Z",
     "iopub.status.idle": "2020-09-12T13:29:12.914179Z",
     "shell.execute_reply": "2020-09-12T13:29:12.914883Z"
    },
    "slideshow": {
     "slide_type": "fragment"
    }
   },
   "outputs": [
    {
     "data": {
      "text/plain": [
       "['y', 't', 'o', 'n', 'h', 'P', '2', '2', '0', '0', '-']"
      ]
     },
     "execution_count": 20,
     "metadata": {},
     "output_type": "execute_result"
    }
   ],
   "source": [
    "a.reverse()\n",
    "a"
   ]
  },
  {
   "cell_type": "code",
   "execution_count": 21,
   "metadata": {
    "execution": {
     "iopub.execute_input": "2020-09-12T13:29:12.920278Z",
     "iopub.status.busy": "2020-09-12T13:29:12.919337Z",
     "iopub.status.idle": "2020-09-12T13:29:12.922958Z",
     "shell.execute_reply": "2020-09-12T13:29:12.923543Z"
    },
    "slideshow": {
     "slide_type": "fragment"
    }
   },
   "outputs": [
    {
     "data": {
      "text/plain": [
       "['y', 't', 'o', 'n', 'h', 'P', '2', '2', '0', '0']"
      ]
     },
     "execution_count": 21,
     "metadata": {},
     "output_type": "execute_result"
    }
   ],
   "source": [
    "a.pop() #pop the last item and remove it from the list\n",
    "a"
   ]
  },
  {
   "cell_type": "markdown",
   "metadata": {
    "slideshow": {
     "slide_type": "slide"
    }
   },
   "source": [
    "## Dictionary\n",
    "\n",
    "They are indexed by keys, which are often strings."
   ]
  },
  {
   "cell_type": "code",
   "execution_count": 22,
   "metadata": {
    "execution": {
     "iopub.execute_input": "2020-09-12T13:29:12.928886Z",
     "iopub.status.busy": "2020-09-12T13:29:12.927923Z",
     "iopub.status.idle": "2020-09-12T13:29:12.930464Z",
     "shell.execute_reply": "2020-09-12T13:29:12.931068Z"
    },
    "slideshow": {
     "slide_type": "fragment"
    }
   },
   "outputs": [],
   "source": [
    "person = dict(firstname=\"John\", lastname=\"Smith\", email=\"john.doe@domain.fr\")\n",
    "person['size'] = 1.80\n",
    "person['weight'] = 70"
   ]
  },
  {
   "cell_type": "code",
   "execution_count": 23,
   "metadata": {
    "execution": {
     "iopub.execute_input": "2020-09-12T13:29:12.936239Z",
     "iopub.status.busy": "2020-09-12T13:29:12.935230Z",
     "iopub.status.idle": "2020-09-12T13:29:12.938782Z",
     "shell.execute_reply": "2020-09-12T13:29:12.939389Z"
    },
    "slideshow": {
     "slide_type": "fragment"
    }
   },
   "outputs": [
    {
     "data": {
      "text/plain": [
       "{'firstname': 'John',\n",
       " 'lastname': 'Smith',\n",
       " 'email': 'john.doe@domain.fr',\n",
       " 'size': 1.8,\n",
       " 'weight': 70}"
      ]
     },
     "execution_count": 23,
     "metadata": {},
     "output_type": "execute_result"
    }
   ],
   "source": [
    "person"
   ]
  },
  {
   "cell_type": "code",
   "execution_count": 24,
   "metadata": {
    "execution": {
     "iopub.execute_input": "2020-09-12T13:29:12.944387Z",
     "iopub.status.busy": "2020-09-12T13:29:12.943432Z",
     "iopub.status.idle": "2020-09-12T13:29:12.946841Z",
     "shell.execute_reply": "2020-09-12T13:29:12.947482Z"
    },
    "slideshow": {
     "slide_type": "fragment"
    }
   },
   "outputs": [
    {
     "name": "stdout",
     "output_type": "stream",
     "text": [
      "dict_keys(['firstname', 'lastname', 'email', 'size', 'weight'])\n"
     ]
    }
   ],
   "source": [
    "print(person.keys())"
   ]
  },
  {
   "cell_type": "code",
   "execution_count": 25,
   "metadata": {
    "execution": {
     "iopub.execute_input": "2020-09-12T13:29:12.952314Z",
     "iopub.status.busy": "2020-09-12T13:29:12.951453Z",
     "iopub.status.idle": "2020-09-12T13:29:12.954642Z",
     "shell.execute_reply": "2020-09-12T13:29:12.955291Z"
    },
    "slideshow": {
     "slide_type": "fragment"
    }
   },
   "outputs": [
    {
     "name": "stdout",
     "output_type": "stream",
     "text": [
      "dict_items([('firstname', 'John'), ('lastname', 'Smith'), ('email', 'john.doe@domain.fr'), ('size', 1.8), ('weight', 70)])\n"
     ]
    }
   ],
   "source": [
    "print(person.items())"
   ]
  },
  {
   "cell_type": "markdown",
   "metadata": {
    "slideshow": {
     "slide_type": "slide"
    }
   },
   "source": [
    "## Exercises\n",
    "\n",
    "- Split the string \"python ENSAI 2020\" into the list [\"python\",\"ENSAI\", 2020]\n",
    "- Insert \"september\" and value 7 before 2020 in the result list.\n",
    "- Capitalize the first item to \"Python\"\n",
    "- Create a dictionary with following keys (meeting, month, day, year)\n",
    "- Print out the items.\n",
    "- Append the key \"place\" to this dictionary and set the value to \"ENSAI\".\n",
    "```python\n",
    "['python', 'ENSAI', '2020']\n",
    "['python', 'ENSAI', 'september', 7, '2020']\n",
    "['Python', 'ENSAI', 'september', 7, '2020']\n",
    "{'course': 'Python','september': 'september','day': 7,'year': '2020','place': 'ENSAI'}\n",
    " ```"
   ]
  }
 ],
 "metadata": {
  "kernelspec": {
   "display_name": "Python 3",
   "language": "python",
   "name": "python3"
  },
  "language_info": {
   "codemirror_mode": {
    "name": "ipython",
    "version": 3
   },
   "file_extension": ".py",
   "mimetype": "text/x-python",
   "name": "python",
   "nbconvert_exporter": "python",
   "pygments_lexer": "ipython3",
   "version": "3.8.5"
  }
 },
 "nbformat": 4,
 "nbformat_minor": 4
}
