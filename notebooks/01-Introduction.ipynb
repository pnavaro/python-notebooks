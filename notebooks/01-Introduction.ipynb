{
 "cells": [
  {
   "cell_type": "markdown",
   "id": "1598b3b3",
   "metadata": {},
   "source": [
    "# Introduction"
   ]
  },
  {
   "cell_type": "markdown",
   "id": "e6f2dcbc",
   "metadata": {},
   "source": [
    "![jkvdp_tweet](images/jkvdp_tweet.png)"
   ]
  },
  {
   "cell_type": "markdown",
   "id": "b84640dc",
   "metadata": {},
   "source": [
    "## History\n",
    "\n",
    "- Project initiated by Guido Von Rossum in 1990\n",
    "- Interpreted language written in C.\n",
    "- Widely used in all domains (Web, Data Science, Scientific Computation).\n",
    "- This is a high level language with a simple syntax. \n",
    "- Python types are numerously and powerful.\n",
    "- Bind Python with other languages is easy.\n",
    "- You can perform a lot of operations with very few lines.\n",
    "- Available on all platforms Unix, Windows, Mac OS X...\n",
    "- Many libraries offer Python bindings.\n",
    "- Python 2 is retired use only Python 3\n"
   ]
  },
  {
   "cell_type": "markdown",
   "id": "ea097021",
   "metadata": {},
   "source": [
    "## Python packages\n",
    "\n",
    "- [Awsome Python](https://awesome-python.com) : A curated list of awesome Python frameworks, libraries, software and resources.\n",
    "- [Python for Scientists](https://github.com/TomNicholas/Python-for-Scientists) : A list of recommended Python libraries, and resources, intended for scientific Python users.\n",
    "- [Weekly Python Newsletter](https://importpython.com/newsletter/)\n",
    "- [Real Python Tutorials](https://realpython.com)"
   ]
  },
  {
   "cell_type": "markdown",
   "id": "a8c87f6d",
   "metadata": {},
   "source": [
    "## Performances\n",
    "\n",
    " Python is not fast... but:\n",
    "- Sometimes it is. \n",
    "- Most of operations are optimized.\n",
    "- Package like numpy can reduce the CPU time.\n",
    "- With Python you can save time to achieve your project.\n",
    "\n",
    "Some advices:\n",
    "- Write your program with Python language. \n",
    "- If it is fast enough, be happy.\n",
    "- After profiling, optimize costly parts of your code.\n",
    "\n",
    "\"Premature optimization is the root of all evil\" (Donald Knuth 1974)\n"
   ]
  },
  {
   "cell_type": "markdown",
   "id": "d994bb5b",
   "metadata": {},
   "source": [
    "## Installation\n",
    "\n",
    "Conda is a powerful package manager and environment manager.\n",
    "\n",
    "[Ref: Getting started with conda](https://docs.conda.io/projects/conda/en/latest/user-guide/getting-started.html)\n",
    "\n",
    "- [Anaconda](https://www.anaconda.com/downloads) (large) \n",
    "- [Miniconda](https://conda.io/miniconda.html) (small) \n",
    "- [Miniforge](https://github.com/conda-forge/miniforge/releases) (best)"
   ]
  },
  {
   "cell_type": "markdown",
   "id": "b41249fb",
   "metadata": {},
   "source": [
    "wget https://github.com/conda-forge/miniforge/releases/latest/download/Miniforge3-Linux-x86_64.sh\n",
    "bash Miniforge3-Linux-x86_64.sh -b"
   ]
  },
  {
   "cell_type": "markdown",
   "id": "56109728",
   "metadata": {},
   "source": [
    "##  Open a terminal (Linux/MacOSX) or a Anaconda prompt (Windows)"
   ]
  },
  {
   "cell_type": "markdown",
   "id": "2c0defe6",
   "metadata": {},
   "source": [
    "Verify that conda is installed and running on your system by typing:"
   ]
  },
  {
   "cell_type": "markdown",
   "id": "f6d2511b",
   "metadata": {},
   "source": [
    "```bash\n",
    "~/miniforge3/bin/conda init\n",
    "```"
   ]
  },
  {
   "cell_type": "markdown",
   "id": "17c44325",
   "metadata": {},
   "source": [
    "Conda displays the number of the version that you have installed.\n",
    "\n",
    "If you get an error message, make sure you closed and re-opened the\n",
    "terminal window after installing, or do it now. \n",
    "\n",
    "To update conda to the current version. Type the following:\n",
    "\n",
    "```bash\n",
    "conda update -y conda -n base\n",
    "```"
   ]
  },
  {
   "cell_type": "markdown",
   "id": "808c178b",
   "metadata": {},
   "source": [
    "## Managing channels\n",
    "\n",
    "Conda channels are the locations where packages are stored. We use the [conda-forge](https://conda-forge.org),\n",
    "a good community-led collection of recipes for conda. If you installed [Miniforge](https://github.com/conda-forge/miniforge) you already have a conda specific to conda-forge.\n",
    "\n",
    "```bash\n",
    "conda config --add channels conda-forge \n",
    "conda config --set channel_priority strict\n",
    "```\n",
    "\n",
    "Strict channel priority speed up conda operations and also reduce package incompatibility problems."
   ]
  },
  {
   "cell_type": "markdown",
   "id": "04ba3b4b",
   "metadata": {},
   "source": [
    "## Managing environments\n",
    "\n",
    "Conda allows you to create separate environments containing files, packages,\n",
    "and their dependencies that will not interact with other environments.\n",
    "\n",
    "When you begin using conda, you already have a default environment named\n",
    "``base``. You don't want to put programs into your base environment, though.\n",
    "Create separate environments to keep your programs isolated from each other.\n",
    "\n",
    "### Create a new environment and install a package in it.\n",
    "\n",
    "We will name the environment `test-env` and install the version 3.8 of `python`. At the Anaconda Prompt or in your terminal window, type the following:\n",
    "```bash\n",
    "conda create -y -n test-env python=3.8\n",
    "```"
   ]
  },
  {
   "cell_type": "markdown",
   "id": "0437d8ad",
   "metadata": {},
   "source": [
    "### To use, or \"activate\" the new environment, type the following:\n",
    "\n",
    "```bash\n",
    "conda activate test-env\n",
    "```"
   ]
  },
  {
   "cell_type": "markdown",
   "id": "9276e54b",
   "metadata": {},
   "source": [
    "Now that you are in your ``test-env`` environment, any conda commands you type will go to that environment until you deactivate it.\n",
    "\n",
    "Verify which version of Python is in your current environment:\n",
    "\n",
    "```bash\n",
    "python --version\n",
    "```"
   ]
  },
  {
   "cell_type": "markdown",
   "id": "ad866d93",
   "metadata": {},
   "source": [
    "### To see a list of all your environments, type:"
   ]
  },
  {
   "cell_type": "markdown",
   "id": "53c7dbcc",
   "metadata": {},
   "source": [
    "conda info --envs"
   ]
  },
  {
   "cell_type": "markdown",
   "id": "83e4d10b",
   "metadata": {},
   "source": [
    "The active environment is the one with an asterisk (*).\n",
    "\n",
    "### Change your current environment back to the default (base):\n",
    "\n",
    "```bash\n",
    "conda activate\n",
    "```"
   ]
  },
  {
   "cell_type": "markdown",
   "id": "e0cdb364",
   "metadata": {},
   "source": [
    "## Managing packages\n",
    "\n",
    "- Check to see if a package you have not installed named \"jupyter\" is available from the Anaconda repository (must be connected to the Internet):"
   ]
  },
  {
   "cell_type": "markdown",
   "id": "a0131bdd",
   "metadata": {},
   "source": [
    "conda search jupyter | grep conda-forge"
   ]
  },
  {
   "cell_type": "markdown",
   "id": "502dc672",
   "metadata": {},
   "source": [
    "Conda displays a list of all packages with that name on conda-forge repository, so we know it is available.\n",
    "\n",
    "Install this package into the base environment:\n",
    "\n",
    "```bash\n",
    "conda activate\n",
    "conda install -y jupyter -c conda-forge -n base\n",
    "```"
   ]
  },
  {
   "cell_type": "markdown",
   "id": "454f64c5",
   "metadata": {},
   "source": [
    "Check to see if the newly installed program is in this environment:"
   ]
  },
  {
   "cell_type": "markdown",
   "id": "e891ce09",
   "metadata": {},
   "source": [
    "conda list jupyter"
   ]
  },
  {
   "cell_type": "markdown",
   "id": "9b14da6a",
   "metadata": {},
   "source": [
    "### Update a new conda environment from file\n",
    "\n",
    "Download the file [environment.yml](https://raw.githubusercontent.com/pnavaro/python-notebooks/master/environment.yml).\n",
    "This file contains the packages list for this course. Be aware that it takes time to download and install all packages.\n",
    "\n",
    "```bash\n",
    "conda env update -f environment.yml -n test-env\n",
    "```\n",
    "\n",
    "[Conda envs documentation](https://conda.io/docs/using/envs.html)."
   ]
  },
  {
   "cell_type": "markdown",
   "id": "87c05675",
   "metadata": {},
   "source": [
    "Activating the conda environment will change your shell’s prompt to show what virtual environment you’re using, and modify the environment so that running python will get you that particular version and installation of Python. \n",
    "<pre>\n",
    "$ conda activate test-env\n",
    "(test-env) $ python\n",
    "Python 3.6.2 (default, Jul 17 2017, 16:44:45) \n",
    "[GCC 4.2.1 Compatible Apple LLVM 8.1.0 (clang-802.0.42)] on darwin\n",
    "Type \"help\", \"copyright\", \"credits\" or \"license\" for more information.\n",
    ">>> quit()\n",
    "</pre>\n",
    "\n",
    "**You must do this everytime you open a new terminal**"
   ]
  },
  {
   "cell_type": "markdown",
   "id": "5391f433",
   "metadata": {},
   "source": [
    "## Install the kernel for jupyter\n",
    "\n",
    "```bash\n",
    "conda run -n test-env python -m ipykernel install --user --name test-env\n",
    "```\n",
    "\n",
    "With this command you create the `test-env` kernel with python and all course dependencies.\n",
    "The cell above will give you the path to the python that runs in this notebook."
   ]
  },
  {
   "cell_type": "code",
   "execution_count": null,
   "id": "9e47b02f",
   "metadata": {},
   "outputs": [],
   "source": [
    "import sys\n",
    "print(f\"{sys.executable}\")"
   ]
  },
  {
   "cell_type": "markdown",
   "id": "b9d36a3f",
   "metadata": {},
   "source": [
    "jupyter-kernelspec list"
   ]
  },
  {
   "cell_type": "markdown",
   "id": "c6d4e593",
   "metadata": {},
   "source": [
    "## Mamba\n",
    "\n",
    "Mamba is a parallel reimplementation of the conda package manager in C++. It stays compatible as possible with conda interface. Install mamba from conda-forge:\n",
    "```bash\n",
    "conda install mamba -c conda-forge\n",
    "```\n",
    "\n",
    "To test it you can try to install the metapackage `r-tidyverse` which contains 144 packages.\n",
    "\n",
    "```bash\n",
    "$ time conda create -y r-tidyverse -n condatest\n",
    "real\t1m9.057s\n",
    "$ time mamba create -y r-tidyverse -n mambatest\n",
    "real\t0m32.365s\n",
    "```\n",
    "In this comparison packages are already downloaded, mamba is even better with downloads."
   ]
  },
  {
   "cell_type": "code",
   "execution_count": null,
   "id": "b99552e9",
   "metadata": {
    "endofcell": "--"
   },
   "outputs": [],
   "source": [
    "# ## Jupyter - Start The Notebook\n",
    "#\n",
    "# Open the notebook\n",
    "# ```\n",
    "# git clone https:://github.com/pnavaro/python-notebooks\n",
    "# cd python-notebooks/notebooks\n",
    "# jupyter notebook\n",
    "# ```\n",
    "# You should see the notebook open in your browser. If not, go to http://localhost:8888\n",
    "#\n",
    "# The Jupyter Notebook is an interactive environment for writing and running code. The notebook is capable of running code in a wide range of languages. However, each notebook is associated with Python3 kernel.\n",
    "# -"
   ]
  },
  {
   "cell_type": "markdown",
   "id": "109c8fc1",
   "metadata": {},
   "source": [
    "## Code cells allow you to enter and run code\n",
    "\n",
    "**Make a copy of this notebook by using the File menu.**\n",
    "\n",
    "Run a code cell using `Shift-Enter` or pressing the <button class='btn btn-default btn-xs'><i class=\"icon-step-forward fa fa-step-forward\"></i></button> button in the toolbar above:\n",
    "\n",
    "There are two other keyboard shortcuts for running code:\n",
    "\n",
    "* `Alt-Enter` runs the current cell and inserts a new one below.\n",
    "* `Ctrl-Enter` run the current cell and enters command mode."
   ]
  },
  {
   "cell_type": "markdown",
   "id": "218e7694",
   "metadata": {},
   "source": [
    "\n",
    "\n",
    "## Managing the Kernel\n",
    "\n",
    "Code is run in a separate process called the Kernel.  The Kernel can be interrupted or restarted.  Try running the following cell and then hit the <button class='btn btn-default btn-xs'><i class='icon-stop fa fa-stop'></i></button> button in the toolbar above.\n",
    "\n",
    "The \"Cell\" menu has a number of menu items for running code in different ways. These includes:\n",
    "\n",
    "* Run and Select Below\n",
    "* Run and Insert Below\n",
    "* Run All\n",
    "* Run All Above\n",
    "* Run All Below\n",
    "\n"
   ]
  },
  {
   "cell_type": "markdown",
   "id": "c238f525",
   "metadata": {},
   "source": [
    "## Restarting the kernels\n",
    "\n",
    "The kernel maintains the state of a notebook's computations. You can reset this state by restarting the kernel. This is done by clicking on the <button class='btn btn-default btn-xs'><i class='fa fa-repeat icon-repeat'></i></button> in the toolbar above.\n",
    "\n",
    "\n",
    "Check the [documentation](https://jupyter-notebook.readthedocs.io/en/latest/examples/Notebook/Notebook%20Basics.html)."
   ]
  },
  {
   "cell_type": "markdown",
   "id": "9dfbb8c9",
   "metadata": {},
   "source": [
    "## First program\n",
    "\n",
    "- Print out the string \"Hello world!\" and its type.\n",
    "- Print out the value of `a` variable set to 6625 and its type."
   ]
  },
  {
   "cell_type": "code",
   "execution_count": null,
   "id": "cd574201",
   "metadata": {},
   "outputs": [],
   "source": [
    "s = \"Hello World!\"\n",
    "print(type(s),s)"
   ]
  },
  {
   "cell_type": "code",
   "execution_count": null,
   "id": "8e5901e7",
   "metadata": {},
   "outputs": [],
   "source": [
    "a = 6625\n",
    "print(type(a),a)"
   ]
  },
  {
   "cell_type": "code",
   "execution_count": null,
   "id": "2cd71c40",
   "metadata": {},
   "outputs": [],
   "source": [
    "# a+s"
   ]
  },
  {
   "cell_type": "markdown",
   "id": "83f85935",
   "metadata": {},
   "source": [
    "## Execute using python"
   ]
  },
  {
   "cell_type": "code",
   "execution_count": null,
   "id": "a0ff1a3f",
   "metadata": {},
   "outputs": [],
   "source": [
    "%%file hello.py\n",
    "\n",
    "s = \"Hello World!\"\n",
    "print(type(s),s)\n",
    "a = 6625\n",
    "print(type(a),a)"
   ]
  },
  {
   "cell_type": "markdown",
   "id": "3570393f",
   "metadata": {},
   "source": [
    "```bash\n",
    "$ python3 hello.py\n",
    "<class 'str'> Hello World!\n",
    "<class 'int'> 6625\n",
    "```"
   ]
  },
  {
   "cell_type": "markdown",
   "id": "15ded287",
   "metadata": {},
   "source": [
    "## Execute with ipython\n",
    "```ipython\n",
    "(my-env) $ ipython\n",
    "Python 3.6.3 | packaged by conda-forge | (default, Nov  4 2017, 10:13:32)\n",
    "Type 'copyright', 'credits' or 'license' for more information\n",
    "IPython 6.2.1 -- An enhanced Interactive Python. Type '?' for help.\n",
    "\n",
    "In [1]: run hello.py\n",
    "<class 'str'> Hello World!\n",
    "<class 'int'> 6625\n",
    "```"
   ]
  },
  {
   "cell_type": "code",
   "execution_count": null,
   "id": "ff6c74d9",
   "metadata": {},
   "outputs": [],
   "source": [
    "%run hello.py"
   ]
  },
  {
   "cell_type": "markdown",
   "id": "fb0ce982",
   "metadata": {},
   "source": [
    "## Python Types\n",
    "- Most of Python types are classes, typing is dynamic.\n",
    "- ; symbol can be used to split two Python commands on the same line."
   ]
  },
  {
   "cell_type": "code",
   "execution_count": null,
   "id": "1b9c90e2",
   "metadata": {},
   "outputs": [],
   "source": [
    "s = int(2010); print(type(s))\n",
    "s = 3.14; print(type(s))\n",
    "s = True; print(type(s))\n",
    "s = None; print(type(s))\n",
    "s = 1.0j; print(type(s))\n",
    "s = type(type(s)); print(type(s))"
   ]
  },
  {
   "cell_type": "markdown",
   "id": "785f27c9",
   "metadata": {},
   "source": [
    "## Calculate with Python"
   ]
  },
  {
   "cell_type": "code",
   "execution_count": null,
   "id": "7346fc1d",
   "metadata": {},
   "outputs": [],
   "source": [
    "x = 45        # This is a comment!\n",
    "x += 2        # equivalent to x = x + 2\n",
    "print(x, x > 45)"
   ]
  },
  {
   "cell_type": "code",
   "execution_count": null,
   "id": "0d169754",
   "metadata": {},
   "outputs": [],
   "source": [
    "y = 2.5\n",
    "print(\"x+y=\",x+y, type(x+y))  # Add float to integer, result will be a float"
   ]
  },
  {
   "cell_type": "code",
   "execution_count": null,
   "id": "9b85a9b4",
   "metadata": {},
   "outputs": [],
   "source": [
    "print(x*10/y)   # true division returns a float\n",
    "print(x*10//3)  # floor division discards the fractional part"
   ]
  },
  {
   "cell_type": "code",
   "execution_count": null,
   "id": "bddf52a1",
   "metadata": {},
   "outputs": [],
   "source": [
    "print( x % 8) # the % operator returns the remainder of the division"
   ]
  },
  {
   "cell_type": "code",
   "execution_count": null,
   "id": "ccd32c8b",
   "metadata": {},
   "outputs": [],
   "source": [
    "print( f\" x = {x:05d} \") # You can use C format rules to improve print output"
   ]
  },
  {
   "cell_type": "markdown",
   "id": "2e44c8d6",
   "metadata": {},
   "source": [
    "## Multiple Assignment\n",
    "- Variables can simultaneously get new values. \n",
    "- Expressions on the right-hand side are all evaluated first before assignments take place. \n",
    "- The right-hand side expressions are evaluated from the left to the right.\n",
    "- Use it very carefully"
   ]
  },
  {
   "cell_type": "code",
   "execution_count": null,
   "id": "7fbf2ec3",
   "metadata": {},
   "outputs": [],
   "source": [
    "a = b = c = 1\n",
    "print(a, b, c) "
   ]
  },
  {
   "cell_type": "code",
   "execution_count": null,
   "id": "f6b5bd79",
   "metadata": {},
   "outputs": [],
   "source": [
    "a, b, c = 1, 2, 3\n",
    "print (a, b, c)"
   ]
  },
  {
   "cell_type": "code",
   "execution_count": null,
   "id": "442d350e",
   "metadata": {},
   "outputs": [],
   "source": [
    "a, c = c, a     # Nice way to permute values\n",
    "print (a, b, c) "
   ]
  },
  {
   "cell_type": "code",
   "execution_count": null,
   "id": "0589d629",
   "metadata": {},
   "outputs": [],
   "source": [
    "a < b < c, a > b > c"
   ]
  },
  {
   "cell_type": "markdown",
   "id": "bc9ed609",
   "metadata": {},
   "source": [
    "## `input` Function\n",
    "\n",
    "- Value returned by input is a string.\n",
    "\n",
    "- You must cast input call to get the type you want.\n",
    "```py\n",
    "name = input(\"Please enter your name: \")\n",
    "x = int(input(\"Please enter an integer: \"))\n",
    "L = list(input(\"Please enter 3 integers \"))\n",
    "```\n",
    "Copy-pase code above in three different cells and print returned values.\n"
   ]
  }
 ],
 "metadata": {
  "jupytext": {
   "cell_metadata_filter": "endofcell,-all",
   "cell_metadata_json": true,
   "comment_magics": false,
   "encoding": "# -*- coding: utf-8 -*-",
   "formats": "py:light,notebooks//ipynb"
  },
  "kernelspec": {
   "display_name": "Python 3",
   "language": "python",
   "name": "python3"
  },
  "language_info": {
   "codemirror_mode": {
    "name": "ipython",
    "version": 3
   },
   "file_extension": ".py",
   "mimetype": "text/x-python",
   "name": "python",
   "nbconvert_exporter": "python",
   "pygments_lexer": "ipython3",
   "version": "3.9.5"
  }
 },
 "nbformat": 4,
 "nbformat_minor": 5
}
